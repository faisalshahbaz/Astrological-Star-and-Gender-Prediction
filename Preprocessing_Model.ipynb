{
 "cells": [
  {
   "cell_type": "code",
   "execution_count": 99,
   "metadata": {},
   "outputs": [
    {
     "name": "stdout",
     "output_type": "stream",
     "text": [
      "import files\n"
     ]
    }
   ],
   "source": [
    "#Import Library\n",
    "\n",
    "print(\"import files\")\n",
    "import glob,re\n",
    "from bs4 import BeautifulSoup\n",
    "import pandas as pd\n",
    "from itertools import chain"
   ]
  },
  {
   "cell_type": "code",
   "execution_count": 100,
   "metadata": {
    "pycharm": {
     "name": "#%%\n"
    }
   },
   "outputs": [
    {
     "name": "stdout",
     "output_type": "stream",
     "text": [
      "['blogpost/1000331.female.37.indUnk.Leo.xml', 'blogpost/1000866.female.17.Student.Libra.xml', 'blogpost/1004904.male.23.Arts.Capricorn.xml', 'blogpost/1005076.female.25.Arts.Cancer.xml', 'blogpost/1005545.male.25.Engineering.Sagittarius.xml', 'blogpost/1007188.male.48.Religion.Libra.xml', 'blogpost/100812.female.26.Architecture.Aries.xml', 'blogpost/1008329.female.16.Student.Pisces.xml', 'blogpost/1009572.male.25.indUnk.Cancer.xml', 'blogpost/1011153.female.27.Technology.Virgo.xml', 'blogpost/1011289.female.25.indUnk.Libra.xml', 'blogpost/1011311.female.17.indUnk.Scorpio.xml', 'blogpost/1013637.male.17.RealEstate.Virgo.xml', 'blogpost/1015252.female.23.indUnk.Pisces.xml', 'blogpost/1015556.male.34.Technology.Virgo.xml', 'blogpost/1016560.male.41.Publishing.Sagittarius.xml', 'blogpost/1016738.male.26.Publishing.Libra.xml', 'blogpost/1016787.female.24.Communications-Media.Leo.xml', 'blogpost/1019224.female.27.RealEstate.Libra.xml', 'blogpost/1019622.female.24.indUnk.Aquarius.xml', 'blogpost/1019710.male.16.Student.Pisces.xml', 'blogpost/1021779.female.25.indUnk.Scorpio.xml', 'blogpost/1022037.male.23.indUnk.Cancer.xml', 'blogpost/1022086.female.17.Student.Cancer.xml', 'blogpost/1024234.female.17.indUnk.Libra.xml', 'blogpost/1025783.female.17.Student.Gemini.xml', 'blogpost/1026164.female.23.Education.Aries.xml', 'blogpost/1026443.female.15.Student.Scorpio.xml', 'blogpost/1028027.female.16.indUnk.Libra.xml', 'blogpost/1028257.male.26.Education.Aries.xml', 'blogpost/1029959.male.17.indUnk.Aries.xml', 'blogpost/1031806.male.17.Technology.Sagittarius.xml', 'blogpost/1032153.male.27.Technology.Pisces.xml', 'blogpost/1032591.female.24.Banking.Aquarius.xml', 'blogpost/1032824.female.15.Student.Libra.xml', 'blogpost/1034874.female.43.Publishing.Capricorn.xml', 'blogpost/1039136.male.24.Student.Capricorn.xml', 'blogpost/1039908.female.16.indUnk.Gemini.xml', 'blogpost/1040084.male.17.indUnk.Taurus.xml', 'blogpost/1042993.male.15.Student.Sagittarius.xml', 'blogpost/1043329.male.23.Government.Pisces.xml', 'blogpost/1043569.male.26.indUnk.Virgo.xml', 'blogpost/1043785.female.26.Biotech.Leo.xml', 'blogpost/1044338.female.23.Student.Leo.xml', 'blogpost/1045289.female.25.Arts.Aquarius.xml', 'blogpost/1045316.male.27.Non-Profit.Capricorn.xml', 'blogpost/1045831.male.23.Student.Libra.xml', 'blogpost/1046946.female.25.Arts.Virgo.xml', 'blogpost/1047241.male.16.indUnk.Aries.xml', 'blogpost/1050060.female.24.Student.Pisces.xml', 'blogpost/1051122.female.17.Student.Libra.xml', 'blogpost/1052611.male.23.Student.Aries.xml', 'blogpost/1054833.female.24.indUnk.Scorpio.xml', 'blogpost/1055228.female.16.Student.Cancer.xml', 'blogpost/1056232.female.17.indUnk.Aquarius.xml', 'blogpost/1056581.female.26.indUnk.Leo.xml', 'blogpost/105748.female.26.Student.Scorpio.xml', 'blogpost/1057539.female.33.Telecommunications.Pisces.xml', 'blogpost/1057945.female.26.indUnk.Leo.xml', 'blogpost/1058543.female.24.indUnk.Sagittarius.xml', 'blogpost/1060087.male.27.Arts.Leo.xml', 'blogpost/1060727.female.23.indUnk.Aries.xml', 'blogpost/106160.female.27.Student.Sagittarius.xml', 'blogpost/1062652.female.25.indUnk.Aries.xml', 'blogpost/1063313.female.16.Student.Libra.xml', 'blogpost/1065973.female.23.indUnk.Virgo.xml', 'blogpost/1066127.male.23.Technology.Taurus.xml', 'blogpost/106651.male.25.indUnk.Leo.xml', 'blogpost/1067319.male.26.Non-Profit.Aries.xml', 'blogpost/106738.male.25.Internet.Leo.xml', 'blogpost/1068622.male.24.Government.Aquarius.xml', 'blogpost/1068893.male.25.indUnk.Leo.xml', 'blogpost/1070326.male.24.Government.Aquarius.xml', 'blogpost/1070540.female.36.Technology.Scorpio.xml', 'blogpost/1073035.female.45.Education.Cancer.xml', 'blogpost/1074721.male.23.Student.Aquarius.xml', 'blogpost/1075230.male.17.Student.Cancer.xml', 'blogpost/1076134.female.25.Arts.Gemini.xml', 'blogpost/1076363.male.40.Communications-Media.Pisces.xml', 'blogpost/1077758.male.24.Student.Scorpio.xml', 'blogpost/1077954.male.26.indUnk.Gemini.xml', 'blogpost/1078077.female.38.Arts.Aries.xml', 'blogpost/1078410.male.16.indUnk.Cancer.xml', 'blogpost/1079521.female.24.indUnk.Capricorn.xml', 'blogpost/108212.female.27.Student.Taurus.xml', 'blogpost/1083777.male.27.Technology.Libra.xml', 'blogpost/1084212.female.35.indUnk.Capricorn.xml', 'blogpost/1084668.female.15.Student.Capricorn.xml', 'blogpost/1084944.female.26.Arts.Leo.xml', 'blogpost/1086142.female.24.Arts.Leo.xml', 'blogpost/1086405.male.25.Manufacturing.Taurus.xml', 'blogpost/1087356.female.23.indUnk.Virgo.xml', 'blogpost/108780.female.25.indUnk.Leo.xml', 'blogpost/1088145.male.26.indUnk.Capricorn.xml', 'blogpost/1088782.male.27.Engineering.Aquarius.xml', 'blogpost/1089137.female.17.indUnk.Taurus.xml', 'blogpost/1089661.female.26.indUnk.Libra.xml', 'blogpost/1089670.female.17.Student.Sagittarius.xml', 'blogpost/1090235.female.17.indUnk.Aquarius.xml', 'blogpost/1090547.male.14.Religion.Capricorn.xml', 'blogpost/1091067.male.24.Technology.Cancer.xml', 'blogpost/1091544.male.36.indUnk.Pisces.xml', 'blogpost/1091574.female.15.Student.Taurus.xml', 'blogpost/1091912.female.14.Student.Leo.xml', 'blogpost/1092135.female.17.indUnk.Leo.xml', 'blogpost/1092346.female.16.indUnk.Gemini.xml', 'blogpost/1093457.male.16.Technology.Virgo.xml', 'blogpost/1093691.male.17.Technology.Taurus.xml', 'blogpost/1094221.female.23.Education.Leo.xml', 'blogpost/109656.male.36.LawEnforcement-Security.Pisces.xml', 'blogpost/1097617.female.25.Communications-Media.Sagittarius.xml', 'blogpost/1097941.female.25.Marketing.Pisces.xml', 'blogpost/1098293.male.25.Engineering.Leo.xml', 'blogpost/1098541.male.15.indUnk.Capricorn.xml', 'blogpost/1100515.female.17.Student.Aries.xml', 'blogpost/1101683.female.16.Arts.Libra.xml', 'blogpost/1102011.male.15.Student.Sagittarius.xml', 'blogpost/1103016.male.16.Student.Gemini.xml', 'blogpost/1103084.male.34.Education.Pisces.xml', 'blogpost/1103171.female.25.indUnk.Aries.xml', 'blogpost/1103575.female.17.indUnk.Scorpio.xml', 'blogpost/1104980.male.23.Sports-Recreation.Sagittarius.xml', 'blogpost/1105342.female.33.Internet.Gemini.xml', 'blogpost/1107146.female.16.Student.Libra.xml', 'blogpost/1107975.male.17.Student.Pisces.xml', 'blogpost/1108003.male.36.Internet.Pisces.xml', 'blogpost/110854.male.25.indUnk.Virgo.xml', 'blogpost/1110091.male.36.Technology.Virgo.xml', 'blogpost/1110189.male.23.indUnk.Aries.xml', 'blogpost/1110391.male.27.Law.Cancer.xml', 'blogpost/1110574.female.23.Arts.Aquarius.xml', 'blogpost/1111991.female.33.indUnk.Taurus.xml', 'blogpost/1112526.female.24.indUnk.Sagittarius.xml', 'blogpost/1112708.female.17.indUnk.Cancer.xml', 'blogpost/1112886.female.15.Student.Capricorn.xml', 'blogpost/1113052.female.25.indUnk.Cancer.xml', 'blogpost/1113541.male.26.indUnk.Aries.xml', 'blogpost/1113692.female.25.Non-Profit.Gemini.xml', 'blogpost/1114816.male.47.Technology.Pisces.xml', 'blogpost/1115374.male.17.indUnk.Scorpio.xml', 'blogpost/1117055.female.17.Student.Aquarius.xml', 'blogpost/1117656.male.17.indUnk.Pisces.xml', 'blogpost/1119280.female.27.indUnk.Gemini.xml', 'blogpost/1119650.female.23.Student.Cancer.xml', 'blogpost/1119851.male.17.indUnk.Virgo.xml', 'blogpost/112265.female.23.indUnk.Taurus.xml', 'blogpost/11253.male.26.Technology.Aquarius.xml', 'blogpost/1125373.male.17.Student.Taurus.xml', 'blogpost/1125433.male.48.Military.Aquarius.xml', 'blogpost/1125459.female.16.indUnk.Libra.xml', 'blogpost/1125546.male.27.Law.Aries.xml', 'blogpost/1127124.male.25.indUnk.Gemini.xml', 'blogpost/1130595.male.16.indUnk.Sagittarius.xml', 'blogpost/1131329.male.13.indUnk.Leo.xml', 'blogpost/1131517.female.17.indUnk.Gemini.xml', 'blogpost/1131982.male.24.Government.Libra.xml', 'blogpost/1132409.female.41.indUnk.Taurus.xml', 'blogpost/113390.male.24.Museums-Libraries.Gemini.xml', 'blogpost/1134486.male.45.indUnk.Aquarius.xml', 'blogpost/1135325.male.27.Science.Libra.xml', 'blogpost/1135724.male.34.Internet.Cancer.xml', 'blogpost/1135804.male.33.indUnk.Libra.xml', 'blogpost/1136785.male.17.Student.Pisces.xml', 'blogpost/1137273.male.16.Student.Aquarius.xml', 'blogpost/1137547.female.15.Arts.Scorpio.xml', 'blogpost/1138306.female.17.indUnk.Gemini.xml', 'blogpost/1142598.male.24.indUnk.Aquarius.xml', 'blogpost/1143104.male.23.Student.Gemini.xml', 'blogpost/1143324.male.26.Internet.Virgo.xml', 'blogpost/1144172.male.17.indUnk.Libra.xml', 'blogpost/1145753.male.25.indUnk.Virgo.xml', 'blogpost/114645.male.17.Student.Virgo.xml', 'blogpost/1146482.female.33.indUnk.Virgo.xml', 'blogpost/1149009.male.25.Technology.Gemini.xml', 'blogpost/1149422.female.34.Publishing.Scorpio.xml', 'blogpost/1149997.female.27.indUnk.Leo.xml', 'blogpost/1151815.male.25.Education.Leo.xml', 'blogpost/1152012.female.16.indUnk.Leo.xml', 'blogpost/1153868.male.14.indUnk.Gemini.xml', 'blogpost/1155029.female.17.Student.Leo.xml', 'blogpost/1155573.male.23.indUnk.Leo.xml', 'blogpost/1156278.male.37.Internet.Taurus.xml', 'blogpost/1157144.female.17.Student.Libra.xml', 'blogpost/1157178.female.26.indUnk.Gemini.xml', 'blogpost/1157338.male.25.Technology.Virgo.xml', 'blogpost/1157658.male.25.indUnk.Leo.xml', 'blogpost/1158355.male.15.Student.Leo.xml', 'blogpost/1158868.female.24.Student.Leo.xml', 'blogpost/1159057.male.25.Advertising.Scorpio.xml', 'blogpost/1160168.male.25.Science.Aries.xml', 'blogpost/1162051.female.23.LawEnforcement-Security.Scorpio.xml', 'blogpost/1162265.male.17.Student.Aries.xml', 'blogpost/1163257.female.24.indUnk.Gemini.xml', 'blogpost/1163948.female.24.indUnk.Capricorn.xml', 'blogpost/1164965.male.16.Student.Virgo.xml', 'blogpost/1166708.female.26.Arts.Aquarius.xml', 'blogpost/1169141.male.33.Arts.Capricorn.xml', 'blogpost/1169202.male.26.Science.Libra.xml', 'blogpost/1169580.female.44.Technology.Taurus.xml', 'blogpost/1170834.female.27.Communications-Media.Sagittarius.xml', 'blogpost/1171545.female.17.Non-Profit.Cancer.xml', 'blogpost/1171643.male.16.indUnk.Scorpio.xml', 'blogpost/1173156.male.24.indUnk.Virgo.xml', 'blogpost/1174200.male.17.indUnk.Libra.xml', 'blogpost/11762.female.25.Student.Aries.xml', 'blogpost/1178497.female.23.indUnk.Libra.xml', 'blogpost/1178991.male.24.Technology.Virgo.xml', 'blogpost/1180158.male.23.Consulting.Gemini.xml', 'blogpost/1180573.female.26.Education.Sagittarius.xml', 'blogpost/1183666.male.23.Internet.Aries.xml', 'blogpost/1184801.male.23.Internet.Aries.xml', 'blogpost/1185193.female.17.Student.Leo.xml', 'blogpost/1187430.male.23.Internet.Capricorn.xml', 'blogpost/118791.male.33.Internet.Virgo.xml', 'blogpost/1188176.female.35.Education.Leo.xml', 'blogpost/1190695.male.16.Student.Virgo.xml', 'blogpost/1192293.male.25.Student.Cancer.xml', 'blogpost/1193364.female.16.indUnk.Aries.xml', 'blogpost/1194367.female.17.Law.Scorpio.xml', 'blogpost/1195073.female.15.Student.Libra.xml', 'blogpost/1196077.male.36.Communications-Media.Taurus.xml', 'blogpost/1196970.male.16.indUnk.Sagittarius.xml', 'blogpost/1197086.male.16.Student.Aries.xml', 'blogpost/1197361.female.34.indUnk.Taurus.xml', 'blogpost/1197937.female.23.Student.Scorpio.xml', 'blogpost/1198592.female.24.Accounting.Pisces.xml', 'blogpost/1199195.male.26.LawEnforcement-Security.Taurus.xml', 'blogpost/1199948.male.16.indUnk.Libra.xml', 'blogpost/1202874.male.16.Student.Capricorn.xml', 'blogpost/1203229.male.24.Internet.Scorpio.xml', 'blogpost/1204495.male.17.Student.Leo.xml', 'blogpost/1205193.female.15.indUnk.Scorpio.xml', 'blogpost/1207055.male.15.Arts.Aquarius.xml', 'blogpost/1207422.female.40.Law.Gemini.xml', 'blogpost/1208187.male.17.indUnk.Pisces.xml', 'blogpost/1208423.male.23.Engineering.Aries.xml', 'blogpost/1209241.male.25.Government.Virgo.xml', 'blogpost/1209613.female.35.indUnk.Capricorn.xml', 'blogpost/1209865.female.33.Architecture.Virgo.xml', 'blogpost/1211557.male.16.Student.Virgo.xml', 'blogpost/1211653.male.24.BusinessServices.Taurus.xml', 'blogpost/1214462.male.37.indUnk.Virgo.xml', 'blogpost/1216517.male.24.Education.Leo.xml', 'blogpost/1217528.male.26.Advertising.Libra.xml', 'blogpost/1217864.male.24.Non-Profit.Virgo.xml', 'blogpost/1220898.male.34.indUnk.Taurus.xml', 'blogpost/1221843.male.24.indUnk.Taurus.xml', 'blogpost/122217.male.37.indUnk.Leo.xml', 'blogpost/1222749.male.37.indUnk.Capricorn.xml', 'blogpost/1223044.male.16.indUnk.Sagittarius.xml', 'blogpost/1223561.male.23.Engineering.Cancer.xml', 'blogpost/1224894.female.25.Student.Sagittarius.xml', 'blogpost/1225020.female.16.HumanResources.Scorpio.xml', 'blogpost/1225595.female.16.indUnk.Virgo.xml', 'blogpost/1225881.male.17.Internet.Scorpio.xml', 'blogpost/1226756.male.23.Technology.Leo.xml', 'blogpost/1229858.male.24.indUnk.Leo.xml', 'blogpost/1230289.female.24.Internet.Aries.xml', 'blogpost/1231280.male.23.Student.Libra.xml', 'blogpost/1231380.male.15.indUnk.Aquarius.xml', 'blogpost/1231400.female.24.indUnk.Cancer.xml', 'blogpost/1231733.female.24.Communications-Media.Cancer.xml', 'blogpost/1232234.female.23.Communications-Media.Taurus.xml', 'blogpost/1232458.female.38.indUnk.Cancer.xml', 'blogpost/1233335.male.25.BusinessServices.Sagittarius.xml', 'blogpost/1233687.male.35.Consulting.Aquarius.xml', 'blogpost/1233897.male.17.Technology.Virgo.xml', 'blogpost/1233956.female.17.indUnk.Libra.xml', 'blogpost/1234212.male.27.indUnk.Taurus.xml', 'blogpost/1234631.female.17.indUnk.Aquarius.xml', 'blogpost/1234709.female.17.Student.Leo.xml', 'blogpost/123532.male.39.Advertising.Aries.xml', 'blogpost/1236636.male.24.Arts.Cancer.xml', 'blogpost/1237310.male.38.Arts.Taurus.xml', 'blogpost/1238294.female.33.indUnk.Leo.xml', 'blogpost/1238388.male.17.Student.Cancer.xml', 'blogpost/1239610.male.17.indUnk.Scorpio.xml', 'blogpost/1240274.male.23.Communications-Media.Gemini.xml', 'blogpost/1240631.male.41.Communications-Media.Libra.xml', 'blogpost/1241231.male.37.Technology.Aries.xml', 'blogpost/1241488.female.24.Publishing.Aries.xml', 'blogpost/1241641.male.17.Student.Capricorn.xml', 'blogpost/1242619.female.15.Arts.Capricorn.xml', 'blogpost/1242759.female.16.Arts.Aquarius.xml', 'blogpost/1244732.female.15.indUnk.Leo.xml', 'blogpost/1245629.male.23.Technology.Gemini.xml', 'blogpost/1245805.male.26.indUnk.Gemini.xml', 'blogpost/1246193.male.17.Student.Gemini.xml', 'blogpost/1246850.male.33.Internet.Capricorn.xml', 'blogpost/1247134.male.25.Transportation.Cancer.xml', 'blogpost/1248360.male.42.indUnk.Gemini.xml', 'blogpost/1250730.male.26.indUnk.Cancer.xml', 'blogpost/1251358.female.23.indUnk.Virgo.xml', 'blogpost/1252171.male.14.Student.Sagittarius.xml', 'blogpost/1252620.female.16.Fashion.Pisces.xml', 'blogpost/1253219.female.27.indUnk.Sagittarius.xml', 'blogpost/1254400.male.34.Religion.Leo.xml', 'blogpost/1255416.male.17.Student.Taurus.xml', 'blogpost/1255453.male.17.Consulting.Aquarius.xml', 'blogpost/1255893.male.14.Student.Leo.xml', 'blogpost/1256321.female.25.indUnk.Leo.xml', 'blogpost/1258907.female.15.Student.Taurus.xml', 'blogpost/1259041.female.17.Non-Profit.Taurus.xml', 'blogpost/1259179.female.15.Student.Libra.xml', 'blogpost/1261185.male.25.Technology.Sagittarius.xml', 'blogpost/1261450.male.27.Internet.Aquarius.xml', 'blogpost/1261679.female.16.indUnk.Gemini.xml', 'blogpost/1262059.male.16.Student.Leo.xml', 'blogpost/1263465.male.16.Technology.Scorpio.xml', 'blogpost/1263794.female.17.Student.Cancer.xml', 'blogpost/1264160.male.23.Arts.Pisces.xml', 'blogpost/1266177.male.38.Internet.Taurus.xml', 'blogpost/1266795.female.16.Student.Taurus.xml', 'blogpost/1266843.female.24.Communications-Media.Pisces.xml', 'blogpost/1266861.male.23.Non-Profit.Scorpio.xml', 'blogpost/1267773.male.24.Student.Pisces.xml', 'blogpost/1268682.male.35.indUnk.Pisces.xml', 'blogpost/1269873.male.39.indUnk.Aquarius.xml', 'blogpost/1270372.female.33.Manufacturing.Aries.xml', 'blogpost/1270648.female.23.indUnk.Scorpio.xml', 'blogpost/1273229.male.25.Internet.Cancer.xml', 'blogpost/1273538.male.23.Advertising.Taurus.xml', 'blogpost/1274152.female.34.indUnk.Scorpio.xml', 'blogpost/1274171.male.36.indUnk.Gemini.xml', 'blogpost/1274353.female.17.Student.Leo.xml', 'blogpost/1274564.female.40.Internet.Sagittarius.xml', 'blogpost/1274852.female.27.indUnk.Pisces.xml', 'blogpost/1274993.male.44.indUnk.Gemini.xml', 'blogpost/1276007.male.44.indUnk.Libra.xml', 'blogpost/1277039.male.33.Government.Sagittarius.xml', 'blogpost/1278138.female.26.Education.Pisces.xml', 'blogpost/1279026.male.16.indUnk.Virgo.xml', 'blogpost/1279436.male.34.indUnk.Pisces.xml', 'blogpost/1280497.male.26.Technology.Taurus.xml', 'blogpost/1281160.male.24.Technology.Sagittarius.xml', 'blogpost/1283349.male.16.Student.Aries.xml', 'blogpost/1283465.female.24.indUnk.Leo.xml', 'blogpost/1284157.female.16.Student.Scorpio.xml', 'blogpost/1284564.female.16.indUnk.Pisces.xml', 'blogpost/1284681.male.25.Tourism.Gemini.xml', 'blogpost/1284920.female.15.indUnk.Virgo.xml', 'blogpost/1286861.female.24.Student.Cancer.xml', 'blogpost/1288068.female.23.Education.Sagittarius.xml', 'blogpost/1288281.female.27.Law.Aries.xml', 'blogpost/1288571.male.26.Technology.Leo.xml', 'blogpost/1289910.male.17.indUnk.Scorpio.xml', 'blogpost/1290874.female.24.Non-Profit.Taurus.xml', 'blogpost/129253.female.26.HumanResources.Cancer.xml', 'blogpost/1292625.female.14.indUnk.Taurus.xml', 'blogpost/132808.male.24.Technology.Gemini.xml', 'blogpost/132894.female.26.indUnk.Aries.xml', 'blogpost/133604.female.23.indUnk.Capricorn.xml', 'blogpost/135888.male.23.Banking.Libra.xml', 'blogpost/137626.male.24.indUnk.Gemini.xml', 'blogpost/141799.female.25.Advertising.Pisces.xml', 'blogpost/143781.female.25.Education.Aries.xml', 'blogpost/148638.male.36.Technology.Sagittarius.xml', 'blogpost/151025.female.24.HumanResources.Pisces.xml', 'blogpost/151688.male.27.Communications-Media.Cancer.xml', 'blogpost/152088.female.25.Communications-Media.Aquarius.xml', 'blogpost/152151.female.23.Engineering.Libra.xml', 'blogpost/15365.female.34.indUnk.Cancer.xml', 'blogpost/154141.male.24.Internet.Aries.xml', 'blogpost/155710.male.23.indUnk.Cancer.xml', 'blogpost/167518.male.26.Non-Profit.Scorpio.xml', 'blogpost/171019.female.23.Education.Leo.xml', 'blogpost/171591.male.36.Arts.Capricorn.xml', 'blogpost/172224.male.38.Internet.Scorpio.xml', 'blogpost/174357.female.23.indUnk.Aquarius.xml', 'blogpost/17944.female.39.indUnk.Sagittarius.xml', 'blogpost/180519.female.23.indUnk.Cancer.xml', 'blogpost/182037.female.23.Internet.Aries.xml', 'blogpost/182779.female.27.Internet.Sagittarius.xml', 'blogpost/183163.male.27.Arts.Sagittarius.xml', 'blogpost/183164.female.27.indUnk.Taurus.xml', 'blogpost/185962.male.35.Publishing.Sagittarius.xml', 'blogpost/189575.female.23.indUnk.Libra.xml', 'blogpost/192591.female.27.Education.Cancer.xml', 'blogpost/192731.male.24.indUnk.Leo.xml', 'blogpost/192879.female.26.Arts.Scorpio.xml', 'blogpost/194219.male.27.Communications-Media.Leo.xml', 'blogpost/195160.female.36.Non-Profit.Virgo.xml', 'blogpost/195585.female.25.Sports-Recreation.Scorpio.xml', 'blogpost/202334.male.17.indUnk.Aquarius.xml', 'blogpost/206222.male.24.indUnk.Aries.xml', 'blogpost/206770.male.24.Engineering.Scorpio.xml', 'blogpost/207255.male.40.indUnk.Virgo.xml', 'blogpost/207307.male.36.indUnk.Cancer.xml', 'blogpost/207762.male.44.Internet.Libra.xml', 'blogpost/207842.male.34.indUnk.Taurus.xml', 'blogpost/208684.female.23.Publishing.Capricorn.xml', 'blogpost/209103.female.24.indUnk.Aries.xml', 'blogpost/211214.male.37.Internet.Aquarius.xml', 'blogpost/211333.male.26.Military.Scorpio.xml', 'blogpost/215223.male.41.indUnk.Virgo.xml', 'blogpost/216346.female.25.Internet.Scorpio.xml', 'blogpost/216413.female.26.Law.Cancer.xml', 'blogpost/216442.female.24.indUnk.Capricorn.xml', 'blogpost/216553.male.23.Student.Capricorn.xml', 'blogpost/216833.male.24.Student.Scorpio.xml', 'blogpost/21828.male.40.Internet.Cancer.xml', 'blogpost/219407.male.34.Law.Aquarius.xml', 'blogpost/222435.female.26.Internet.Cancer.xml', 'blogpost/225398.female.16.indUnk.Pisces.xml', 'blogpost/228004.male.25.indUnk.Virgo.xml', 'blogpost/230836.male.25.Engineering.Cancer.xml', 'blogpost/23166.female.25.indUnk.Virgo.xml', 'blogpost/23191.female.23.Advertising.Taurus.xml', 'blogpost/232317.female.25.Communications-Media.Virgo.xml', 'blogpost/233277.male.25.Internet.Virgo.xml', 'blogpost/235374.male.27.Technology.Taurus.xml', 'blogpost/236484.male.25.Education.Gemini.xml', 'blogpost/23676.male.33.Technology.Scorpio.xml', 'blogpost/237056.male.24.indUnk.Scorpio.xml', 'blogpost/238303.female.24.BusinessServices.Leo.xml', 'blogpost/239703.male.47.Internet.Leo.xml', 'blogpost/239860.male.25.indUnk.Leo.xml', 'blogpost/240089.male.24.indUnk.Taurus.xml', 'blogpost/24336.male.24.Technology.Leo.xml', 'blogpost/244521.male.27.indUnk.Aries.xml', 'blogpost/250500.male.44.Communications-Media.Virgo.xml', 'blogpost/258556.female.27.Communications-Media.Libra.xml', 'blogpost/259145.female.17.Accounting.Taurus.xml', 'blogpost/263212.male.23.indUnk.Taurus.xml', 'blogpost/26357.male.27.indUnk.Leo.xml', 'blogpost/265203.male.34.indUnk.Aquarius.xml', 'blogpost/267072.female.33.Arts.Pisces.xml', 'blogpost/269286.male.17.indUnk.Scorpio.xml', 'blogpost/271835.male.24.Technology.Libra.xml', 'blogpost/27603.male.24.Advertising.Sagittarius.xml', 'blogpost/277506.female.25.Communications-Media.Capricorn.xml', 'blogpost/278367.female.16.Student.Scorpio.xml', 'blogpost/278541.male.27.Internet.Scorpio.xml', 'blogpost/280769.male.48.Consulting.Cancer.xml', 'blogpost/282269.female.24.Internet.Sagittarius.xml', 'blogpost/28417.female.24.Arts.Capricorn.xml', 'blogpost/28451.male.27.Internet.Aquarius.xml', 'blogpost/287616.male.43.indUnk.Scorpio.xml', 'blogpost/291361.male.24.Engineering.Capricorn.xml', 'blogpost/293982.female.23.Education.Aries.xml', 'blogpost/296044.male.27.Technology.Capricorn.xml', 'blogpost/298924.male.25.Student.Gemini.xml', 'blogpost/299143.female.23.Engineering.Cancer.xml', 'blogpost/299545.male.25.Technology.Cancer.xml', 'blogpost/300307.male.36.indUnk.Cancer.xml', 'blogpost/303162.female.38.indUnk.Virgo.xml', 'blogpost/305244.male.23.Engineering.Aquarius.xml', 'blogpost/306435.male.24.Technology.Libra.xml', 'blogpost/307112.female.24.Arts.Virgo.xml', 'blogpost/309881.female.24.indUnk.Aries.xml', 'blogpost/313102.male.45.Internet.Pisces.xml', 'blogpost/315751.female.25.indUnk.Sagittarius.xml', 'blogpost/316316.female.24.Education.Virgo.xml', 'blogpost/317450.female.25.indUnk.Taurus.xml', 'blogpost/317581.male.26.Technology.Scorpio.xml', 'blogpost/318564.female.24.indUnk.Virgo.xml', 'blogpost/318908.female.23.indUnk.Sagittarius.xml', 'blogpost/320176.male.45.Publishing.Scorpio.xml', 'blogpost/320317.male.36.Technology.Pisces.xml', 'blogpost/322194.male.27.Technology.Scorpio.xml', 'blogpost/322624.female.17.Non-Profit.Virgo.xml', 'blogpost/324114.female.46.Consulting.Capricorn.xml', 'blogpost/324909.female.25.indUnk.Libra.xml', 'blogpost/404734.female.25.indUnk.Sagittarius.xml', 'blogpost/408720.female.23.indUnk.Cancer.xml', 'blogpost/40964.female.23.RealEstate.Leo.xml', 'blogpost/416458.male.26.Technology.Libra.xml', 'blogpost/416465.male.24.indUnk.Pisces.xml', 'blogpost/416613.female.39.Arts.Scorpio.xml', 'blogpost/419281.female.15.indUnk.Aries.xml', 'blogpost/420039.male.23.Engineering.Capricorn.xml', 'blogpost/420079.male.24.Student.Libra.xml', 'blogpost/420325.male.45.indUnk.Taurus.xml', 'blogpost/424159.female.23.Student.Scorpio.xml', 'blogpost/426718.female.27.Non-Profit.Gemini.xml', 'blogpost/427989.male.23.Internet.Sagittarius.xml', 'blogpost/445168.male.25.indUnk.Leo.xml', 'blogpost/445263.female.33.Student.Capricorn.xml', 'blogpost/445935.male.26.Agriculture.Pisces.xml', 'blogpost/446275.female.17.indUnk.Virgo.xml', 'blogpost/446931.female.17.indUnk.Aries.xml', 'blogpost/449628.male.34.indUnk.Aries.xml', 'blogpost/450169.male.17.indUnk.Sagittarius.xml', 'blogpost/452696.male.47.Student.Aquarius.xml', 'blogpost/461468.male.33.Consulting.Virgo.xml', 'blogpost/461975.male.25.indUnk.Pisces.xml', 'blogpost/462378.female.47.Internet.Aquarius.xml', 'blogpost/463180.male.24.indUnk.Taurus.xml', 'blogpost/463467.female.23.indUnk.Pisces.xml', 'blogpost/46465.male.25.Internet.Virgo.xml', 'blogpost/466858.male.16.Student.Leo.xml', 'blogpost/467705.female.25.indUnk.Libra.xml', 'blogpost/468786.male.45.Religion.Aries.xml', 'blogpost/470861.male.27.indUnk.Cancer.xml', 'blogpost/472101.female.14.Student.Leo.xml', 'blogpost/473457.male.23.indUnk.Gemini.xml', 'blogpost/473812.female.24.indUnk.Cancer.xml', 'blogpost/47519.male.23.Communications-Media.Sagittarius.xml', 'blogpost/475855.female.26.Communications-Media.Virgo.xml', 'blogpost/476109.female.25.indUnk.Taurus.xml', 'blogpost/476271.female.25.Publishing.Pisces.xml', 'blogpost/477017.female.26.Student.Capricorn.xml', 'blogpost/477038.male.35.indUnk.Capricorn.xml', 'blogpost/477665.female.25.indUnk.Leo.xml', 'blogpost/477787.male.25.indUnk.Libra.xml', 'blogpost/479019.male.24.Student.Gemini.xml', 'blogpost/479749.male.34.Technology.Aries.xml', 'blogpost/480727.male.23.indUnk.Pisces.xml', 'blogpost/480848.female.24.indUnk.Virgo.xml', 'blogpost/483062.female.24.indUnk.Scorpio.xml', 'blogpost/483266.male.33.indUnk.Taurus.xml', 'blogpost/484022.male.24.Banking.Aquarius.xml', 'blogpost/48428.female.34.indUnk.Aquarius.xml', 'blogpost/485307.male.17.indUnk.Cancer.xml', 'blogpost/48923.female.23.Student.Virgo.xml', 'blogpost/490262.female.34.Education.Pisces.xml', 'blogpost/490574.female.25.indUnk.Sagittarius.xml', 'blogpost/491348.female.17.Student.Gemini.xml', 'blogpost/495541.male.17.Student.Leo.xml', 'blogpost/49663.male.33.indUnk.Taurus.xml', 'blogpost/497186.female.26.indUnk.Taurus.xml', 'blogpost/498484.female.24.Tourism.Gemini.xml', 'blogpost/498684.male.23.Student.Capricorn.xml', 'blogpost/500372.female.37.Fashion.Pisces.xml', 'blogpost/505174.female.24.indUnk.Aries.xml', 'blogpost/508128.male.27.Consulting.Pisces.xml', 'blogpost/5114.male.25.indUnk.Scorpio.xml', 'blogpost/511641.male.39.Telecommunications.Aries.xml', 'blogpost/511887.female.23.indUnk.Leo.xml', 'blogpost/513525.male.40.Museums-Libraries.Aquarius.xml', 'blogpost/514171.male.24.Student.Aquarius.xml', 'blogpost/514483.male.23.Student.Taurus.xml', 'blogpost/515680.male.23.indUnk.Virgo.xml', 'blogpost/516492.female.37.Museums-Libraries.Aquarius.xml', 'blogpost/516574.male.43.Technology.Aquarius.xml', 'blogpost/517266.male.36.Education.Virgo.xml', 'blogpost/518116.female.27.indUnk.Pisces.xml', 'blogpost/522332.male.23.Transportation.Cancer.xml', 'blogpost/522409.male.23.Student.Scorpio.xml', 'blogpost/529231.male.26.indUnk.Cancer.xml', 'blogpost/529513.male.33.Internet.Taurus.xml', 'blogpost/531918.male.16.Student.Sagittarius.xml', 'blogpost/533593.male.26.Consulting.Libra.xml', 'blogpost/534904.male.24.Student.Aquarius.xml', 'blogpost/535158.male.26.Law.Aquarius.xml', 'blogpost/536510.female.24.RealEstate.Capricorn.xml', 'blogpost/537187.female.34.indUnk.Sagittarius.xml', 'blogpost/539545.female.17.Student.Aries.xml', 'blogpost/543124.female.37.indUnk.Leo.xml', 'blogpost/545238.female.38.indUnk.Gemini.xml', 'blogpost/546236.male.25.Law.Sagittarius.xml', 'blogpost/546545.female.34.indUnk.Leo.xml', 'blogpost/546788.male.42.HumanResources.Pisces.xml', 'blogpost/546850.male.24.indUnk.Aries.xml', 'blogpost/546941.female.25.Fashion.Gemini.xml', 'blogpost/550590.female.25.Student.Aquarius.xml', 'blogpost/554681.female.45.indUnk.Sagittarius.xml', 'blogpost/554868.male.42.indUnk.Aquarius.xml', 'blogpost/554936.male.34.indUnk.Aries.xml', 'blogpost/555462.male.36.Education.Taurus.xml', 'blogpost/555604.male.23.Internet.Leo.xml', 'blogpost/559080.female.39.Arts.Sagittarius.xml', 'blogpost/559292.female.25.indUnk.Taurus.xml', 'blogpost/559410.female.38.Internet.Sagittarius.xml', 'blogpost/562322.male.38.indUnk.Libra.xml', 'blogpost/565353.female.25.indUnk.Cancer.xml', 'blogpost/565751.female.23.indUnk.Taurus.xml', 'blogpost/566970.male.27.indUnk.Libra.xml', 'blogpost/567431.female.23.indUnk.Leo.xml', 'blogpost/567598.female.16.Student.Scorpio.xml', 'blogpost/568146.male.24.indUnk.Libra.xml', 'blogpost/572994.male.24.Religion.Libra.xml', 'blogpost/574985.male.43.Education.Scorpio.xml', 'blogpost/575672.male.17.indUnk.Gemini.xml', 'blogpost/576311.female.34.indUnk.Capricorn.xml', 'blogpost/577518.female.17.Student.Sagittarius.xml', 'blogpost/578591.male.45.Consulting.Libra.xml', 'blogpost/578626.female.34.Education.Gemini.xml', 'blogpost/579034.female.17.Student.Aquarius.xml', 'blogpost/579857.male.23.Education.Capricorn.xml', 'blogpost/580228.male.17.Communications-Media.Libra.xml', 'blogpost/581076.male.37.Arts.Scorpio.xml', 'blogpost/581839.female.16.Student.Taurus.xml', 'blogpost/584088.male.33.Education.Pisces.xml', 'blogpost/584768.male.15.Education.Virgo.xml', 'blogpost/585884.male.17.indUnk.Sagittarius.xml', 'blogpost/587659.male.24.Architecture.Capricorn.xml', 'blogpost/589736.male.35.Technology.Aries.xml', 'blogpost/589895.female.24.Government.Aries.xml', 'blogpost/590639.male.24.Communications-Media.Aries.xml', 'blogpost/594590.male.43.Religion.Libra.xml', 'blogpost/595404.female.48.indUnk.Pisces.xml', 'blogpost/597769.male.16.indUnk.Pisces.xml', 'blogpost/597870.female.33.Internet.Taurus.xml', 'blogpost/598025.female.23.indUnk.Aquarius.xml', 'blogpost/598344.male.17.indUnk.Virgo.xml', 'blogpost/598986.female.25.indUnk.Sagittarius.xml', 'blogpost/599372.male.24.indUnk.Sagittarius.xml', 'blogpost/601519.female.23.Student.Capricorn.xml', 'blogpost/601719.male.16.Student.Taurus.xml', 'blogpost/601845.female.34.Consulting.Scorpio.xml', 'blogpost/605396.male.35.indUnk.Scorpio.xml', 'blogpost/611477.female.16.Student.Libra.xml', 'blogpost/61176.male.33.Technology.Capricorn.xml', 'blogpost/613975.male.16.indUnk.Scorpio.xml', 'blogpost/615945.male.25.Environment.Scorpio.xml', 'blogpost/618655.male.17.Education.Cancer.xml', 'blogpost/619488.female.25.indUnk.Cancer.xml', 'blogpost/619960.male.37.Communications-Media.Libra.xml', 'blogpost/620124.female.25.Arts.Taurus.xml', 'blogpost/621265.male.25.Consulting.Libra.xml', 'blogpost/622934.female.26.Internet.Leo.xml', 'blogpost/623260.female.16.Student.Aries.xml', 'blogpost/623323.male.25.indUnk.Capricorn.xml', 'blogpost/623831.male.24.Arts.Libra.xml', 'blogpost/63420.male.40.Education.Leo.xml', 'blogpost/634667.male.24.indUnk.Libra.xml', 'blogpost/634837.female.23.Education.Cancer.xml', 'blogpost/635936.male.26.Government.Libra.xml', 'blogpost/638526.male.17.indUnk.Gemini.xml', 'blogpost/639335.male.26.indUnk.Virgo.xml', 'blogpost/639993.male.39.Government.Aries.xml', 'blogpost/640439.male.23.Consulting.Scorpio.xml', 'blogpost/640484.female.27.indUnk.Gemini.xml', 'blogpost/64145.male.36.Military.Taurus.xml', 'blogpost/642604.female.25.Student.Aries.xml', 'blogpost/643729.female.25.Student.Sagittarius.xml', 'blogpost/644059.female.25.Engineering.Scorpio.xml', 'blogpost/647085.female.45.indUnk.Leo.xml', 'blogpost/649790.female.24.indUnk.Scorpio.xml', 'blogpost/651477.male.47.Education.Gemini.xml', 'blogpost/652293.male.33.Technology.Gemini.xml', 'blogpost/655250.female.24.indUnk.Cancer.xml', 'blogpost/655331.male.34.Internet.Aquarius.xml', 'blogpost/656452.male.27.Communications-Media.Sagittarius.xml', 'blogpost/657345.male.24.Engineering.Gemini.xml', 'blogpost/658958.male.24.Communications-Media.Leo.xml', 'blogpost/660005.male.14.Student.Cancer.xml', 'blogpost/661255.male.24.Internet.Scorpio.xml', 'blogpost/661265.male.38.indUnk.Gemini.xml', 'blogpost/662223.female.25.indUnk.Virgo.xml', 'blogpost/663735.male.23.indUnk.Libra.xml', 'blogpost/664485.male.25.indUnk.Taurus.xml', 'blogpost/664946.female.38.Publishing.Gemini.xml', 'blogpost/665146.male.15.Student.Taurus.xml', 'blogpost/665284.female.25.Technology.Libra.xml', 'blogpost/665500.male.35.indUnk.Aries.xml', 'blogpost/66895.female.25.Technology.Virgo.xml', 'blogpost/669116.female.26.indUnk.Gemini.xml', 'blogpost/669514.female.27.indUnk.Sagittarius.xml', 'blogpost/669656.female.23.Advertising.Aries.xml', 'blogpost/669719.male.26.Science.Taurus.xml', 'blogpost/669764.female.17.indUnk.Sagittarius.xml', 'blogpost/670277.female.27.Education.Sagittarius.xml', 'blogpost/670314.male.24.indUnk.Leo.xml', 'blogpost/670684.male.24.Student.Libra.xml', 'blogpost/671748.male.27.Communications-Media.Aries.xml', 'blogpost/673093.male.27.Construction.Scorpio.xml', 'blogpost/673235.male.37.Internet.Capricorn.xml', 'blogpost/67459.male.34.Arts.Capricorn.xml', 'blogpost/674684.female.23.Religion.Libra.xml', 'blogpost/674966.female.23.Internet.Virgo.xml', 'blogpost/675101.male.25.Government.Aquarius.xml', 'blogpost/676414.male.25.BusinessServices.Gemini.xml', 'blogpost/676659.male.26.Technology.Leo.xml', 'blogpost/681976.female.26.Science.Pisces.xml', 'blogpost/682991.male.17.Student.Cancer.xml', 'blogpost/683127.male.27.Arts.Scorpio.xml', 'blogpost/683144.male.35.Technology.Libra.xml', 'blogpost/683323.male.23.Consulting.Leo.xml', 'blogpost/686132.female.26.Arts.Aquarius.xml', 'blogpost/686878.male.23.Sports-Recreation.Scorpio.xml', 'blogpost/687054.male.23.indUnk.Capricorn.xml', 'blogpost/688097.male.17.Education.Cancer.xml', 'blogpost/688869.male.17.LawEnforcement-Security.Cancer.xml', 'blogpost/690043.male.34.Non-Profit.Taurus.xml', 'blogpost/691951.female.15.Biotech.Cancer.xml', 'blogpost/692449.male.24.Technology.Scorpio.xml', 'blogpost/696413.male.35.Arts.Virgo.xml', 'blogpost/698314.female.17.Student.Virgo.xml', 'blogpost/698753.female.24.indUnk.Libra.xml', 'blogpost/698778.female.23.indUnk.Pisces.xml', 'blogpost/698952.female.34.indUnk.Sagittarius.xml', 'blogpost/700788.male.23.indUnk.Sagittarius.xml', 'blogpost/701683.male.26.Non-Profit.Taurus.xml', 'blogpost/702465.female.25.indUnk.Leo.xml', 'blogpost/702778.female.23.indUnk.Scorpio.xml', 'blogpost/703953.male.17.indUnk.Scorpio.xml', 'blogpost/705427.male.24.indUnk.Taurus.xml', 'blogpost/705633.male.27.Technology.Gemini.xml', 'blogpost/705850.female.27.Religion.Taurus.xml', 'blogpost/705868.male.25.Internet.Aquarius.xml', 'blogpost/706237.male.27.Arts.Cancer.xml', 'blogpost/709888.female.39.indUnk.Sagittarius.xml', 'blogpost/71075.female.24.Student.Sagittarius.xml', 'blogpost/711096.male.24.indUnk.Libra.xml', 'blogpost/711932.male.27.indUnk.Capricorn.xml', 'blogpost/713224.male.16.Student.Capricorn.xml', 'blogpost/714252.male.25.Technology.Leo.xml', 'blogpost/715237.male.26.indUnk.Virgo.xml', 'blogpost/716609.female.25.Chemicals.Pisces.xml', 'blogpost/718029.female.33.Non-Profit.Cancer.xml', 'blogpost/718851.female.25.Arts.Sagittarius.xml', 'blogpost/718937.female.26.indUnk.Pisces.xml', 'blogpost/720744.female.26.Education.Pisces.xml', 'blogpost/722746.female.48.indUnk.Cancer.xml', 'blogpost/72355.male.27.indUnk.Leo.xml', 'blogpost/724181.male.25.Arts.Gemini.xml', 'blogpost/724360.male.27.indUnk.Taurus.xml', 'blogpost/725171.male.41.Consulting.Taurus.xml', 'blogpost/726975.female.23.indUnk.Aries.xml', 'blogpost/727002.male.23.Internet.Leo.xml', 'blogpost/728227.male.23.Student.Scorpio.xml', 'blogpost/728365.female.24.indUnk.Virgo.xml', 'blogpost/729033.male.25.indUnk.Libra.xml', 'blogpost/729786.female.26.indUnk.Gemini.xml', 'blogpost/730427.male.15.Arts.Capricorn.xml', 'blogpost/730532.female.17.Tourism.Leo.xml', 'blogpost/731614.male.26.Technology.Taurus.xml', 'blogpost/731789.male.23.indUnk.Virgo.xml', 'blogpost/732095.female.23.indUnk.Pisces.xml', 'blogpost/732116.female.25.Accounting.Virgo.xml', 'blogpost/732730.male.15.Student.Sagittarius.xml', 'blogpost/734023.female.14.Student.Cancer.xml', 'blogpost/734562.female.24.Arts.Libra.xml', 'blogpost/735253.male.35.indUnk.Scorpio.xml', 'blogpost/735648.male.27.Communications-Media.Scorpio.xml', 'blogpost/739687.female.17.Student.Cancer.xml', 'blogpost/739729.female.24.Communications-Media.Libra.xml', 'blogpost/741128.male.27.Consulting.Leo.xml', 'blogpost/742744.male.27.Arts.Taurus.xml', 'blogpost/742948.female.26.BusinessServices.Aries.xml', 'blogpost/743007.male.23.Technology.Libra.xml', 'blogpost/743739.male.24.Student.Sagittarius.xml', 'blogpost/745236.female.24.indUnk.Libra.xml', 'blogpost/745350.male.16.Student.Libra.xml', 'blogpost/745567.male.25.Law.Aquarius.xml', 'blogpost/746460.female.24.indUnk.Gemini.xml', 'blogpost/747255.male.27.Technology.Aquarius.xml', 'blogpost/747888.male.23.indUnk.Aries.xml', 'blogpost/748386.female.26.Internet.Taurus.xml', 'blogpost/750267.male.35.Technology.Cancer.xml', 'blogpost/751202.female.33.Internet.Gemini.xml', 'blogpost/751522.female.17.indUnk.Sagittarius.xml', 'blogpost/751740.male.26.Communications-Media.Capricorn.xml', 'blogpost/752072.female.17.indUnk.Scorpio.xml', 'blogpost/754701.male.26.Advertising.Aries.xml', 'blogpost/755231.male.16.Student.Aries.xml', 'blogpost/756373.male.26.Technology.Scorpio.xml', 'blogpost/756402.female.16.indUnk.Cancer.xml', 'blogpost/756463.male.35.Technology.Scorpio.xml', 'blogpost/756492.male.25.Education.Leo.xml', 'blogpost/75671.male.36.Engineering.Aries.xml', 'blogpost/757292.male.25.Student.Leo.xml', 'blogpost/7596.male.26.Internet.Scorpio.xml', 'blogpost/761028.male.27.indUnk.Capricorn.xml', 'blogpost/761044.female.15.indUnk.Aries.xml', 'blogpost/76211.female.27.Internet.Gemini.xml', 'blogpost/762127.male.26.Telecommunications.Capricorn.xml', 'blogpost/764243.female.27.Internet.Virgo.xml', 'blogpost/765488.male.25.Communications-Media.Virgo.xml', 'blogpost/766556.female.34.indUnk.Sagittarius.xml', 'blogpost/769066.male.40.indUnk.Leo.xml', 'blogpost/769189.female.17.Student.Capricorn.xml', 'blogpost/769349.male.34.Arts.Scorpio.xml', 'blogpost/771794.male.23.indUnk.Aquarius.xml', 'blogpost/772682.female.23.Arts.Libra.xml', 'blogpost/773482.male.24.indUnk.Taurus.xml', 'blogpost/775493.male.23.Accounting.Cancer.xml', 'blogpost/776291.male.23.indUnk.Virgo.xml', 'blogpost/776742.male.25.Engineering.Taurus.xml', 'blogpost/778441.male.27.Technology.Libra.xml', 'blogpost/778877.female.47.indUnk.Cancer.xml', 'blogpost/780903.male.25.Student.Aquarius.xml', 'blogpost/78196.female.35.indUnk.Aries.xml', 'blogpost/782203.male.25.Technology.Virgo.xml', 'blogpost/783193.female.15.Student.Capricorn.xml', 'blogpost/786044.male.23.Technology.Scorpio.xml', 'blogpost/786829.female.16.Student.Leo.xml', 'blogpost/788235.female.35.Science.Aquarius.xml', 'blogpost/788358.male.24.Arts.Libra.xml', 'blogpost/788910.male.16.indUnk.Aries.xml', 'blogpost/788927.male.16.Communications-Media.Scorpio.xml', 'blogpost/789637.female.25.indUnk.Libra.xml', 'blogpost/790559.female.34.Internet.Leo.xml', 'blogpost/790651.male.33.Telecommunications.Aquarius.xml', 'blogpost/791676.male.25.indUnk.Sagittarius.xml', 'blogpost/791840.male.38.Student.Aries.xml', 'blogpost/792049.male.17.indUnk.Aquarius.xml', 'blogpost/792246.male.17.Student.Virgo.xml', 'blogpost/792437.female.24.Education.Gemini.xml', 'blogpost/792439.male.26.Student.Aquarius.xml', 'blogpost/794223.female.23.Student.Aries.xml', 'blogpost/794491.male.23.Arts.Sagittarius.xml', 'blogpost/794646.female.17.indUnk.Aries.xml', 'blogpost/795131.female.39.Technology.Scorpio.xml', 'blogpost/796779.male.25.indUnk.Leo.xml', 'blogpost/797269.female.15.Student.Libra.xml', 'blogpost/798653.male.26.indUnk.Aquarius.xml', 'blogpost/799191.female.25.indUnk.Libra.xml', 'blogpost/799228.male.25.indUnk.Leo.xml', 'blogpost/799700.female.26.indUnk.Gemini.xml', 'blogpost/799760.male.26.indUnk.Cancer.xml', 'blogpost/800231.female.15.Student.Virgo.xml', 'blogpost/800873.male.27.Education.Aquarius.xml', 'blogpost/801102.female.23.Advertising.Aquarius.xml', 'blogpost/801180.male.36.Technology.Pisces.xml', 'blogpost/801554.male.17.Student.Pisces.xml', 'blogpost/801916.female.23.Advertising.Taurus.xml', 'blogpost/805451.female.27.Education.Libra.xml', 'blogpost/807398.female.27.indUnk.Sagittarius.xml', 'blogpost/808099.female.26.indUnk.Cancer.xml', 'blogpost/808956.female.25.Government.Aries.xml', 'blogpost/813360.female.23.BusinessServices.Capricorn.xml', 'blogpost/813893.female.17.indUnk.Taurus.xml', 'blogpost/814486.male.26.Internet.Cancer.xml', 'blogpost/815368.male.23.Student.Sagittarius.xml', 'blogpost/815531.female.23.indUnk.Leo.xml', 'blogpost/815748.male.16.Student.Leo.xml', 'blogpost/817097.female.26.Student.Taurus.xml', 'blogpost/8173.male.42.indUnk.Capricorn.xml', 'blogpost/819785.male.23.Student.Taurus.xml', 'blogpost/823125.male.43.indUnk.Aquarius.xml', 'blogpost/823780.male.17.Education.Scorpio.xml', 'blogpost/824183.female.38.indUnk.Scorpio.xml', 'blogpost/824204.female.23.Student.Taurus.xml', 'blogpost/825029.female.17.Student.Aries.xml', 'blogpost/826407.male.25.Education.Pisces.xml', 'blogpost/826496.male.26.Publishing.Cancer.xml', 'blogpost/827534.female.33.indUnk.Sagittarius.xml', 'blogpost/828046.male.25.Arts.Gemini.xml', 'blogpost/828248.male.25.InvestmentBanking.Scorpio.xml', 'blogpost/828778.male.23.Sports-Recreation.Sagittarius.xml', 'blogpost/829324.male.26.Student.Aquarius.xml', 'blogpost/831082.male.23.indUnk.Scorpio.xml', 'blogpost/831233.male.16.indUnk.Taurus.xml', 'blogpost/831241.female.40.indUnk.Cancer.xml', 'blogpost/832265.male.27.Technology.Libra.xml', 'blogpost/8349.male.24.Consulting.Cancer.xml', 'blogpost/834914.male.24.indUnk.Aries.xml', 'blogpost/837532.female.15.Student.Scorpio.xml', 'blogpost/838162.male.25.Student.Capricorn.xml', 'blogpost/841771.female.25.indUnk.Sagittarius.xml', 'blogpost/841857.female.17.indUnk.Virgo.xml', 'blogpost/843566.female.26.indUnk.Scorpio.xml', 'blogpost/844074.female.25.indUnk.Gemini.xml', 'blogpost/848630.female.23.indUnk.Cancer.xml', 'blogpost/849453.female.39.Transportation.Leo.xml', 'blogpost/851693.female.15.Student.Aquarius.xml', 'blogpost/853190.female.35.Law.Pisces.xml', 'blogpost/853818.male.39.BusinessServices.Leo.xml', 'blogpost/854866.female.33.indUnk.Pisces.xml', 'blogpost/854956.female.23.Student.Leo.xml', 'blogpost/854992.female.17.Student.Aries.xml', 'blogpost/855133.male.25.Communications-Media.Cancer.xml', 'blogpost/85757.male.24.Marketing.Libra.xml', 'blogpost/858436.female.15.Student.Scorpio.xml', 'blogpost/860293.female.25.Law.Sagittarius.xml', 'blogpost/861706.male.24.indUnk.Sagittarius.xml', 'blogpost/862379.female.25.Science.Virgo.xml', 'blogpost/863416.female.25.indUnk.Pisces.xml', 'blogpost/864944.male.27.Technology.Aries.xml', 'blogpost/865087.male.25.Internet.Sagittarius.xml', 'blogpost/865721.female.24.BusinessServices.Virgo.xml', 'blogpost/867406.male.36.Internet.Leo.xml', 'blogpost/867772.female.16.Student.Taurus.xml', 'blogpost/869292.male.34.Advertising.Sagittarius.xml', 'blogpost/870139.female.24.Non-Profit.Gemini.xml', 'blogpost/870741.female.17.indUnk.Sagittarius.xml', 'blogpost/870843.male.17.Student.Sagittarius.xml', 'blogpost/871501.female.27.Marketing.Gemini.xml', 'blogpost/873288.female.23.Arts.Capricorn.xml', 'blogpost/876950.male.26.Law.Scorpio.xml', 'blogpost/877201.female.23.indUnk.Leo.xml', 'blogpost/877254.female.27.indUnk.Aries.xml', 'blogpost/878542.male.23.Technology.Leo.xml', 'blogpost/878554.female.24.Accounting.Aquarius.xml', 'blogpost/880351.male.16.Arts.Pisces.xml', 'blogpost/880440.female.33.indUnk.Scorpio.xml', 'blogpost/880688.female.25.Science.Leo.xml', 'blogpost/882528.male.17.indUnk.Gemini.xml', 'blogpost/882573.female.23.Communications-Media.Virgo.xml', 'blogpost/883178.male.36.Fashion.Aries.xml', 'blogpost/883838.female.48.indUnk.Pisces.xml', 'blogpost/884715.male.33.BusinessServices.Aquarius.xml', 'blogpost/886442.female.27.Student.Cancer.xml', 'blogpost/886530.male.17.indUnk.Virgo.xml', 'blogpost/887044.female.23.indUnk.Pisces.xml', 'blogpost/887681.female.26.Religion.Taurus.xml', 'blogpost/888601.female.24.indUnk.Libra.xml', 'blogpost/889280.female.17.Student.Aries.xml', 'blogpost/889780.female.23.indUnk.Sagittarius.xml', 'blogpost/889952.male.17.indUnk.Gemini.xml', 'blogpost/890034.female.23.indUnk.Scorpio.xml', 'blogpost/890200.female.16.indUnk.Sagittarius.xml', 'blogpost/891211.female.25.indUnk.Scorpio.xml', 'blogpost/891544.male.27.Student.Libra.xml', 'blogpost/891567.female.17.indUnk.Libra.xml', 'blogpost/891800.female.26.Law.Virgo.xml', 'blogpost/892064.male.26.Student.Sagittarius.xml', 'blogpost/892173.female.14.indUnk.Libra.xml', 'blogpost/894444.female.26.indUnk.Taurus.xml', 'blogpost/894913.male.33.Arts.Sagittarius.xml', 'blogpost/894945.male.27.Technology.Cancer.xml', 'blogpost/896120.female.24.Education.Capricorn.xml', 'blogpost/896714.female.23.Arts.Scorpio.xml', 'blogpost/898887.male.24.indUnk.Gemini.xml', 'blogpost/899153.female.27.Religion.Gemini.xml', 'blogpost/902155.male.17.Non-Profit.Taurus.xml', 'blogpost/902615.female.25.indUnk.Aquarius.xml', 'blogpost/904488.male.26.indUnk.Gemini.xml', 'blogpost/90637.female.36.InvestmentBanking.Gemini.xml', 'blogpost/906582.female.25.Engineering.Taurus.xml', 'blogpost/906909.male.24.Education.Libra.xml', 'blogpost/907388.male.24.Student.Pisces.xml', 'blogpost/907450.male.25.indUnk.Aries.xml', 'blogpost/908196.male.43.indUnk.Virgo.xml', 'blogpost/908687.female.24.indUnk.Pisces.xml', 'blogpost/911744.male.23.Telecommunications.Capricorn.xml', 'blogpost/913315.male.25.Communications-Media.Aquarius.xml', 'blogpost/91374.male.26.indUnk.Taurus.xml', 'blogpost/917508.male.23.Government.Pisces.xml', 'blogpost/917929.male.24.Government.Aquarius.xml', 'blogpost/918175.female.27.indUnk.Aquarius.xml', 'blogpost/918312.female.27.Communications-Media.Scorpio.xml', 'blogpost/918695.female.16.Student.Aquarius.xml', 'blogpost/918871.male.17.Automotive.Leo.xml', 'blogpost/91888.male.36.Internet.Scorpio.xml', 'blogpost/919128.male.26.Law.Capricorn.xml', 'blogpost/920212.female.23.indUnk.Cancer.xml', 'blogpost/923591.female.25.indUnk.Leo.xml', 'blogpost/925742.male.16.Student.Gemini.xml', 'blogpost/926889.male.24.Communications-Media.Aquarius.xml', 'blogpost/928151.female.24.Student.Libra.xml', 'blogpost/928859.female.41.Military.Virgo.xml', 'blogpost/9289.male.23.Marketing.Taurus.xml', 'blogpost/936098.male.17.Student.Gemini.xml', 'blogpost/936136.female.25.Telecommunications.Leo.xml', 'blogpost/937962.female.17.Student.Aquarius.xml', 'blogpost/939295.male.26.Internet.Gemini.xml', 'blogpost/939313.male.25.Marketing.Aries.xml', 'blogpost/941330.male.17.Student.Taurus.xml', 'blogpost/942103.male.38.Technology.Virgo.xml', 'blogpost/942828.female.34.indUnk.Cancer.xml', 'blogpost/944400.female.24.indUnk.Scorpio.xml', 'blogpost/944569.female.14.Student.Leo.xml', 'blogpost/944615.female.23.indUnk.Pisces.xml', 'blogpost/946506.female.25.Education.Aquarius.xml', 'blogpost/946952.female.25.Education.Leo.xml', 'blogpost/9470.male.25.Communications-Media.Aries.xml', 'blogpost/947299.male.24.Law.Gemini.xml', 'blogpost/949621.female.23.indUnk.Aquarius.xml', 'blogpost/950122.female.15.Student.Virgo.xml', 'blogpost/951136.female.16.Student.Libra.xml', 'blogpost/95161.male.39.indUnk.Capricorn.xml', 'blogpost/951683.male.23.indUnk.Libra.xml', 'blogpost/953390.male.16.Student.Pisces.xml', 'blogpost/955372.female.16.Student.Aries.xml', 'blogpost/956192.male.33.Internet.Virgo.xml', 'blogpost/956218.female.33.Biotech.Capricorn.xml', 'blogpost/956420.male.26.Technology.Cancer.xml', 'blogpost/956611.female.26.indUnk.Gemini.xml', 'blogpost/958176.male.17.Non-Profit.Gemini.xml', 'blogpost/961402.male.17.Student.Aquarius.xml', 'blogpost/963380.male.24.Student.Cancer.xml', 'blogpost/96600.female.27.Construction.Virgo.xml', 'blogpost/966107.male.27.Technology.Sagittarius.xml', 'blogpost/966973.female.24.indUnk.Sagittarius.xml', 'blogpost/968707.female.27.Banking.Sagittarius.xml', 'blogpost/970036.male.23.Student.Libra.xml', 'blogpost/970774.male.25.Banking.Taurus.xml', 'blogpost/971317.female.24.indUnk.Aquarius.xml', 'blogpost/973521.female.34.Religion.Taurus.xml', 'blogpost/97387.male.23.Arts.Sagittarius.xml', 'blogpost/977947.female.17.indUnk.Aries.xml', 'blogpost/978748.male.14.Student.Aquarius.xml', 'blogpost/979795.male.26.Technology.Taurus.xml', 'blogpost/980769.male.25.indUnk.Capricorn.xml', 'blogpost/980975.female.16.indUnk.Pisces.xml', 'blogpost/983202.male.16.indUnk.Gemini.xml', 'blogpost/983609.male.24.Non-Profit.Gemini.xml', 'blogpost/984615.female.27.Technology.Aquarius.xml', 'blogpost/986006.female.23.indUnk.Taurus.xml', 'blogpost/987163.female.23.Education.Leo.xml', 'blogpost/987614.female.16.Student.Gemini.xml', 'blogpost/988941.female.17.Student.Capricorn.xml', 'blogpost/989359.female.24.Arts.Sagittarius.xml', 'blogpost/990045.female.23.indUnk.Gemini.xml', 'blogpost/991110.female.24.Education.Aquarius.xml', 'blogpost/992078.male.17.indUnk.Scorpio.xml', 'blogpost/99290.male.34.Internet.Sagittarius.xml', 'blogpost/99382.male.25.indUnk.Aquarius.xml', 'blogpost/993945.female.25.HumanResources.Leo.xml', 'blogpost/994348.female.27.indUnk.Pisces.xml', 'blogpost/994616.male.17.Student.Libra.xml', 'blogpost/996147.female.36.Telecommunications.Leo.xml', 'blogpost/997488.male.25.indUnk.Cancer.xml', 'blogpost/998237.female.16.indUnk.Virgo.xml', 'blogpost/998966.male.27.indUnk.Taurus.xml', 'blogpost/999503.male.25.Internet.Cancer.xml']\n"
     ]
    }
   ],
   "source": [
    "#Get All images in path list\n",
    "\n",
    "path = glob.glob('blogpost/*.xml')\n",
    "print(sorted(path))"
   ]
  },
  {
   "cell_type": "code",
   "execution_count": 101,
   "metadata": {
    "pycharm": {
     "name": "#%%\n"
    }
   },
   "outputs": [
    {
     "name": "stdout",
     "output_type": "stream",
     "text": [
      "['male', 'male', 'female', 'female', 'female', 'male', 'female', 'male', 'female', 'male', 'female', 'male', 'male', 'male', 'male', 'male', 'female', 'female', 'female', 'male', 'male', 'female', 'male', 'female', 'male', 'male', 'male', 'male', 'male', 'male', 'female', 'female', 'female', 'male', 'female', 'female', 'male', 'male', 'male', 'female', 'male', 'female', 'female', 'male', 'female', 'male', 'male', 'male', 'male', 'male', 'female', 'male', 'female', 'female', 'female', 'male', 'male', 'male', 'female', 'female', 'female', 'male', 'female', 'male', 'male', 'male', 'female', 'female', 'female', 'male', 'female', 'female', 'male', 'male', 'female', 'male', 'male', 'female', 'female', 'male', 'male', 'male', 'male', 'female', 'female', 'male', 'female', 'female', 'female', 'male', 'male', 'male', 'female', 'female', 'male', 'male', 'male', 'male', 'female', 'female', 'male', 'male', 'male', 'male', 'male', 'female', 'female', 'male', 'female', 'male', 'female', 'female', 'male', 'female', 'female', 'male', 'female', 'female', 'male', 'male', 'female', 'male', 'male', 'male', 'female', 'male', 'male', 'male', 'male', 'male', 'female', 'male', 'male', 'female', 'female', 'male', 'male', 'female', 'female', 'female', 'male', 'female', 'male', 'female', 'female', 'female', 'female', 'female', 'female', 'female', 'female', 'male', 'male', 'female', 'male', 'male', 'female', 'female', 'male', 'male', 'male', 'male', 'female', 'female', 'female', 'male', 'male', 'male', 'male', 'male', 'male', 'male', 'female', 'female', 'male', 'female', 'male', 'female', 'male', 'male', 'female', 'female', 'female', 'female', 'male', 'female', 'female', 'female', 'female', 'male', 'female', 'female', 'female', 'male', 'male', 'male', 'male', 'male', 'female', 'female', 'female', 'male', 'female', 'male', 'female', 'male', 'male', 'female', 'female', 'male', 'male', 'female', 'male', 'female', 'female', 'female', 'male', 'female', 'female', 'female', 'male', 'male', 'female', 'female', 'female', 'male', 'male', 'male', 'female', 'male', 'female', 'female', 'female', 'female', 'female', 'female', 'male', 'female', 'female', 'female', 'female', 'female', 'female', 'female', 'male', 'female', 'female', 'female', 'female', 'female', 'male', 'female', 'male', 'female', 'female', 'female', 'female', 'female', 'female', 'male', 'female', 'male', 'male', 'male', 'male', 'female', 'male', 'female', 'female', 'male', 'female', 'male', 'female', 'male', 'female', 'male', 'male', 'female', 'female', 'male', 'female', 'male', 'male', 'male', 'female', 'male', 'male', 'male', 'male', 'male', 'female', 'female', 'male', 'female', 'female', 'male', 'female', 'male', 'male', 'male', 'male', 'female', 'male', 'male', 'female', 'female', 'female', 'male', 'female', 'female', 'female', 'female', 'male', 'female', 'female', 'male', 'male', 'female', 'male', 'male', 'female', 'male', 'male', 'male', 'female', 'male', 'male', 'female', 'male', 'female', 'male', 'male', 'male', 'female', 'male', 'female', 'female', 'male', 'male', 'male', 'male', 'male', 'male', 'male', 'female', 'female', 'female', 'male', 'male', 'female', 'female', 'male', 'male', 'male', 'male', 'male', 'male', 'female', 'male', 'male', 'male', 'female', 'female', 'female', 'female', 'female', 'female', 'male', 'female', 'male', 'male', 'male', 'male', 'male', 'male', 'male', 'male', 'male', 'male', 'male', 'female', 'female', 'female', 'male', 'female', 'female', 'male', 'female', 'female', 'female', 'male', 'male', 'male', 'male', 'male', 'male', 'male', 'male', 'female', 'male', 'male', 'male', 'female', 'male', 'male', 'female', 'female', 'female', 'male', 'female', 'male', 'female', 'female', 'male', 'male', 'male', 'female', 'female', 'female', 'female', 'female', 'male', 'male', 'female', 'female', 'male', 'male', 'female', 'male', 'male', 'male', 'female', 'male', 'male', 'female', 'female', 'female', 'male', 'male', 'male', 'male', 'male', 'male', 'male', 'male', 'male', 'male', 'female', 'male', 'male', 'female', 'female', 'male', 'female', 'male', 'female', 'male', 'male', 'female', 'male', 'female', 'female', 'male', 'male', 'female', 'female', 'female', 'female', 'female', 'male', 'male', 'male', 'male', 'female', 'male', 'male', 'male', 'female', 'female', 'female', 'male', 'male', 'male', 'male', 'male', 'male', 'female', 'female', 'female', 'male', 'female', 'male', 'female', 'male', 'female', 'female', 'male', 'male', 'female', 'male', 'female', 'female', 'female', 'female', 'male', 'male', 'female', 'male', 'female', 'male', 'female', 'female', 'male', 'female', 'female', 'male', 'female', 'male', 'female', 'female', 'male', 'female', 'female', 'male', 'male', 'female', 'male', 'female', 'male', 'male', 'male', 'male', 'male', 'female', 'male', 'female', 'female', 'male', 'male', 'female', 'male', 'male', 'male', 'male', 'male', 'male', 'male', 'female', 'male', 'female', 'male', 'female', 'male', 'male', 'male', 'male', 'female', 'male', 'female', 'male', 'male', 'female', 'male', 'female', 'male', 'female', 'male', 'female', 'male', 'female', 'male', 'male', 'male', 'male', 'female', 'male', 'female', 'male', 'female', 'male', 'female', 'male', 'male', 'male', 'female', 'male', 'male', 'male', 'male', 'male', 'female', 'male', 'female', 'female', 'female', 'female', 'female', 'female', 'female', 'male', 'female', 'female', 'male', 'female', 'female', 'female', 'male', 'female', 'male', 'female', 'female', 'female', 'male', 'male', 'female', 'male', 'female', 'male', 'male', 'male', 'female', 'male', 'female', 'male', 'male', 'male', 'male', 'male', 'male', 'female', 'male', 'female', 'female', 'male', 'male', 'male', 'female', 'male', 'male', 'female', 'male', 'female', 'male', 'female', 'female', 'male', 'female', 'female', 'female', 'male', 'female', 'male', 'male', 'male', 'male', 'female', 'female', 'female', 'female', 'male', 'male', 'female', 'female', 'male', 'male', 'female', 'male', 'male', 'female', 'female', 'male', 'male', 'female', 'female', 'female', 'male', 'male', 'female', 'female', 'female', 'male', 'male', 'male', 'female', 'female', 'female', 'female', 'male', 'male', 'male', 'male', 'male', 'male', 'female', 'male', 'female', 'male', 'male', 'male', 'male', 'male', 'male', 'female', 'male', 'male', 'female', 'male', 'male', 'male', 'female', 'male', 'male', 'male', 'male', 'male', 'male', 'female', 'male', 'female', 'female', 'female', 'female', 'female', 'male', 'male', 'male', 'male', 'male', 'male', 'female', 'male', 'male', 'female', 'female', 'male', 'male', 'female', 'female', 'male', 'male', 'female', 'male', 'male', 'male', 'male', 'female', 'male', 'female', 'male', 'male', 'female', 'female', 'male', 'female', 'female', 'female', 'male', 'male', 'male', 'male', 'male', 'female', 'female', 'female', 'female', 'female', 'female', 'female', 'male', 'female', 'male', 'female', 'male', 'female', 'male', 'male', 'male', 'male', 'male', 'female', 'male', 'female', 'male', 'female', 'male', 'female', 'male', 'female', 'female', 'male', 'male', 'male', 'female', 'female', 'male', 'male', 'male', 'male', 'male', 'male', 'female', 'male', 'male', 'male', 'female', 'male', 'female', 'male', 'female', 'female', 'female', 'female', 'male', 'male', 'female', 'female', 'female', 'female', 'male', 'male', 'female', 'female', 'female', 'female', 'male', 'male', 'male', 'male', 'female', 'female', 'male', 'female', 'female', 'male', 'male', 'male', 'female', 'female', 'male', 'male', 'female', 'male', 'female', 'male', 'male', 'male', 'female', 'female', 'female', 'female', 'male', 'female', 'female', 'female', 'female', 'female', 'male', 'male', 'male', 'male', 'female', 'male', 'female', 'male', 'female', 'male', 'male', 'female', 'female', 'male', 'female', 'female', 'male', 'male', 'male', 'male', 'male', 'male', 'female', 'male', 'female', 'female', 'male', 'female', 'female', 'female', 'female', 'male', 'female', 'male', 'female', 'male', 'male', 'female', 'male', 'female', 'male', 'male', 'male', 'female', 'female', 'female', 'female', 'female', 'male', 'female', 'male', 'male', 'male', 'female', 'male', 'female', 'female', 'male', 'male', 'female', 'male', 'female', 'male', 'female', 'female', 'male', 'female', 'male', 'female', 'male', 'male', 'male', 'female', 'male', 'male', 'male', 'female', 'male', 'male', 'male', 'male', 'male', 'female', 'male', 'male', 'male', 'female', 'female', 'male', 'male', 'male', 'male', 'female', 'female', 'female', 'male', 'female', 'female', 'male', 'male', 'male', 'male', 'female', 'male', 'male', 'male', 'male', 'male', 'male', 'female', 'female', 'male', 'male', 'male', 'male', 'female', 'female', 'male', 'female', 'female', 'male', 'female', 'female', 'male', 'male', 'female', 'female', 'male', 'male', 'male', 'female', 'male', 'female', 'female', 'female', 'male', 'male', 'female', 'female', 'male', 'male', 'female', 'male', 'female']\n",
      "['Aquarius', 'Virgo', 'Sagittarius', 'Scorpio', 'Libra', 'Capricorn', 'Virgo', 'Cancer', 'Capricorn', 'Taurus', 'Aries', 'Taurus', 'Gemini', 'Capricorn', 'Gemini', 'Libra', 'Leo', 'Scorpio', 'Scorpio', 'Capricorn', 'Aries', 'Capricorn', 'Leo', 'Leo', 'Scorpio', 'Aquarius', 'Capricorn', 'Taurus', 'Scorpio', 'Libra', 'Scorpio', 'Virgo', 'Aquarius', 'Taurus', 'Leo', 'Gemini', 'Taurus', 'Libra', 'Cancer', 'Aries', 'Gemini', 'Scorpio', 'Sagittarius', 'Sagittarius', 'Taurus', 'Libra', 'Leo', 'Capricorn', 'Aquarius', 'Aquarius', 'Aquarius', 'Pisces', 'Sagittarius', 'Cancer', 'Taurus', 'Gemini', 'Sagittarius', 'Taurus', 'Leo', 'Leo', 'Leo', 'Pisces', 'Libra', 'Virgo', 'Aquarius', 'Leo', 'Gemini', 'Sagittarius', 'Gemini', 'Aquarius', 'Aquarius', 'Capricorn', 'Aquarius', 'Gemini', 'Leo', 'Leo', 'Scorpio', 'Sagittarius', 'Scorpio', 'Gemini', 'Gemini', 'Leo', 'Scorpio', 'Leo', 'Libra', 'Taurus', 'Sagittarius', 'Leo', 'Capricorn', 'Libra', 'Aquarius', 'Virgo', 'Virgo', 'Virgo', 'Libra', 'Scorpio', 'Taurus', 'Scorpio', 'Libra', 'Gemini', 'Pisces', 'Pisces', 'Taurus', 'Gemini', 'Aquarius', 'Cancer', 'Cancer', 'Aries', 'Gemini', 'Scorpio', 'Cancer', 'Scorpio', 'Virgo', 'Cancer', 'Leo', 'Aquarius', 'Virgo', 'Taurus', 'Scorpio', 'Scorpio', 'Cancer', 'Sagittarius', 'Aries', 'Virgo', 'Capricorn', 'Cancer', 'Libra', 'Aquarius', 'Cancer', 'Taurus', 'Pisces', 'Sagittarius', 'Capricorn', 'Cancer', 'Virgo', 'Virgo', 'Scorpio', 'Virgo', 'Cancer', 'Virgo', 'Cancer', 'Aries', 'Pisces', 'Taurus', 'Sagittarius', 'Libra', 'Pisces', 'Taurus', 'Aries', 'Scorpio', 'Pisces', 'Virgo', 'Libra', 'Leo', 'Virgo', 'Capricorn', 'Pisces', 'Leo', 'Scorpio', 'Scorpio', 'Aquarius', 'Leo', 'Cancer', 'Virgo', 'Sagittarius', 'Taurus', 'Gemini', 'Leo', 'Leo', 'Virgo', 'Pisces', 'Gemini', 'Virgo', 'Leo', 'Virgo', 'Pisces', 'Aries', 'Scorpio', 'Sagittarius', 'Aquarius', 'Libra', 'Gemini', 'Sagittarius', 'Gemini', 'Virgo', 'Aquarius', 'Taurus', 'Taurus', 'Aquarius', 'Virgo', 'Virgo', 'Aquarius', 'Pisces', 'Scorpio', 'Leo', 'Virgo', 'Leo', 'Scorpio', 'Virgo', 'Taurus', 'Sagittarius', 'Cancer', 'Gemini', 'Capricorn', 'Libra', 'Leo', 'Scorpio', 'Virgo', 'Gemini', 'Scorpio', 'Virgo', 'Leo', 'Scorpio', 'Leo', 'Pisces', 'Pisces', 'Taurus', 'Gemini', 'Cancer', 'Taurus', 'Scorpio', 'Scorpio', 'Capricorn', 'Aquarius', 'Libra', 'Pisces', 'Cancer', 'Taurus', 'Aries', 'Leo', 'Scorpio', 'Libra', 'Libra', 'Virgo', 'Aquarius', 'Aries', 'Leo', 'Aquarius', 'Aries', 'Libra', 'Scorpio', 'Libra', 'Virgo', 'Leo', 'Capricorn', 'Sagittarius', 'Libra', 'Sagittarius', 'Virgo', 'Pisces', 'Pisces', 'Leo', 'Cancer', 'Cancer', 'Gemini', 'Libra', 'Libra', 'Pisces', 'Capricorn', 'Aquarius', 'Scorpio', 'Gemini', 'Scorpio', 'Virgo', 'Leo', 'Taurus', 'Taurus', 'Sagittarius', 'Leo', 'Aries', 'Sagittarius', 'Scorpio', 'Aries', 'Capricorn', 'Libra', 'Sagittarius', 'Virgo', 'Aquarius', 'Pisces', 'Capricorn', 'Aquarius', 'Aries', 'Virgo', 'Sagittarius', 'Aries', 'Cancer', 'Aries', 'Pisces', 'Libra', 'Taurus', 'Taurus', 'Sagittarius', 'Pisces', 'Gemini', 'Cancer', 'Virgo', 'Pisces', 'Sagittarius', 'Sagittarius', 'Libra', 'Aquarius', 'Scorpio', 'Sagittarius', 'Scorpio', 'Libra', 'Gemini', 'Sagittarius', 'Libra', 'Leo', 'Aries', 'Virgo', 'Virgo', 'Virgo', 'Leo', 'Leo', 'Pisces', 'Aries', 'Leo', 'Aquarius', 'Libra', 'Aries', 'Libra', 'Taurus', 'Libra', 'Gemini', 'Pisces', 'Leo', 'Pisces', 'Libra', 'Aries', 'Aries', 'Sagittarius', 'Scorpio', 'Cancer', 'Scorpio', 'Aquarius', 'Virgo', 'Taurus', 'Cancer', 'Scorpio', 'Pisces', 'Scorpio', 'Libra', 'Leo', 'Pisces', 'Taurus', 'Leo', 'Gemini', 'Sagittarius', 'Aries', 'Cancer', 'Libra', 'Gemini', 'Scorpio', 'Gemini', 'Gemini', 'Sagittarius', 'Aries', 'Sagittarius', 'Scorpio', 'Taurus', 'Scorpio', 'Libra', 'Virgo', 'Virgo', 'Sagittarius', 'Aries', 'Libra', 'Virgo', 'Pisces', 'Cancer', 'Sagittarius', 'Libra', 'Sagittarius', 'Taurus', 'Capricorn', 'Pisces', 'Sagittarius', 'Sagittarius', 'Leo', 'Capricorn', 'Leo', 'Libra', 'Leo', 'Sagittarius', 'Gemini', 'Libra', 'Leo', 'Pisces', 'Capricorn', 'Libra', 'Pisces', 'Cancer', 'Leo', 'Pisces', 'Libra', 'Libra', 'Capricorn', 'Leo', 'Taurus', 'Taurus', 'Taurus', 'Aquarius', 'Aries', 'Libra', 'Scorpio', 'Taurus', 'Taurus', 'Pisces', 'Virgo', 'Aries', 'Sagittarius', 'Pisces', 'Aries', 'Cancer', 'Libra', 'Gemini', 'Libra', 'Libra', 'Gemini', 'Cancer', 'Aries', 'Virgo', 'Scorpio', 'Cancer', 'Capricorn', 'Taurus', 'Cancer', 'Scorpio', 'Aquarius', 'Gemini', 'Cancer', 'Scorpio', 'Aries', 'Scorpio', 'Taurus', 'Sagittarius', 'Scorpio', 'Aries', 'Sagittarius', 'Aquarius', 'Aquarius', 'Libra', 'Scorpio', 'Aquarius', 'Capricorn', 'Leo', 'Sagittarius', 'Scorpio', 'Cancer', 'Sagittarius', 'Aries', 'Leo', 'Scorpio', 'Aquarius', 'Aries', 'Libra', 'Sagittarius', 'Capricorn', 'Gemini', 'Leo', 'Gemini', 'Aquarius', 'Aries', 'Libra', 'Gemini', 'Taurus', 'Gemini', 'Taurus', 'Scorpio', 'Scorpio', 'Capricorn', 'Scorpio', 'Cancer', 'Taurus', 'Aquarius', 'Capricorn', 'Taurus', 'Leo', 'Aquarius', 'Libra', 'Pisces', 'Leo', 'Virgo', 'Taurus', 'Taurus', 'Leo', 'Sagittarius', 'Gemini', 'Cancer', 'Cancer', 'Cancer', 'Taurus', 'Libra', 'Libra', 'Libra', 'Libra', 'Aries', 'Aries', 'Aquarius', 'Virgo', 'Aquarius', 'Aries', 'Scorpio', 'Aries', 'Sagittarius', 'Cancer', 'Gemini', 'Taurus', 'Leo', 'Taurus', 'Aries', 'Gemini', 'Aries', 'Sagittarius', 'Gemini', 'Scorpio', 'Scorpio', 'Capricorn', 'Cancer', 'Libra', 'Libra', 'Sagittarius', 'Capricorn', 'Cancer', 'Capricorn', 'Sagittarius', 'Gemini', 'Leo', 'Pisces', 'Aries', 'Pisces', 'Taurus', 'Taurus', 'Cancer', 'Aquarius', 'Scorpio', 'Capricorn', 'Virgo', 'Taurus', 'Leo', 'Cancer', 'Capricorn', 'Cancer', 'Taurus', 'Gemini', 'Gemini', 'Cancer', 'Virgo', 'Leo', 'Sagittarius', 'Libra', 'Scorpio', 'Sagittarius', 'Scorpio', 'Aries', 'Libra', 'Leo', 'Sagittarius', 'Libra', 'Gemini', 'Leo', 'Aries', 'Gemini', 'Pisces', 'Sagittarius', 'Pisces', 'Aries', 'Sagittarius', 'Taurus', 'Virgo', 'Sagittarius', 'Cancer', 'Aries', 'Leo', 'Leo', 'Aquarius', 'Libra', 'Aries', 'Pisces', 'Pisces', 'Gemini', 'Virgo', 'Taurus', 'Virgo', 'Gemini', 'Sagittarius', 'Libra', 'Sagittarius', 'Aries', 'Aquarius', 'Cancer', 'Leo', 'Cancer', 'Pisces', 'Taurus', 'Libra', 'Pisces', 'Cancer', 'Gemini', 'Capricorn', 'Aquarius', 'Virgo', 'Taurus', 'Aquarius', 'Sagittarius', 'Scorpio', 'Taurus', 'Gemini', 'Libra', 'Pisces', 'Cancer', 'Leo', 'Capricorn', 'Scorpio', 'Sagittarius', 'Cancer', 'Leo', 'Aquarius', 'Capricorn', 'Capricorn', 'Cancer', 'Sagittarius', 'Aries', 'Libra', 'Aquarius', 'Aries', 'Cancer', 'Taurus', 'Sagittarius', 'Aries', 'Scorpio', 'Gemini', 'Libra', 'Sagittarius', 'Scorpio', 'Leo', 'Aquarius', 'Cancer', 'Leo', 'Aries', 'Capricorn', 'Virgo', 'Capricorn', 'Pisces', 'Pisces', 'Gemini', 'Aries', 'Aquarius', 'Leo', 'Virgo', 'Aquarius', 'Libra', 'Sagittarius', 'Taurus', 'Gemini', 'Scorpio', 'Capricorn', 'Virgo', 'Libra', 'Sagittarius', 'Scorpio', 'Libra', 'Gemini', 'Pisces', 'Sagittarius', 'Capricorn', 'Aquarius', 'Capricorn', 'Scorpio', 'Capricorn', 'Libra', 'Aries', 'Leo', 'Capricorn', 'Capricorn', 'Cancer', 'Aries', 'Gemini', 'Virgo', 'Leo', 'Libra', 'Leo', 'Virgo', 'Cancer', 'Aries', 'Libra', 'Taurus', 'Virgo', 'Leo', 'Capricorn', 'Capricorn', 'Virgo', 'Scorpio', 'Taurus', 'Pisces', 'Virgo', 'Taurus', 'Leo', 'Leo', 'Gemini', 'Cancer', 'Capricorn', 'Virgo', 'Taurus', 'Gemini', 'Cancer', 'Taurus', 'Cancer', 'Sagittarius', 'Virgo', 'Aquarius', 'Leo', 'Taurus', 'Aries', 'Gemini', 'Sagittarius', 'Aquarius', 'Capricorn', 'Pisces', 'Scorpio', 'Libra', 'Aquarius', 'Taurus', 'Pisces', 'Aries', 'Pisces', 'Pisces', 'Leo', 'Taurus', 'Leo', 'Capricorn', 'Libra', 'Virgo', 'Aquarius', 'Leo', 'Virgo', 'Scorpio', 'Scorpio', 'Cancer', 'Pisces', 'Virgo', 'Cancer', 'Virgo', 'Sagittarius', 'Virgo', 'Cancer', 'Cancer', 'Virgo', 'Virgo', 'Libra', 'Capricorn', 'Capricorn', 'Cancer', 'Pisces', 'Sagittarius', 'Aquarius', 'Sagittarius', 'Taurus', 'Virgo', 'Aquarius', 'Pisces', 'Leo', 'Leo', 'Libra', 'Pisces', 'Aries', 'Aries', 'Aries', 'Cancer', 'Libra', 'Gemini', 'Sagittarius', 'Virgo', 'Libra', 'Cancer', 'Gemini', 'Leo', 'Cancer', 'Leo', 'Scorpio', 'Aquarius', 'Libra', 'Sagittarius', 'Leo', 'Aquarius', 'Scorpio', 'Leo', 'Pisces', 'Libra', 'Aries', 'Leo', 'Scorpio', 'Pisces', 'Taurus', 'Virgo', 'Gemini', 'Virgo', 'Aries', 'Cancer', 'Cancer', 'Aquarius', 'Aries', 'Scorpio', 'Capricorn', 'Taurus', 'Virgo', 'Aries', 'Scorpio', 'Leo', 'Gemini', 'Leo', 'Leo', 'Libra', 'Pisces', 'Pisces', 'Scorpio', 'Aquarius', 'Aquarius', 'Gemini', 'Aries', 'Aquarius', 'Scorpio', 'Cancer', 'Aries', 'Aries', 'Taurus', 'Aquarius', 'Aries', 'Aquarius', 'Capricorn', 'Leo', 'Leo', 'Capricorn', 'Capricorn', 'Aquarius', 'Aries', 'Aries', 'Scorpio', 'Sagittarius', 'Aries', 'Sagittarius', 'Sagittarius', 'Pisces', 'Gemini', 'Libra', 'Aquarius', 'Cancer', 'Taurus', 'Aries', 'Virgo', 'Sagittarius', 'Capricorn', 'Taurus', 'Scorpio', 'Sagittarius', 'Scorpio', 'Aries', 'Scorpio', 'Cancer', 'Virgo', 'Gemini', 'Gemini', 'Taurus', 'Leo', 'Pisces', 'Sagittarius', 'Sagittarius', 'Cancer', 'Taurus', 'Aries', 'Gemini', 'Aries', 'Libra', 'Libra', 'Virgo', 'Virgo', 'Gemini', 'Libra', 'Pisces', 'Pisces', 'Virgo', 'Aquarius', 'Aries', 'Aries', 'Libra', 'Leo', 'Scorpio', 'Aries', 'Aries', 'Taurus', 'Libra', 'Libra', 'Aquarius', 'Cancer', 'Virgo', 'Cancer', 'Gemini', 'Gemini', 'Cancer', 'Sagittarius', 'Libra', 'Capricorn', 'Leo', 'Aries', 'Gemini', 'Sagittarius', 'Aquarius', 'Capricorn', 'Virgo', 'Sagittarius', 'Aries', 'Scorpio', 'Capricorn', 'Taurus', 'Sagittarius', 'Cancer', 'Cancer', 'Aquarius', 'Scorpio', 'Taurus', 'Aquarius', 'Pisces', 'Scorpio', 'Taurus', 'Sagittarius', 'Leo', 'Gemini', 'Scorpio', 'Virgo', 'Leo', 'Gemini', 'Sagittarius', 'Gemini', 'Taurus', 'Aquarius', 'Sagittarius', 'Aquarius', 'Gemini', 'Aquarius', 'Capricorn', 'Aquarius', 'Scorpio', 'Taurus', 'Virgo', 'Aries', 'Cancer', 'Gemini', 'Aquarius', 'Scorpio', 'Taurus', 'Taurus', 'Aquarius', 'Scorpio', 'Leo', 'Aquarius', 'Cancer', 'Scorpio', 'Libra', 'Capricorn', 'Aries', 'Aquarius', 'Taurus', 'Leo', 'Aquarius', 'Capricorn', 'Cancer', 'Cancer', 'Virgo', 'Gemini', 'Taurus', 'Cancer', 'Pisces', 'Aquarius', 'Gemini', 'Sagittarius', 'Taurus', 'Aquarius', 'Taurus', 'Aries', 'Capricorn', 'Leo', 'Pisces', 'Cancer', 'Libra', 'Pisces', 'Taurus', 'Taurus', 'Scorpio', 'Leo', 'Sagittarius', 'Scorpio', 'Leo', 'Gemini', 'Leo', 'Pisces', 'Capricorn', 'Leo', 'Cancer', 'Pisces']\n"
     ]
    }
   ],
   "source": [
    "#Get all labels of all class \n",
    "#genderlist is list of all blogs gender \n",
    "#starlist is list of all blogs star list\n",
    "\n",
    "genderlist = []\n",
    "starlist = []\n",
    "for p in path:\n",
    "    f = p.split('.')\n",
    "    genderlist.append(f[1])\n",
    "    starlist.append(f[4])\n",
    "\n",
    "print(genderlist)\n",
    "print(starlist)"
   ]
  },
  {
   "cell_type": "code",
   "execution_count": 102,
   "metadata": {
    "pycharm": {
     "name": "#%%\n"
    }
   },
   "outputs": [
    {
     "name": "stdout",
     "output_type": "stream",
     "text": [
      "['female', 'male']\n",
      "['Aquarius', 'Aries', 'Cancer', 'Capricorn', 'Gemini', 'Leo', 'Libra', 'Pisces', 'Sagittarius', 'Scorpio', 'Taurus', 'Virgo']\n"
     ]
    }
   ],
   "source": [
    "#Get unique labels from both genderlist and starlist\n",
    "\n",
    "genderclasses = sorted(list(set(genderlist)))\n",
    "starclasses = sorted(list(set(starlist)))\n",
    "\n",
    "print(genderclasses)\n",
    "print(starclasses)"
   ]
  },
  {
   "cell_type": "code",
   "execution_count": 103,
   "metadata": {
    "pycharm": {
     "name": "#%%\n"
    }
   },
   "outputs": [],
   "source": [
    "#creating Lists of all star classes for blogs\n",
    "#each list contain its own all blogs posts \n",
    "\n",
    "Aquariuslist ,Arieslist ,Cancerlist ,Capricornlist ,Geminilist, Leolist, Libralist ,Pisceslist, Sagittariuslist ,Scorpiolist ,Tauruslist ,Virgolist = [],[],[],[],[],[],[],[],[],[],[],[]"
   ]
  },
  {
   "cell_type": "code",
   "execution_count": 104,
   "metadata": {},
   "outputs": [],
   "source": [
    "#creating Lists of all gender classes for blogs\n",
    "#each list contain its own all posts gender.\n",
    "\n",
    "aquarius_gender,aries_gender,cancer_gender,capricorn_gender,gemini_gender,leo_gender,libra_gender,pisces_gender,sagitarius_gender,scorpio_gender,taurus_gender,virgo_gender = [],[],[],[],[],[],[],[],[],[],[],[]"
   ]
  },
  {
   "cell_type": "code",
   "execution_count": 105,
   "metadata": {
    "pycharm": {
     "name": "#%%\n"
    }
   },
   "outputs": [
    {
     "name": "stdout",
     "output_type": "stream",
     "text": [
      "first --> Advice Of The Day;  Be nice to your Family! Especially the ones you have to share a home with, cause you don't know what happens to your toothbrush when your not there...........\n",
      "Last --> This isn't going to be a happy post, so fair warning in that regard.  Nearly five years ago, my dad was diagnosed as bipolar. He had been depressed for many years, and never done anything about it. Finally, he went to the doctor and started on anti-depressants. Unfortunately, because he was actually bipolar and not simply depressed, this caused him to enter a manic state. In a very short time, my rational, logical, engineer of a father transformed into a person I didn't know. It was a horrible period in our lives, exacerbated by my own battle with depression. I won't go into details, because that would take too long and hurt too much. The Cliff's Notes version is that he was placed in the psychiatric unit of the hospital twice (once in November, again in December)--once voluntarily and once involuntarily. After his second release (due to some very frustrating state mental health laws), he was still unstable, and was verbally abusive to my mother. We ended up having to get a temporary restraining order. We allowed it to lapse after two weeks, and he moved back in. He'd been on medical leave from work for three months at that point. Long story short, he slowly began to respond to the medication, and returned to work in March. By May he had pretty much gotten as stable as he was going to get, and he has remained that way ever since.  We've been very fortunate that the medication has done its job, and he's not really cycled at all. Sometimes I think he got well through my mother's and my sheer force of will. That's not to say it was an easy experience, of course, but many people with bipolar disorder are never truly stable. Those that do become stable rarely accomplish it in a mere 6 months.   Although it was very traumatic, and there is still the underlying fear that it could happen again, for the most part we have moved on with our lives.  Unfortunately, not everyone is so lucky.  A while back, we learned that my dad's cousin's husband (did you follow that?) is also bipolar.  I haven't been privy to all of the details, but obviously it has been hard on both him and his wife.  I'm sure it wasn't easy for their son and daughter-in-law, either, who recently moved back to MI from AZ, where my dad's cousin lives.  I learned yesterday that the cousin's husband (we'll call him R), is still not doing well at all, and my dad's cousin (we'll call her M) has decided that at this point, they should not be living together.  This is a situation that my mother and I went through, and it's horrible.  Suddenly, the person you've known forever is gone, and replaced by a stranger.  My mom gave M a call, wanting to lend her support, and she learned that R had told M he was going to divorce her.  Again, this was something we experienced, and fortunately, it didn't happen.  But it is devastating for M, and my heart goes out to her.   To make matters worse, M suspects that her daughter-in-law, J, might also be bipolar.  Because of this, her son, B, is currently living with his aunt and uncle, while J, along with their 15-month-old daughter, live at home.  I can only imagine the pain B is experiencing.  He's long been my favorite relative, and even more than his mother's situation, I can relate to what he is going through.  I can't even begin to fathom, though, what it must be like to deal with this illness on two fronts--both a parent and a spouse.  Before my father was diagnosed, I had never known a single person with bipolar disorder.  In the past five years, though, I've learned of a startling number of people who suffer from it.  I don't know if it's because I simply wasn't that aware of it, or if it's because there is less of a stigma these days when it comes to mental illness.  A part of me would like to think that, because I am willing to talk about my experiences, others are willing to confide in me.  Mental illness is such a serious issue, and it's not something that can be callously labeled as craziness, or magically cured after a few therapy sessions.  In so many instances, it's caused by a chemical imbalance.  I can only hope that as time goes by, and we come to understand the brain better, identification and treatment of these illnesses will become faster and easier.\n"
     ]
    }
   ],
   "source": [
    "#insertion all blogs post data in all star list and gender\n",
    "\n",
    "\n",
    "for files in path:\n",
    "    with open(files , encoding=\"utf8\", errors='ignore') as fp:\n",
    "        soup = BeautifulSoup(fp, 'xml')\n",
    "    name = files.split('.')\n",
    "    n = [elem.text.replace(\"\\n\", \"\").replace(\"\\t\", \"\").strip() for elem in soup.findAll('post')]\n",
    "    if name[4] == 'Aquarius':\n",
    "        Aquariuslist.extend(n)\n",
    "        aquarius_gender.append([name[1]]*len(n))\n",
    "    if name[4] == 'Aries':\n",
    "        Arieslist.extend([elem.text.replace(\"\\n\", \"\").replace(\"\\t\", \"\").strip() for elem in soup.findAll('post')])\n",
    "        aries_gender.append([name[1]]*len(n))\n",
    "    if name[4] == 'Cancer':\n",
    "        Cancerlist.extend([elem.text.replace(\"\\n\", \"\").replace(\"\\t\", \"\").strip() for elem in soup.findAll('post')])\n",
    "        cancer_gender.append([name[1]]*len(n))\n",
    "    if name[4] == 'Capricorn':\n",
    "        Capricornlist.extend([elem.text.replace(\"\\n\", \"\").replace(\"\\t\", \"\").strip() for elem in soup.findAll('post')])\n",
    "        capricorn_gender.append([name[1]]*len(n))\n",
    "    if name[4] == 'Gemini':\n",
    "        Geminilist.extend([elem.text.replace(\"\\n\", \"\").replace(\"\\t\", \"\").strip() for elem in soup.findAll('post')])\n",
    "        gemini_gender.append([name[1]]*len(n))\n",
    "    if name[4] == 'Leo':\n",
    "#         print (name)\n",
    "        Leolist.extend([elem.text.replace(\"\\n\", \"\").replace(\"\\t\", \"\").strip() for elem in soup.findAll('post')])\n",
    "        leo_gender.append([name[1]]*len(n))\n",
    "    if name[4] == 'Libra':\n",
    "        Libralist.extend([elem.text.replace(\"\\n\", \"\").replace(\"\\t\", \"\").strip() for elem in soup.findAll('post')])\n",
    "        libra_gender.append([name[1]]*len(n))\n",
    "    if name[4] == 'Pisces':\n",
    "        Pisceslist.extend([elem.text.replace(\"\\n\", \"\").replace(\"\\t\", \"\").strip() for elem in soup.findAll('post')])\n",
    "        pisces_gender.append([name[1]]*len(n))\n",
    "    if name[4] == 'Sagittarius':\n",
    "        Sagittariuslist.extend([elem.text.replace(\"\\n\", \"\").replace(\"\\t\", \"\").strip() for elem in soup.findAll('post')])\n",
    "        sagitarius_gender.append([name[1]]*len(n))\n",
    "    if name[4] == 'Scorpio':\n",
    "        Scorpiolist.extend([elem.text.replace(\"\\n\", \"\").replace(\"\\t\", \"\").strip() for elem in soup.findAll('post')])\n",
    "        scorpio_gender.append([name[1]]*len(n))\n",
    "    if name[4] == 'Taurus':\n",
    "        Tauruslist.extend([elem.text.replace(\"\\n\", \"\").replace(\"\\t\", \"\").strip() for elem in soup.findAll('post')])\n",
    "        taurus_gender.append([name[1]]*len(n))\n",
    "    if name[4] == 'Virgo':\n",
    "        Virgolist.extend([elem.text.replace(\"\\n\", \"\").replace(\"\\t\", \"\").strip() for elem in soup.findAll('post')])\n",
    "        virgo_gender.append([name[1]]*len(n))\n",
    "\n",
    "print(\"first -->\" , Leolist[0])\n",
    "print(\"Last -->\" ,Leolist[-1])"
   ]
  },
  {
   "cell_type": "code",
   "execution_count": 106,
   "metadata": {},
   "outputs": [
    {
     "name": "stdout",
     "output_type": "stream",
     "text": [
      "['male', 'male', 'male', 'male', 'male', 'male', 'male', 'male', 'male', 'male', 'male', 'male', 'male', 'male', 'male', 'male', 'male', 'male', 'male', 'male', 'male', 'male', 'male', 'male', 'male', 'male', 'male', 'male', 'male', 'male', 'male', 'male', 'male', 'male', 'male', 'male', 'male', 'male', 'male', 'male', 'male', 'male', 'male', 'male', 'male', 'male', 'male', 'male', 'male', 'male', 'male', 'male', 'male', 'male', 'male', 'male', 'male', 'male', 'male', 'male', 'male', 'male', 'male', 'male', 'male', 'male', 'male', 'male', 'male', 'male', 'male', 'male', 'male', 'male', 'male', 'male', 'male', 'male', 'male', 'male', 'male', 'male', 'male', 'male', 'male', 'male', 'male', 'male', 'male', 'male', 'male', 'male', 'male', 'male', 'male', 'male', 'male', 'male', 'male', 'male', 'male', 'male', 'male', 'male', 'male', 'male', 'male', 'male', 'male', 'male', 'male', 'male', 'male', 'male', 'male', 'male', 'male', 'male', 'male', 'male', 'male', 'male', 'male', 'male', 'male', 'male', 'male', 'male', 'male', 'male', 'male', 'male', 'male', 'male', 'male', 'male', 'male', 'male', 'male', 'male', 'male', 'male', 'male', 'male', 'male', 'male', 'male', 'male', 'male', 'male', 'male', 'male', 'male', 'male', 'male', 'male', 'male', 'male', 'male', 'male', 'male', 'male', 'male', 'male', 'male', 'male', 'male', 'male', 'male', 'male', 'male', 'male', 'male', 'male', 'male', 'male', 'male', 'male', 'male', 'male', 'male', 'male', 'male', 'male', 'male', 'male', 'male', 'male', 'male', 'male', 'male', 'male', 'male', 'male', 'male', 'male', 'male', 'male', 'male', 'male', 'male', 'male', 'male', 'male', 'male', 'male', 'male', 'male', 'male', 'male', 'male', 'male', 'male', 'male', 'male', 'male', 'male', 'male', 'male', 'male', 'male', 'male', 'male', 'male', 'male', 'male', 'male', 'male', 'male', 'male', 'male', 'male', 'male', 'male', 'male', 'male', 'male', 'male', 'male', 'male', 'male', 'male', 'male', 'male', 'male', 'male', 'male', 'male', 'male', 'male', 'male', 'male', 'male', 'male', 'male', 'male', 'male', 'male', 'male', 'male', 'male', 'male', 'male', 'male', 'male', 'male', 'male', 'male', 'male', 'male', 'male', 'male', 'male', 'male', 'male', 'male', 'male', 'male', 'male', 'male', 'male', 'male', 'male', 'male', 'male', 'male', 'male', 'male', 'male', 'male', 'male', 'male', 'male', 'male', 'male', 'male', 'male', 'male', 'male', 'male', 'male', 'male', 'male', 'male', 'male', 'male', 'male', 'male', 'male', 'male', 'male', 'male', 'male', 'male', 'male', 'male', 'male', 'male', 'male', 'male', 'male', 'male', 'male', 'male', 'male', 'male', 'male', 'male', 'male', 'male', 'male', 'male', 'male', 'male', 'male', 'male', 'male', 'male', 'male', 'male', 'male', 'male', 'male', 'male', 'male', 'male', 'male', 'male', 'male', 'male', 'male', 'male', 'male', 'male', 'male', 'male', 'male', 'male', 'male', 'male', 'male', 'male', 'male', 'male', 'male', 'male', 'male', 'male', 'male', 'male', 'male', 'male', 'male', 'male', 'male', 'male', 'male', 'male', 'male', 'male', 'male', 'male', 'male', 'male', 'male', 'male', 'male', 'male', 'male', 'male', 'male', 'male', 'male', 'male', 'male', 'male', 'male', 'male', 'male', 'male', 'male', 'male', 'male', 'male', 'male', 'male', 'male', 'male', 'male', 'male', 'male', 'male', 'male', 'male', 'male', 'male', 'male', 'male', 'male', 'male', 'male', 'male', 'male', 'male', 'male', 'male', 'male', 'male', 'male', 'male', 'male', 'male', 'male', 'male', 'male', 'male', 'male', 'male', 'male', 'male', 'male', 'male', 'male', 'male', 'male', 'male', 'male', 'male', 'male', 'male', 'male', 'male', 'male', 'male', 'male', 'male', 'male', 'male', 'male', 'male', 'male', 'male', 'male', 'male', 'male', 'male', 'male', 'male', 'male', 'male', 'male', 'male', 'male', 'male', 'male', 'male', 'male', 'male', 'male', 'male', 'male', 'male', 'male', 'male', 'male', 'male', 'male', 'male', 'male', 'male', 'male', 'male', 'male', 'male', 'male', 'male', 'male', 'male', 'male', 'male', 'male', 'male', 'male', 'male', 'male', 'male', 'male', 'male', 'male', 'male', 'male', 'male', 'male', 'male', 'male', 'male', 'male', 'male', 'male', 'male', 'male', 'male', 'male', 'male', 'male', 'male', 'male', 'male', 'male', 'male', 'male', 'male', 'male', 'male', 'male', 'male', 'male', 'male', 'male', 'male', 'male', 'male', 'male', 'male', 'male', 'male', 'male', 'male', 'male', 'male', 'male', 'male', 'male', 'male', 'male', 'male', 'male', 'male', 'male', 'male', 'male', 'male', 'male', 'male', 'male', 'male', 'male', 'male', 'male', 'male', 'male', 'male', 'male', 'male', 'male', 'male', 'male', 'male', 'male', 'male', 'male', 'male', 'male', 'male', 'male', 'male', 'male', 'male', 'male', 'male', 'male', 'male', 'male', 'male', 'male', 'male', 'male', 'male', 'male', 'male', 'male', 'male', 'male', 'male', 'male', 'male', 'male', 'male', 'male', 'male', 'male', 'male', 'male', 'male', 'male', 'male', 'male', 'male', 'male', 'male', 'male', 'male', 'male', 'male', 'male', 'male', 'male', 'male', 'male', 'male', 'male', 'male', 'male', 'male', 'male', 'male', 'male', 'male', 'male', 'male', 'male', 'male', 'male', 'male', 'male', 'male', 'male', 'male', 'male', 'male', 'male', 'male', 'male', 'male', 'male', 'male', 'male', 'male', 'male', 'male', 'male', 'male', 'male', 'male', 'male', 'male', 'male', 'male', 'male', 'male', 'male', 'male', 'male', 'male', 'male', 'male', 'male', 'male', 'male', 'male', 'male', 'male', 'male', 'male', 'male', 'male', 'male', 'male', 'male', 'male', 'male', 'male', 'male', 'male', 'male', 'male', 'male', 'male', 'male', 'male', 'male', 'male', 'male', 'male', 'male', 'male', 'male', 'male', 'male', 'male', 'male', 'male', 'male', 'male', 'male', 'male', 'male', 'male', 'male', 'male', 'male', 'male', 'male', 'male', 'male', 'male', 'male', 'male', 'male', 'male', 'male', 'male', 'male', 'male', 'male', 'male', 'male', 'male', 'male', 'male', 'male', 'male', 'male', 'male', 'male', 'male', 'male', 'male', 'male', 'male', 'male', 'male', 'male', 'male', 'male', 'male', 'male', 'male', 'male', 'male', 'male', 'male', 'male', 'male', 'male', 'male', 'male', 'male', 'male', 'male', 'male', 'male', 'male', 'male', 'male', 'male', 'male', 'male', 'male', 'male', 'male', 'male', 'male', 'male', 'male', 'male', 'male', 'male', 'male', 'male', 'male', 'male', 'male', 'male', 'male', 'male', 'male', 'male', 'male', 'male', 'male', 'male', 'male', 'male', 'male', 'male', 'male', 'male', 'male', 'male', 'male', 'male', 'male', 'male', 'male', 'male', 'male', 'male', 'male', 'male', 'male', 'male', 'male', 'male', 'male', 'male', 'male', 'male', 'male', 'male', 'male', 'male', 'male', 'male', 'male', 'male', 'male', 'male', 'male', 'male', 'male', 'male', 'male', 'male', 'male', 'male', 'male', 'male', 'male', 'male', 'male', 'male', 'male', 'male', 'male', 'male', 'male', 'male', 'male', 'male', 'male', 'male', 'male', 'male', 'male', 'male', 'male', 'male', 'male', 'male', 'male', 'male', 'male', 'male', 'male', 'male', 'male', 'male', 'male', 'male', 'male', 'male', 'male', 'male', 'male', 'male', 'male', 'male', 'male', 'male', 'male', 'male', 'male', 'male', 'male', 'male', 'male', 'male', 'male', 'male', 'male', 'male', 'male', 'male', 'male', 'male', 'male', 'male', 'male', 'male', 'male', 'male', 'male', 'male', 'male', 'male', 'male', 'male', 'male', 'male', 'male', 'male', 'male', 'male', 'male', 'male', 'male', 'male', 'male', 'male', 'male', 'male', 'male', 'male', 'male', 'male', 'male', 'male', 'male', 'male', 'male', 'male', 'male', 'male', 'male', 'male', 'male', 'male', 'male', 'male', 'male', 'male', 'male', 'male', 'male', 'male', 'male', 'male', 'male', 'male', 'male', 'male', 'male', 'male', 'male', 'male', 'male', 'male', 'male', 'male', 'male', 'male', 'male', 'male', 'male', 'male', 'male', 'male', 'male', 'male', 'male', 'male', 'male', 'male', 'male', 'male', 'male', 'male', 'male', 'male', 'male', 'male', 'male', 'male', 'male', 'male', 'male', 'male', 'male', 'male', 'male', 'male', 'male', 'male', 'male', 'male', 'male', 'male', 'male', 'male', 'male', 'male', 'male', 'male', 'male', 'male', 'male', 'male', 'male', 'male', 'male', 'male', 'male', 'male', 'male', 'male', 'male', 'male', 'male', 'male', 'male', 'male', 'male', 'male', 'male', 'male', 'male', 'male', 'male', 'male', 'male', 'male', 'male', 'male', 'male', 'male', 'male', 'male', 'male', 'male', 'male', 'male', 'male', 'male', 'male', 'male', 'male', 'male', 'male', 'male', 'male', 'male', 'male', 'male', 'male', 'male', 'male', 'male', 'male', 'male', 'male', 'male', 'male', 'male', 'male', 'male', 'male', 'male', 'male', 'female', 'female', 'female', 'female', 'female', 'female', 'female', 'female', 'female', 'female', 'female', 'female', 'female', 'female', 'female', 'female', 'female', 'female', 'female', 'female', 'female', 'female', 'female', 'female', 'female', 'female', 'female', 'female', 'female', 'female', 'female', 'female', 'female', 'female', 'female', 'female', 'female', 'female', 'female', 'female', 'female', 'female', 'female', 'female', 'female', 'female', 'female', 'female', 'female', 'female', 'female', 'female', 'female', 'female', 'female', 'female', 'female', 'female', 'female', 'female', 'female', 'female', 'female', 'female', 'female', 'female', 'female', 'female', 'female', 'female', 'female', 'female', 'female', 'female', 'female', 'female', 'female', 'female', 'female', 'female', 'female', 'female', 'female', 'female', 'female', 'female', 'female', 'female', 'female', 'female', 'female', 'female', 'female', 'female', 'female', 'female', 'female', 'female', 'female', 'female', 'female', 'female', 'male', 'male', 'male', 'male', 'male', 'male', 'male', 'male', 'male', 'male', 'male', 'male', 'male', 'male', 'male', 'male', 'male', 'male', 'male', 'male', 'male', 'male', 'male', 'male', 'male', 'male', 'male', 'male', 'male', 'male', 'male', 'male', 'male', 'male', 'male', 'male', 'male', 'male', 'male', 'male', 'male', 'male', 'male', 'male', 'male', 'male', 'male', 'male', 'male', 'male', 'male', 'male', 'male', 'male', 'male', 'male', 'male', 'male', 'male', 'male', 'male', 'male', 'male', 'male', 'male', 'male', 'male', 'male', 'male', 'male', 'male', 'male', 'male', 'male', 'male', 'male', 'male', 'male', 'male', 'male', 'male', 'male', 'male', 'male', 'male', 'male', 'male', 'male', 'male', 'male', 'male', 'male', 'male', 'male', 'male', 'male', 'male', 'male', 'male', 'male', 'male', 'male', 'male', 'male', 'male', 'male', 'male', 'male', 'male', 'male', 'male', 'male', 'male', 'male', 'male', 'male', 'male', 'male', 'male', 'male', 'male', 'male', 'male', 'male', 'male', 'male', 'male', 'male', 'male', 'male', 'male', 'male', 'male', 'male', 'male', 'male', 'male', 'male', 'male', 'male', 'male', 'male', 'male', 'male', 'male', 'male', 'male', 'male', 'male', 'male', 'male', 'male', 'male', 'male', 'male', 'male', 'male', 'male', 'male', 'male', 'male', 'male', 'male', 'male', 'male', 'male', 'male', 'male', 'male', 'male', 'male', 'male', 'male', 'male', 'male', 'male', 'male', 'male', 'male', 'male', 'male', 'male', 'male', 'male', 'male', 'male', 'male', 'male', 'male', 'male', 'male', 'male', 'male', 'male', 'male', 'male', 'male', 'male', 'male', 'male', 'male', 'male', 'male', 'male', 'male', 'male', 'male', 'male', 'male', 'male', 'male', 'male', 'male', 'male', 'male', 'male', 'male', 'male', 'male', 'male', 'male', 'male', 'male', 'male', 'male', 'male', 'male', 'male', 'male', 'male', 'male', 'male', 'male', 'male', 'male', 'male', 'male', 'male', 'male', 'male', 'male', 'male', 'male', 'male', 'male', 'male', 'male', 'male', 'male', 'male', 'male', 'male', 'female', 'female', 'female', 'female', 'female', 'female', 'female', 'female', 'female', 'female', 'female', 'female', 'female', 'female', 'female', 'female', 'female', 'female', 'female', 'female', 'female', 'female', 'female', 'female', 'female', 'female', 'female', 'female', 'female', 'female', 'female', 'female', 'female', 'female', 'female', 'female', 'female', 'female', 'female', 'female', 'female', 'female', 'female', 'female', 'female', 'female', 'female', 'female', 'female', 'female', 'female', 'female', 'female', 'female', 'female', 'female', 'female', 'female', 'female', 'female', 'female', 'female', 'female', 'female', 'female', 'female', 'female', 'female', 'female', 'female', 'female', 'female', 'female', 'female', 'female', 'female', 'female', 'female', 'female', 'female', 'female', 'female', 'female', 'female', 'female', 'female', 'female', 'female', 'female', 'female', 'female', 'female', 'female', 'female', 'female', 'female', 'female', 'female', 'female', 'female', 'female', 'female', 'female', 'female', 'female', 'female', 'female', 'female', 'female', 'female', 'female', 'female', 'female', 'female', 'female', 'female', 'female', 'female', 'female', 'female', 'female', 'female', 'female', 'female', 'female', 'female', 'female', 'female', 'female', 'female', 'female', 'male', 'male', 'male', 'male', 'male', 'male', 'male', 'male', 'male', 'male', 'male', 'male', 'male', 'male', 'male', 'male', 'male', 'male', 'male', 'male', 'male', 'male', 'male', 'male', 'male', 'male', 'male', 'male', 'male', 'male', 'male', 'male', 'male', 'male', 'male', 'male', 'male', 'male', 'male', 'male', 'male', 'male', 'male', 'male', 'male', 'male', 'male', 'male', 'male', 'male', 'male', 'male', 'male', 'male', 'male', 'male', 'male', 'male', 'male', 'male', 'male', 'male', 'male', 'male', 'male', 'male', 'male', 'male', 'male', 'male', 'male', 'male', 'male', 'male', 'male', 'male', 'male', 'male', 'male', 'male', 'male', 'male', 'male', 'male', 'male', 'female', 'female', 'male', 'male', 'male', 'male', 'male', 'male', 'male', 'male', 'male', 'male', 'male', 'male', 'male', 'male', 'male', 'male', 'male', 'male', 'male', 'male', 'male', 'male', 'male', 'male', 'male', 'male', 'male', 'male', 'male', 'male', 'male', 'male', 'male', 'male', 'male', 'male', 'male', 'male', 'male', 'male', 'male', 'male', 'male', 'male', 'male', 'male', 'male', 'male', 'male', 'male', 'male', 'male', 'male', 'male', 'male', 'male', 'male', 'male', 'male', 'male', 'male', 'male', 'male', 'male', 'male', 'male', 'male', 'male', 'male', 'male', 'male', 'male', 'male', 'male', 'male', 'male', 'male', 'male', 'male', 'male', 'male', 'male', 'male', 'male', 'male', 'male', 'male', 'male', 'male', 'male', 'male', 'male', 'male', 'male', 'male', 'male', 'male', 'male', 'male', 'male', 'male', 'male', 'male', 'male', 'male', 'male', 'male', 'male', 'male', 'male', 'male', 'male', 'male', 'male', 'male', 'male', 'male', 'male', 'male', 'male', 'male', 'male', 'male', 'male', 'male', 'male', 'male', 'male', 'male', 'male', 'male', 'male', 'male', 'male', 'male', 'male', 'male', 'male', 'male', 'male', 'male', 'male', 'male', 'male', 'male', 'male', 'male', 'male', 'male', 'male', 'male', 'male', 'male', 'male', 'male', 'male', 'male', 'male', 'male', 'male', 'male', 'male', 'male', 'male', 'male', 'male', 'male', 'male', 'male', 'male', 'male', 'male', 'male', 'male', 'male', 'male', 'male', 'male', 'male', 'male', 'male', 'male', 'male', 'male', 'male', 'male', 'male', 'male', 'male', 'male', 'male', 'male', 'male', 'male', 'male', 'male', 'male', 'male', 'male', 'male', 'male', 'male', 'male', 'male', 'male', 'male', 'male', 'male', 'male', 'male', 'male', 'male', 'male', 'male', 'male', 'male', 'male', 'male', 'male', 'male', 'male', 'male', 'male', 'male', 'male', 'male', 'male', 'male', 'male', 'male', 'male', 'male', 'male', 'male', 'male', 'male', 'male', 'male', 'male', 'male', 'male', 'male', 'male', 'male', 'male', 'male', 'male', 'male', 'male', 'male', 'male', 'male', 'male', 'male', 'male', 'male', 'male', 'male', 'male', 'male', 'male', 'male', 'male', 'male', 'male', 'male', 'male', 'male', 'male', 'male', 'male', 'male', 'male', 'male', 'male', 'male', 'male', 'male', 'male', 'male', 'male', 'male', 'male', 'male', 'male', 'male', 'male', 'male', 'male', 'male', 'male', 'male', 'male', 'male', 'male', 'male', 'male', 'male', 'male', 'male', 'male', 'male', 'male', 'male', 'male', 'male', 'male', 'male', 'male', 'male', 'male', 'male', 'male', 'male', 'male', 'male', 'male', 'male', 'male', 'male', 'male', 'male', 'male', 'male', 'male', 'male', 'male', 'male', 'male', 'male', 'male', 'male', 'male', 'male', 'male', 'male', 'male', 'male', 'male', 'male', 'male', 'male', 'male', 'male', 'male', 'male', 'male', 'male', 'male', 'male', 'male', 'male', 'male', 'male', 'male', 'male', 'male', 'male', 'male', 'male', 'male', 'male', 'male', 'male', 'male', 'male', 'male', 'male', 'male', 'male', 'male', 'male', 'male', 'male', 'male', 'male', 'male', 'male', 'male', 'male', 'male', 'male', 'male', 'male', 'male', 'male', 'male', 'male', 'male', 'male', 'male', 'male', 'male', 'male', 'male', 'male', 'male', 'male', 'male', 'male', 'male', 'male', 'male', 'male', 'male', 'male', 'male', 'male', 'male', 'male', 'male', 'male', 'male', 'male', 'male', 'male', 'male', 'male', 'male', 'male', 'male', 'male', 'male', 'male', 'male', 'male', 'male', 'male', 'male', 'male', 'male', 'male', 'male', 'male', 'male', 'male', 'male', 'male', 'male', 'male', 'male', 'male', 'male', 'male', 'male', 'male', 'male', 'male', 'male', 'male', 'male', 'male', 'male', 'male', 'male', 'male', 'male', 'male', 'male', 'male', 'male', 'male', 'male', 'male', 'male', 'male', 'male', 'male', 'male', 'male', 'male', 'male', 'male', 'male', 'male', 'male', 'male', 'male', 'male', 'male', 'male', 'male', 'male', 'male', 'male', 'male', 'male', 'male', 'male', 'male', 'male', 'male', 'male', 'male', 'male', 'male', 'male', 'male', 'female', 'female', 'female', 'female', 'female', 'female', 'female', 'female', 'female', 'female', 'female', 'female', 'female', 'female', 'female', 'female', 'female', 'female', 'female', 'female', 'female', 'female', 'female', 'female', 'female', 'female', 'female', 'female', 'female', 'female', 'female', 'female', 'female', 'female', 'female', 'female', 'female', 'female', 'female', 'female', 'female', 'female', 'female', 'female', 'female', 'female', 'female', 'female', 'female', 'female', 'female', 'female', 'female', 'female', 'female', 'female', 'female', 'female', 'female', 'female', 'female', 'female', 'female', 'female', 'female', 'female', 'female', 'female', 'female', 'female', 'female', 'female', 'female', 'female', 'female', 'female', 'female', 'female', 'female', 'female', 'female', 'female', 'female', 'female', 'female', 'female', 'female', 'female', 'female', 'female', 'female', 'female', 'female', 'female', 'female', 'female', 'female', 'female', 'female', 'female', 'female', 'female', 'female', 'female', 'female', 'female', 'female', 'female', 'female', 'female', 'female', 'female', 'female', 'female', 'female', 'female', 'female', 'female', 'female', 'female', 'female', 'female', 'female', 'female', 'female', 'female', 'female', 'female', 'female', 'female', 'female', 'female', 'female', 'female', 'female', 'female', 'female', 'female', 'female', 'female', 'female', 'female', 'female', 'female', 'female', 'female', 'female', 'female', 'female', 'female', 'female', 'female', 'female', 'female', 'female', 'female', 'female', 'female', 'female', 'female', 'female', 'female', 'female', 'female', 'female', 'female', 'female', 'female', 'female', 'female', 'female', 'female', 'female', 'female', 'female', 'female', 'female', 'female', 'female', 'female', 'female', 'female', 'female', 'female', 'female', 'female', 'female', 'female', 'female', 'female', 'female', 'female', 'female', 'female', 'female', 'female', 'female', 'female', 'female', 'female', 'female', 'female', 'female', 'female', 'female', 'female', 'female', 'female', 'female', 'female', 'female', 'female', 'female', 'female', 'female', 'female', 'female', 'female', 'female', 'female', 'female', 'female', 'female', 'female', 'female', 'female', 'female', 'female', 'female', 'female', 'female', 'female', 'female', 'female', 'female', 'female', 'female', 'female', 'female', 'female', 'female', 'female', 'female', 'female', 'female', 'female', 'female', 'female', 'female', 'female', 'female', 'female', 'female', 'female', 'female', 'female', 'female', 'female', 'female', 'female', 'female', 'female', 'female', 'female', 'female', 'female', 'female', 'female', 'female', 'female', 'female', 'female', 'female', 'female', 'female', 'female', 'female', 'female', 'female', 'female', 'female', 'female', 'female', 'female', 'female', 'female', 'female', 'female', 'female', 'female', 'female', 'female', 'female', 'female', 'female', 'female', 'female', 'female', 'female', 'female', 'female', 'female', 'female', 'female', 'female', 'female', 'female', 'female', 'female', 'female', 'female', 'female', 'female', 'female', 'female', 'female', 'female', 'female', 'female', 'female', 'female', 'female', 'female', 'female', 'female', 'female', 'female', 'female', 'female', 'female', 'female', 'female', 'female', 'female', 'female', 'female', 'female', 'female', 'female', 'female', 'female', 'female', 'female', 'female', 'female', 'female', 'female', 'female', 'female', 'female', 'female', 'female', 'female', 'female', 'female', 'female', 'female', 'female', 'female', 'female', 'female', 'female', 'female', 'female', 'female', 'female', 'female', 'female', 'female', 'female', 'female', 'female', 'female', 'female', 'female', 'female', 'female', 'female', 'female', 'female', 'female', 'female', 'female', 'female', 'female', 'female', 'female', 'female', 'female', 'female', 'female', 'male', 'male', 'male', 'male', 'male', 'male', 'male', 'female', 'female', 'female', 'female', 'female', 'female', 'female', 'female', 'female', 'female', 'female', 'female', 'female', 'female', 'female', 'female', 'female', 'female', 'female', 'female', 'female', 'female', 'female', 'female', 'female', 'female', 'female', 'female', 'female', 'female', 'female', 'female', 'female', 'female', 'female', 'female', 'female', 'female', 'female', 'female', 'female', 'female', 'female', 'female', 'female', 'female', 'female', 'female', 'female', 'female', 'female', 'female', 'female', 'female', 'female', 'female', 'female', 'female', 'female', 'female', 'female', 'female', 'female', 'female', 'female', 'female', 'female', 'female', 'female', 'female', 'female', 'female', 'female', 'female', 'female', 'female', 'female', 'female', 'female', 'female', 'female', 'female', 'female', 'female', 'female', 'female', 'female', 'female', 'female', 'female', 'female', 'female', 'female', 'female', 'female', 'female', 'female', 'female', 'female', 'female', 'female', 'female', 'female', 'female', 'female', 'male', 'male', 'male', 'male', 'male', 'male', 'male', 'male', 'male', 'male', 'male', 'male', 'male', 'male', 'male', 'male', 'male', 'male', 'male', 'male', 'male', 'male', 'male', 'male', 'male', 'male', 'male', 'male', 'male', 'male', 'male', 'male', 'male', 'male', 'male', 'male', 'male', 'male', 'male', 'male', 'male', 'male', 'male', 'male', 'male', 'male', 'male', 'male', 'male', 'male', 'male', 'male', 'male', 'male', 'male', 'male', 'male', 'male', 'male', 'male', 'male', 'male', 'male', 'male', 'male', 'male', 'male', 'male', 'male', 'male', 'male', 'male', 'male', 'male', 'male', 'male', 'male', 'male', 'male', 'male', 'male', 'male', 'female', 'female', 'female', 'female', 'female', 'female', 'female', 'female', 'female', 'female', 'female', 'female', 'female', 'female', 'female', 'female', 'female', 'female', 'female', 'female', 'female', 'female', 'female', 'female', 'female', 'female', 'female', 'female', 'female', 'female', 'female', 'female', 'female', 'female', 'female', 'female', 'female', 'female', 'female', 'female', 'female', 'female', 'female', 'female', 'female', 'female', 'female', 'female', 'female', 'female', 'female', 'female', 'female', 'female', 'female', 'female', 'female', 'female', 'female', 'female', 'female', 'female', 'female', 'female', 'female', 'female', 'female', 'female', 'female', 'female', 'female', 'female', 'female', 'female', 'female', 'female', 'female', 'female', 'female', 'female', 'female', 'female', 'female', 'female', 'female', 'female', 'female', 'female', 'female', 'female', 'female', 'female', 'female', 'female', 'female', 'female', 'female', 'female', 'female', 'female', 'female', 'female', 'female', 'female', 'female', 'female', 'female', 'female', 'female', 'female', 'female', 'female', 'female', 'female', 'female', 'female', 'female', 'female', 'female', 'female', 'female', 'female', 'female', 'female', 'female', 'female', 'female', 'female', 'female', 'female', 'female', 'female', 'female', 'female', 'female', 'female', 'female', 'female', 'female', 'female', 'female', 'female', 'female', 'female', 'female', 'female', 'female', 'female', 'female', 'female', 'female', 'female', 'female', 'female', 'female', 'female', 'female', 'female', 'female', 'female', 'female', 'female', 'female', 'female', 'female', 'female', 'female', 'female', 'female', 'female', 'female', 'female', 'female', 'female', 'female', 'female', 'female', 'female', 'female', 'female', 'female', 'female', 'male', 'male', 'male', 'male', 'male', 'male', 'male', 'male', 'male', 'male', 'male', 'male', 'male', 'male', 'male', 'male', 'male', 'male', 'male', 'male', 'male', 'male', 'male', 'male', 'male', 'male', 'male', 'male', 'male', 'male', 'male', 'male', 'male', 'male', 'male', 'male', 'male', 'male', 'male', 'male', 'male', 'male', 'male', 'male', 'male', 'male', 'male', 'male', 'male', 'male', 'male', 'male', 'male', 'male', 'male', 'male', 'male', 'male', 'male', 'male', 'male', 'male', 'male', 'male', 'male', 'male', 'male', 'male', 'male', 'male', 'male', 'male', 'male', 'male', 'male', 'male', 'male', 'male', 'male', 'male', 'male', 'male', 'male', 'male', 'male', 'male', 'male', 'male', 'male', 'male', 'male', 'male', 'male', 'male', 'male', 'male', 'male', 'male', 'male', 'male', 'male', 'male', 'male', 'male', 'male', 'male', 'male', 'male', 'male', 'male', 'male', 'male', 'male', 'male', 'male', 'male', 'male', 'male', 'male', 'male', 'male', 'male', 'male', 'male', 'male', 'male', 'male', 'male', 'male', 'male', 'male', 'male', 'male', 'male', 'male', 'male', 'male', 'male', 'male', 'male', 'male', 'male', 'male', 'male', 'male', 'male', 'male', 'male', 'male', 'male', 'male', 'male', 'male', 'male', 'male', 'male', 'male', 'male', 'male', 'male', 'male', 'male', 'male', 'male', 'male', 'male', 'male', 'male', 'male', 'male', 'male', 'male', 'male', 'male', 'male', 'male', 'male', 'male', 'male', 'male', 'male', 'male', 'male', 'male', 'male', 'male', 'male', 'male', 'male', 'male', 'male', 'male', 'male', 'male', 'male', 'male', 'male', 'male', 'male', 'male', 'male', 'male', 'male', 'male', 'male', 'male', 'male', 'male', 'male', 'male', 'male', 'male', 'male', 'male', 'male', 'male', 'male', 'male', 'male', 'male', 'male', 'male', 'male', 'male', 'male', 'male', 'male', 'male', 'male', 'male', 'male', 'male', 'male', 'male', 'male', 'male', 'male', 'male', 'male', 'male', 'male', 'male', 'male', 'male', 'male', 'male', 'male', 'male', 'male', 'male', 'male', 'male', 'male', 'male', 'male', 'male', 'male', 'male', 'male', 'male', 'male', 'male', 'male', 'male', 'male', 'male', 'male', 'male', 'male', 'male', 'male', 'male', 'male', 'male', 'male', 'male', 'male', 'male', 'male', 'male', 'male', 'male', 'male', 'male', 'male', 'male', 'male', 'male', 'male', 'male', 'male', 'male', 'male', 'male', 'male', 'male', 'male', 'male', 'male', 'male', 'male', 'male', 'male', 'male', 'male', 'male', 'male', 'male', 'male', 'male', 'male', 'male', 'male', 'male', 'male', 'male', 'male', 'male', 'male', 'male', 'male', 'male', 'male', 'male', 'male', 'male', 'male', 'male', 'male', 'male', 'male', 'male', 'male', 'male', 'male', 'male', 'male', 'male', 'male', 'male', 'male', 'female', 'female', 'female', 'female', 'female', 'female', 'female', 'female', 'female', 'female', 'female', 'female', 'female', 'female', 'female', 'female', 'female', 'female', 'female', 'female', 'female', 'female', 'female', 'female', 'female', 'female', 'female', 'female', 'female', 'female', 'female', 'female', 'female', 'female', 'female', 'female', 'female', 'female', 'female', 'female', 'female', 'female', 'female', 'female', 'female', 'female', 'female', 'female', 'female', 'female', 'female', 'female', 'female', 'female', 'female', 'female', 'female', 'female', 'female', 'female', 'female', 'female', 'female', 'female', 'female', 'female', 'female', 'female', 'female', 'female', 'female', 'female', 'female', 'female', 'female', 'female', 'female', 'female', 'female', 'female', 'female', 'female', 'female', 'female', 'female', 'female', 'female', 'female', 'female', 'female', 'female', 'female', 'female', 'female', 'female', 'female', 'female', 'female', 'female', 'female', 'female', 'female', 'female', 'female', 'female', 'female', 'female', 'female', 'female', 'female', 'female', 'female', 'female', 'female', 'female', 'female', 'female', 'female', 'female', 'female', 'female', 'female', 'female', 'female', 'female', 'female', 'female', 'female', 'female', 'female', 'female', 'female', 'female', 'female', 'female', 'female', 'female', 'female', 'female', 'female', 'female', 'female', 'female', 'female', 'female', 'female', 'female', 'female', 'female', 'female', 'female', 'female', 'female', 'female', 'female', 'female', 'female', 'female', 'female', 'female', 'female', 'female', 'female', 'female', 'female', 'female', 'female', 'female', 'female', 'female', 'female', 'female', 'female', 'female', 'female', 'female', 'female', 'female', 'female', 'female', 'female', 'female', 'female', 'female', 'female', 'female', 'female', 'female', 'female', 'female', 'female', 'female', 'female', 'female', 'female', 'female', 'female', 'female', 'female', 'female', 'female', 'female', 'female', 'female', 'female', 'female', 'female', 'female', 'female', 'female', 'female', 'female', 'female', 'female', 'female', 'female', 'female', 'female', 'female', 'female', 'female', 'female', 'female', 'female', 'female', 'female', 'female', 'female', 'female', 'female', 'female', 'female', 'female', 'female', 'female', 'female', 'female', 'female', 'female', 'female', 'female', 'female', 'female', 'female', 'female', 'female', 'female', 'female', 'female', 'female', 'female', 'female', 'female', 'female', 'female', 'female', 'female', 'female', 'female', 'female', 'female', 'female', 'female', 'female', 'female', 'female', 'female', 'female', 'female', 'female', 'female', 'female', 'female', 'female', 'female', 'female', 'female', 'female', 'female', 'female', 'female', 'female', 'female', 'female', 'female', 'female', 'female', 'female', 'female', 'female', 'female', 'female', 'female', 'female', 'female', 'male', 'male', 'male', 'male', 'male', 'male', 'male', 'male', 'male', 'female', 'female', 'female', 'female', 'female', 'female', 'female', 'female', 'female', 'female', 'female', 'female', 'female', 'female', 'female', 'female', 'female', 'female', 'female', 'female', 'female', 'female', 'female', 'female', 'female', 'female', 'female', 'female', 'female', 'female', 'female', 'female', 'female', 'female', 'female', 'female', 'female', 'female', 'female', 'female', 'female', 'female', 'female', 'female', 'female', 'female', 'female', 'female', 'female', 'female', 'female', 'female', 'female', 'female', 'female', 'female', 'female', 'female', 'female', 'female', 'female', 'female', 'female', 'female', 'female', 'female', 'female', 'female', 'female', 'female', 'female', 'female', 'female', 'female', 'female', 'female', 'female', 'female', 'female', 'female', 'female', 'female', 'female', 'female', 'female', 'female', 'female', 'female', 'female', 'female', 'female', 'female', 'female', 'female', 'female', 'female', 'female', 'female', 'female', 'female', 'female', 'female', 'female', 'female', 'female', 'female', 'female', 'female', 'female', 'female', 'female', 'female', 'female', 'female', 'female', 'female', 'female', 'female', 'female', 'female', 'female', 'female', 'female', 'female', 'female', 'female', 'female', 'female', 'female', 'female', 'female', 'female', 'female', 'female', 'female', 'female', 'female', 'female', 'female', 'female', 'female', 'female', 'female', 'female', 'female', 'female', 'female', 'female', 'female', 'female', 'female', 'female', 'female', 'female', 'female', 'female', 'female', 'female', 'female', 'female', 'female', 'female', 'female', 'female', 'female', 'female', 'female', 'female', 'female', 'female', 'female', 'female', 'female', 'female', 'female', 'female', 'female', 'female', 'female', 'female', 'female', 'female', 'female', 'female', 'female', 'female', 'female', 'female', 'female', 'female', 'female', 'female', 'female', 'female', 'female', 'female', 'female', 'female', 'female', 'female', 'female', 'female', 'female', 'female', 'female', 'female', 'female', 'female', 'female', 'female', 'female', 'female', 'female', 'female', 'female', 'female', 'female', 'female', 'female', 'female', 'female', 'female', 'female', 'female', 'female', 'female', 'female', 'female', 'female', 'female', 'female', 'female', 'female', 'female', 'female', 'female', 'female', 'female', 'female', 'female', 'female', 'female', 'female', 'female', 'female', 'female', 'female', 'female', 'female', 'female', 'female', 'female', 'female', 'female', 'female', 'female', 'female', 'female', 'female', 'female', 'female', 'female', 'female', 'female', 'female', 'female', 'female', 'female', 'female', 'female', 'female', 'female', 'female', 'female', 'female', 'female', 'female', 'female', 'female', 'female', 'female', 'female', 'female', 'female', 'female', 'female', 'female', 'female', 'female', 'female', 'female', 'female', 'female', 'female', 'female', 'female', 'female', 'female', 'female', 'female', 'female', 'female', 'female', 'female', 'female', 'female', 'female', 'female', 'female', 'female', 'female', 'female', 'female', 'female', 'female', 'female', 'female', 'female', 'female', 'female', 'female', 'female', 'female', 'female', 'female', 'female', 'female', 'female', 'female', 'female', 'female', 'female', 'female', 'female', 'female', 'female', 'female', 'female', 'female', 'female', 'female', 'female', 'female', 'female', 'female', 'female', 'female', 'female', 'female', 'female', 'female', 'female', 'female', 'female', 'female', 'female', 'female', 'female', 'female', 'female', 'female', 'female', 'female', 'female', 'female', 'female', 'female', 'female', 'female', 'female', 'female', 'female', 'female', 'female', 'female', 'female', 'female', 'female', 'female', 'female', 'female', 'female', 'female', 'female', 'female', 'female', 'female', 'female', 'female', 'female', 'female', 'female', 'female', 'female', 'female', 'female', 'female', 'female', 'female', 'female', 'female', 'female', 'female', 'female', 'female', 'female', 'female', 'female', 'female', 'female', 'female', 'female', 'female', 'female', 'female', 'female', 'female', 'female', 'female', 'female', 'female', 'female', 'female', 'female', 'female', 'female', 'female', 'female', 'female', 'female', 'female', 'female', 'female', 'female', 'female', 'female', 'female', 'female', 'female', 'female', 'female', 'female', 'female', 'female', 'female', 'female', 'female', 'female', 'female', 'female', 'female', 'female', 'female', 'female', 'female', 'female', 'female', 'female', 'female', 'female', 'female', 'female', 'female', 'female', 'female', 'female', 'female', 'female', 'female', 'female', 'female', 'female', 'female', 'female', 'female', 'female', 'female', 'female', 'female', 'female', 'female', 'female', 'female', 'female', 'female', 'female', 'female', 'female', 'female', 'female', 'female', 'female', 'female', 'female', 'female', 'female', 'female', 'female', 'female', 'female', 'female', 'female', 'female', 'female', 'female', 'female', 'female', 'female', 'female', 'female', 'female', 'female', 'female', 'female', 'female', 'female', 'female', 'female', 'female', 'female', 'female', 'female', 'female', 'female', 'female', 'female', 'female', 'female', 'female', 'female', 'female', 'female', 'female', 'female', 'female', 'female', 'female', 'female', 'female', 'female', 'female', 'female', 'female', 'female', 'female', 'female', 'female', 'female', 'female', 'female', 'female', 'female', 'female', 'female', 'female', 'female', 'female', 'female', 'female', 'female', 'female', 'female', 'female', 'female', 'female', 'female', 'female', 'female', 'female', 'female', 'female', 'female', 'female', 'female', 'female', 'female', 'female', 'female', 'female', 'female', 'female', 'female', 'female', 'female', 'female', 'female', 'female', 'female', 'female', 'female', 'female', 'female', 'female', 'female', 'female', 'female', 'female', 'female', 'female', 'female', 'female', 'female', 'female', 'female', 'female', 'female', 'female', 'female', 'female', 'female', 'female', 'female', 'female', 'female', 'female', 'female', 'female', 'female', 'female', 'female', 'female', 'female', 'female', 'female', 'female', 'female', 'female', 'female', 'female', 'female', 'female', 'female', 'female', 'female', 'female', 'female', 'female', 'female', 'female', 'female', 'female', 'female', 'female', 'female', 'female', 'female', 'female', 'female', 'female', 'female', 'female', 'female', 'female', 'female', 'female', 'female', 'female', 'female', 'female', 'female', 'female', 'female', 'female', 'female', 'female', 'female', 'female', 'female', 'female', 'female', 'female', 'female', 'female', 'female', 'female', 'female', 'female', 'female', 'female', 'female', 'female', 'female', 'female', 'female', 'female', 'female', 'female', 'female', 'female', 'female', 'female', 'female', 'female', 'female', 'female', 'female', 'female', 'female', 'female', 'female', 'female', 'female', 'female', 'female', 'female', 'female', 'female', 'female', 'female', 'female', 'female', 'female', 'female', 'female', 'female', 'female', 'female', 'female', 'male', 'male', 'male', 'male', 'male', 'male', 'male', 'male', 'male', 'male', 'male', 'male', 'male', 'male', 'male', 'male', 'male', 'male', 'male', 'male', 'male', 'male', 'male', 'male', 'male', 'male', 'male', 'male', 'male', 'male', 'male', 'male', 'male', 'male', 'male', 'male', 'male', 'male', 'male', 'male', 'male', 'male', 'male', 'male', 'male', 'male', 'male', 'male', 'male', 'male', 'male', 'male', 'male', 'male', 'male', 'male', 'male', 'male', 'male', 'male', 'male', 'male', 'male', 'male', 'male', 'male', 'male', 'male', 'male', 'male', 'male', 'male', 'male', 'male', 'male', 'male', 'male', 'male', 'male', 'male', 'male', 'male', 'male', 'male', 'male', 'male', 'male', 'male', 'male', 'male', 'male', 'male', 'male', 'male', 'male', 'male', 'male', 'male', 'male', 'male', 'male', 'male', 'male', 'male', 'male', 'male', 'male', 'male', 'male', 'male', 'male', 'male', 'male', 'male', 'male', 'male', 'male', 'male', 'male', 'male', 'male', 'male', 'male', 'male', 'male', 'male', 'male', 'male', 'male', 'male', 'male', 'male', 'male', 'male', 'male', 'male', 'male', 'male', 'male', 'male', 'male', 'male', 'male', 'male', 'male', 'male', 'male', 'male', 'male', 'male', 'male', 'male', 'male', 'male', 'male', 'male', 'male', 'male', 'male', 'male', 'male', 'male', 'male', 'male', 'male', 'male', 'male', 'male', 'male', 'male', 'male', 'male', 'male', 'male', 'male', 'male', 'male', 'male', 'male', 'male', 'male', 'male', 'male', 'male', 'male', 'male', 'male', 'male', 'male', 'male', 'male', 'male', 'male', 'male', 'male', 'male', 'male', 'male', 'male', 'male', 'male', 'male', 'male', 'male', 'male', 'male', 'male', 'male', 'male', 'male', 'male', 'male', 'male', 'male', 'male', 'male', 'male', 'male', 'male', 'male', 'male', 'male', 'male', 'male', 'male', 'male', 'male', 'male', 'male', 'male', 'male', 'male', 'male', 'male', 'male', 'male', 'male', 'male', 'male', 'male', 'male', 'male', 'male', 'male', 'male', 'male', 'male', 'male', 'male', 'male', 'male', 'male', 'male', 'male', 'male', 'male', 'male', 'male', 'male', 'male', 'male', 'male', 'male', 'male', 'male', 'male', 'male', 'male', 'male', 'male', 'male', 'male', 'male', 'male', 'male', 'male', 'male', 'male', 'male', 'male', 'male', 'male', 'male', 'male', 'male', 'male', 'male', 'male', 'male', 'male', 'male', 'male', 'male', 'male', 'male', 'male', 'male', 'male', 'male', 'male', 'male', 'male', 'male', 'male', 'male', 'male', 'male', 'male', 'male', 'male', 'male', 'male', 'male', 'male', 'male', 'male', 'male', 'male', 'male', 'male', 'male', 'male', 'male', 'male', 'male', 'male', 'male', 'male', 'male', 'male', 'male', 'male', 'male', 'male', 'male', 'male', 'male', 'male', 'male', 'male', 'male', 'male', 'male', 'male', 'male', 'male', 'male', 'male', 'male', 'male', 'male', 'male', 'male', 'male', 'male', 'male', 'male', 'male', 'male', 'male', 'male', 'male', 'male', 'male', 'male', 'male', 'male', 'male', 'male', 'male', 'male', 'male', 'male', 'male', 'male', 'male', 'male', 'male', 'male', 'male', 'male', 'male', 'male', 'male', 'male', 'male', 'male', 'male', 'male', 'male', 'male', 'male', 'male', 'male', 'male', 'male', 'male', 'male', 'male', 'male', 'male', 'male', 'male', 'male', 'male', 'male', 'male', 'male', 'male', 'male', 'male', 'male', 'male', 'male', 'male', 'male', 'male', 'male', 'male', 'male', 'male', 'male', 'male', 'male', 'male', 'male', 'male', 'male', 'male', 'male', 'male', 'male', 'male', 'male', 'male', 'male', 'male', 'male', 'male', 'male', 'male', 'male', 'male', 'male', 'male', 'male', 'male', 'male', 'male', 'male', 'male', 'male', 'male', 'male', 'male', 'male', 'male', 'male', 'male', 'male', 'male', 'male', 'male', 'male', 'male', 'male', 'male', 'male', 'male', 'male', 'male', 'male', 'male', 'male', 'male', 'male', 'male', 'male', 'male', 'male', 'male', 'male', 'male', 'male', 'male', 'male', 'male', 'male', 'male', 'male', 'male', 'male', 'male', 'male', 'male', 'male', 'male', 'male', 'male', 'male', 'male', 'male', 'male', 'male', 'male', 'male', 'male', 'male', 'male', 'male', 'male', 'male', 'male', 'male', 'male', 'male', 'male', 'male', 'male', 'male', 'male', 'male', 'male', 'male', 'male', 'male', 'male', 'male', 'male', 'male', 'male', 'male', 'male', 'male', 'male', 'male', 'male', 'male', 'male', 'male', 'male', 'male', 'male', 'male', 'male', 'male', 'male', 'male', 'male', 'male', 'male', 'male', 'male', 'male', 'male', 'male', 'male', 'male', 'male', 'male', 'male', 'male', 'male', 'male', 'male', 'male', 'male', 'male', 'male', 'male', 'male', 'male', 'male', 'male', 'male', 'male', 'male', 'male', 'male', 'male', 'male', 'male', 'male', 'male', 'male', 'male', 'male', 'male', 'male', 'male', 'male', 'male', 'male', 'male', 'male', 'male', 'male', 'male', 'male', 'male', 'male', 'male', 'male', 'male', 'male', 'male', 'male', 'male', 'male', 'male', 'male', 'male', 'male', 'male', 'male', 'male', 'male', 'male', 'male', 'male', 'male', 'male', 'male', 'male', 'male', 'male', 'male', 'male', 'male', 'male', 'male', 'male', 'male', 'male', 'male', 'male', 'male', 'male', 'male', 'male', 'male', 'male', 'male', 'male', 'male', 'male', 'male', 'male', 'male', 'male', 'male', 'male', 'male', 'male', 'male', 'male', 'male', 'male', 'female', 'female', 'female', 'female', 'male', 'male', 'male', 'male', 'male', 'male', 'male', 'male', 'male', 'male', 'male', 'male', 'male', 'male', 'male', 'male', 'male', 'male', 'male', 'male', 'male', 'male', 'male', 'male', 'male', 'male', 'male', 'male', 'male', 'male', 'male', 'male', 'male', 'male', 'male', 'male', 'male', 'male', 'male', 'male', 'male', 'male', 'male', 'male', 'male', 'male', 'male', 'male', 'male', 'male', 'male', 'male', 'male', 'male', 'male', 'male', 'male', 'male', 'male', 'male', 'male', 'male', 'male', 'male', 'male', 'male', 'male', 'male', 'male', 'male', 'male', 'male', 'male', 'male', 'male', 'male', 'male', 'male', 'male', 'male', 'male', 'male', 'male', 'male', 'male', 'male', 'male', 'male', 'male', 'male', 'male', 'male', 'male', 'male', 'male', 'male', 'female', 'female', 'female', 'female', 'female', 'female', 'female', 'female', 'female', 'female', 'female', 'female', 'female', 'female', 'female', 'female', 'female', 'female', 'female', 'female', 'female', 'female', 'female', 'female', 'female', 'female', 'female', 'female', 'female', 'female', 'female', 'female', 'female', 'female', 'female', 'female', 'female', 'female', 'female', 'female', 'female', 'female', 'female', 'female', 'female', 'female', 'female', 'female', 'female', 'female', 'female', 'female', 'female', 'female', 'female', 'female', 'female', 'female', 'female', 'female', 'female', 'female', 'female', 'female', 'female', 'female', 'female', 'female', 'female', 'female', 'female', 'female', 'female', 'female', 'female', 'female', 'female', 'female', 'female', 'female', 'female', 'female', 'female', 'female', 'female', 'female', 'female', 'female', 'female', 'female', 'female', 'female', 'female', 'female', 'female', 'female', 'female', 'female', 'female', 'female', 'female', 'female', 'female', 'female', 'female', 'female', 'female', 'female', 'female', 'female', 'female', 'female', 'female', 'female', 'female', 'female', 'female', 'female', 'female', 'female', 'female', 'female', 'female', 'female', 'female', 'female', 'female', 'female', 'female', 'female', 'female', 'female', 'female', 'female', 'female', 'female', 'female', 'female', 'female', 'female', 'female', 'female', 'female', 'female', 'female', 'female', 'female', 'female', 'female', 'female', 'female', 'female', 'female', 'female', 'female', 'female', 'female', 'female', 'female', 'female', 'female', 'female', 'female', 'female', 'female', 'female', 'female', 'female', 'female', 'female', 'female', 'female', 'female', 'female', 'female', 'female', 'female', 'female', 'female', 'female', 'female', 'female', 'female', 'female', 'female', 'female', 'female', 'female', 'female', 'male', 'male', 'male', 'male', 'male', 'male', 'male', 'male', 'male', 'male', 'male', 'male', 'male', 'male', 'male', 'male', 'male', 'male', 'male', 'male', 'male', 'male', 'male', 'male', 'male', 'male', 'male', 'male', 'male', 'male', 'male', 'male', 'male', 'male', 'male', 'male', 'male', 'male', 'male', 'male', 'male', 'male', 'male', 'male', 'male', 'male', 'male', 'male', 'male', 'male', 'male', 'male', 'male', 'male', 'male', 'male', 'male', 'male', 'male', 'male', 'male', 'male', 'male', 'male', 'male', 'male', 'male', 'male', 'male', 'male', 'male', 'male', 'male', 'male', 'male', 'male', 'male', 'male', 'male', 'male', 'male', 'male', 'male', 'male', 'male', 'male', 'male', 'male', 'male', 'male', 'male', 'male', 'male', 'male', 'male', 'male', 'male', 'male', 'male', 'male', 'male', 'male', 'male', 'male', 'male', 'male', 'male', 'male', 'male', 'male', 'male', 'male', 'male', 'male', 'male', 'male', 'male', 'male', 'male', 'male', 'male', 'male', 'male', 'male', 'male', 'male', 'male', 'male', 'male', 'male', 'male', 'male', 'male', 'male', 'male', 'male', 'male', 'male', 'male', 'male', 'male', 'male', 'male', 'male', 'male', 'male', 'male', 'male', 'male', 'male', 'male', 'male', 'male', 'male', 'male', 'male', 'male', 'male', 'male', 'male', 'male', 'male', 'male', 'male', 'male', 'male', 'male', 'male', 'male', 'male', 'male', 'male', 'male', 'male', 'male', 'male', 'male', 'male', 'male', 'male', 'female', 'female', 'female', 'female', 'female', 'female', 'female', 'female', 'female', 'female', 'female', 'female', 'female', 'female', 'female', 'female', 'female', 'female', 'female', 'female', 'female', 'female', 'female', 'female', 'female', 'female', 'female', 'female', 'female', 'female', 'female', 'female', 'female', 'female', 'female', 'female', 'female', 'female', 'female', 'female', 'female', 'female', 'female', 'female', 'female', 'female', 'female', 'female', 'female', 'female', 'female', 'female', 'female', 'female', 'female', 'female', 'female', 'female', 'female', 'female', 'female', 'female', 'female', 'female', 'female', 'female', 'female', 'female', 'female', 'female', 'female', 'female', 'female', 'female', 'female', 'female', 'female', 'female', 'female', 'female', 'female', 'female', 'female', 'female', 'female', 'female', 'female', 'female', 'female', 'female', 'female', 'female', 'female', 'female', 'female', 'female', 'female', 'female', 'female', 'female', 'female', 'female', 'female', 'female', 'female', 'female', 'female', 'female', 'female', 'female', 'female', 'female', 'female', 'female', 'female', 'female', 'female', 'female', 'female', 'female', 'female', 'female', 'female', 'female', 'female', 'female', 'female', 'female', 'female', 'female', 'female', 'female', 'female', 'female', 'female', 'female', 'female', 'female', 'female', 'female', 'female', 'female', 'female', 'female', 'female', 'female', 'female', 'female', 'female', 'female', 'female', 'female', 'female', 'female', 'female', 'female', 'female', 'female', 'female', 'female', 'female', 'female', 'female', 'female', 'female', 'female', 'female', 'female', 'female', 'female', 'female', 'female', 'female', 'female', 'female', 'female', 'female', 'female', 'female', 'female', 'female', 'female', 'female', 'female', 'female', 'female', 'female', 'female', 'female', 'female', 'female', 'female', 'female', 'female', 'female', 'female', 'female', 'female', 'female', 'female', 'female', 'female', 'female', 'female', 'female', 'female', 'female', 'female', 'female', 'female', 'female', 'female', 'female', 'female', 'female', 'female', 'female', 'female', 'female', 'female', 'female', 'female', 'female', 'female', 'female', 'female', 'female', 'female', 'female', 'female', 'female', 'female', 'female', 'female', 'female', 'female', 'female', 'female', 'female', 'female', 'female', 'female', 'female', 'female', 'female', 'female', 'female', 'female', 'female', 'female', 'female', 'female', 'female', 'female', 'female', 'female', 'female', 'female', 'female', 'female', 'female', 'female', 'female', 'female', 'female', 'female', 'female', 'female', 'female', 'female', 'female', 'female', 'female', 'female', 'female', 'female', 'female', 'female', 'female', 'female', 'female', 'female', 'female', 'female', 'female', 'female', 'female', 'female', 'female', 'female', 'female', 'female', 'female', 'female', 'female', 'female', 'female', 'female', 'female', 'female', 'female', 'female', 'female', 'female', 'female', 'female', 'female', 'female', 'female', 'female', 'female', 'female', 'female', 'female', 'female', 'female', 'female', 'female', 'female', 'female', 'female', 'female', 'female', 'female', 'female', 'female', 'female', 'female', 'female', 'female', 'female', 'female', 'female', 'female', 'female', 'female', 'female', 'female', 'female', 'female', 'female', 'female', 'female', 'female', 'female', 'female', 'female', 'female', 'female', 'female', 'female', 'female', 'female', 'female', 'female', 'female', 'female', 'female', 'female', 'female', 'female', 'female', 'female', 'female', 'female', 'female', 'female', 'female', 'female', 'female', 'female', 'female', 'female', 'female', 'female', 'female', 'female', 'female', 'female', 'female', 'female', 'female', 'female', 'female', 'female', 'female', 'female', 'female', 'female', 'female', 'female', 'female', 'female', 'female', 'female', 'female', 'female', 'female', 'female', 'female', 'female', 'female', 'female', 'female', 'female', 'female', 'female', 'female', 'female', 'female', 'female', 'female', 'female', 'female', 'female', 'female', 'female', 'female', 'female', 'female', 'female', 'female', 'female', 'female', 'female', 'female', 'female', 'female', 'female', 'female', 'female', 'female', 'female', 'female', 'female', 'female', 'female', 'female', 'female', 'female', 'female', 'female', 'female', 'female', 'female', 'female', 'female', 'female', 'female', 'female', 'female', 'female', 'female', 'female', 'female', 'female', 'female', 'female', 'female', 'female', 'female', 'female', 'female', 'female', 'female', 'female', 'female', 'female', 'female', 'female', 'female', 'female', 'female', 'female', 'female', 'female', 'female', 'female', 'female', 'female', 'female', 'female', 'female', 'female', 'female', 'female', 'female', 'female', 'female', 'female', 'female', 'female', 'female', 'female', 'female', 'female', 'female', 'female', 'female', 'male', 'male', 'male', 'male', 'male', 'male', 'male', 'male', 'male', 'male', 'male', 'male', 'male', 'male', 'male', 'male', 'male', 'male', 'male', 'male', 'male', 'male', 'male', 'male', 'male', 'female', 'female', 'female', 'female', 'female', 'female', 'female', 'female', 'female', 'female', 'female', 'female', 'female', 'female', 'female', 'female', 'female', 'female', 'female', 'female', 'female', 'female', 'female', 'female', 'female', 'female', 'female', 'female', 'female', 'female', 'female', 'female', 'female', 'female', 'female', 'female', 'female', 'female', 'female', 'female', 'female', 'female', 'female', 'female', 'female', 'female', 'female', 'female', 'female', 'female', 'female', 'female', 'female', 'female', 'female', 'female', 'female', 'female', 'female', 'female', 'female', 'female', 'female', 'female', 'female', 'female', 'female', 'female', 'female', 'female', 'female', 'female', 'female', 'female', 'female', 'female', 'female', 'female', 'female', 'female', 'female', 'female', 'female', 'female', 'female', 'female', 'female', 'female', 'female', 'female', 'female', 'female', 'female', 'female', 'female', 'female', 'female', 'female', 'female', 'female', 'female', 'female', 'female', 'female', 'female', 'female', 'female', 'female', 'female', 'female', 'female', 'female', 'female', 'female', 'female', 'female', 'female', 'female', 'female', 'female', 'female', 'female', 'female', 'female', 'female', 'female', 'female', 'female', 'female', 'female', 'female', 'female', 'female', 'female', 'female', 'female', 'female', 'female', 'female', 'female', 'female', 'female', 'female', 'female', 'female', 'female', 'female', 'female', 'female', 'female', 'female', 'female', 'female', 'female', 'female', 'female', 'female', 'female', 'female', 'female', 'female', 'female', 'female', 'female', 'female', 'female', 'female', 'female', 'female', 'female', 'female', 'female', 'female', 'female', 'female', 'female', 'female', 'female', 'female', 'female', 'female', 'female', 'female', 'female', 'female', 'female', 'female', 'female', 'female', 'female', 'female', 'female', 'female', 'female', 'female', 'female', 'female', 'female', 'female', 'female', 'female', 'female', 'female', 'female', 'female', 'female', 'female', 'female', 'female', 'female', 'female', 'female', 'female', 'female', 'female', 'female', 'female', 'female', 'female', 'female', 'female', 'female', 'female', 'female', 'female', 'female', 'female', 'female', 'female', 'female', 'female', 'female', 'female', 'female', 'female', 'female', 'female', 'female', 'female', 'female', 'female', 'female', 'female', 'female', 'female', 'female', 'female', 'female', 'female', 'female', 'female', 'female', 'female', 'female', 'female', 'female', 'female', 'female', 'female', 'female', 'female', 'female', 'female', 'female', 'male', 'male', 'male', 'male', 'male', 'male', 'male', 'male', 'male', 'male', 'male', 'female', 'female', 'female', 'female', 'female', 'female', 'female', 'female', 'female', 'female', 'female', 'female', 'female', 'female', 'female', 'female', 'female', 'female', 'female', 'female', 'female', 'female', 'female', 'female', 'female', 'female', 'female', 'female', 'female', 'female', 'female', 'female', 'female', 'female', 'female', 'female', 'female', 'female', 'male', 'male', 'male', 'male', 'male', 'male', 'male', 'male', 'male', 'male', 'male', 'male', 'male', 'male', 'male', 'male', 'male', 'male', 'male', 'male', 'male', 'male', 'male', 'male', 'male', 'male', 'male', 'male', 'male', 'male', 'male', 'male', 'male', 'male', 'male', 'male', 'male', 'male', 'male', 'male', 'male', 'male', 'male', 'male', 'male', 'male', 'male', 'male', 'male', 'male', 'male', 'male', 'male', 'male', 'male', 'male', 'male', 'male', 'male', 'male', 'male', 'male', 'male', 'male', 'male', 'male', 'male', 'male', 'male', 'male', 'male', 'male', 'female', 'female', 'female', 'female', 'female', 'female', 'female', 'female', 'female', 'female', 'female', 'female', 'female', 'female', 'female', 'female', 'female', 'female', 'female', 'female', 'female', 'female', 'female', 'female', 'female', 'female', 'female', 'female', 'female', 'female', 'female', 'female', 'female', 'female', 'female', 'female', 'female', 'female', 'female', 'female', 'female', 'female', 'female', 'female', 'female', 'female', 'female', 'female', 'female', 'female', 'female', 'female', 'female', 'female', 'female', 'female', 'female', 'female', 'female', 'female', 'female', 'female', 'female', 'female', 'female', 'female', 'male', 'male', 'male', 'male', 'male', 'male', 'male', 'male', 'male', 'male', 'male', 'male', 'male', 'male', 'male', 'male', 'male', 'male', 'male', 'male', 'male', 'male', 'male', 'male', 'male', 'male', 'male', 'male', 'male', 'male', 'male', 'male', 'male', 'male', 'male', 'male', 'male', 'male', 'male', 'male', 'male', 'male', 'male', 'male', 'male', 'male', 'male', 'male', 'male', 'male', 'male', 'male', 'male', 'male', 'male', 'male', 'male', 'male', 'male', 'male', 'male', 'male', 'male', 'male', 'male', 'male', 'male', 'male', 'male', 'male', 'male', 'male', 'male', 'male', 'male', 'male', 'male', 'male', 'male', 'male', 'male', 'male', 'male', 'male', 'male', 'male', 'male', 'male', 'male', 'male', 'male', 'male', 'male', 'male', 'male', 'male', 'male', 'male', 'male', 'male', 'male', 'female', 'female', 'female', 'female', 'female', 'female', 'female', 'female', 'female', 'female', 'female', 'female', 'female', 'female', 'female', 'female', 'female', 'female', 'female', 'female', 'female', 'female', 'female', 'female', 'female', 'female', 'female', 'female', 'female', 'female', 'male', 'male', 'male', 'male', 'male', 'male', 'male', 'male', 'male', 'male', 'male', 'male', 'male', 'male', 'male', 'male', 'male', 'male', 'male', 'female', 'female', 'female', 'female', 'female', 'female', 'female', 'female', 'female', 'female', 'female', 'female', 'female', 'female', 'female', 'female', 'female', 'female', 'female', 'female', 'female', 'female', 'female', 'female', 'female', 'female', 'female', 'female', 'female', 'female', 'female', 'female', 'female', 'female', 'female', 'female', 'female', 'female', 'female', 'female', 'female', 'female', 'female', 'female', 'female', 'female', 'female', 'female', 'female', 'female', 'female', 'female', 'female', 'female', 'female', 'female', 'female', 'female', 'female', 'female', 'female', 'female', 'female', 'female', 'female', 'female', 'female', 'female', 'female', 'female', 'female', 'female', 'female', 'female', 'female', 'female', 'female', 'female', 'female', 'female', 'female', 'female', 'female', 'female', 'female', 'female', 'female', 'female', 'female', 'female', 'female', 'female', 'female', 'female', 'female', 'female', 'female', 'female', 'female', 'female', 'female', 'female', 'female', 'female', 'female', 'female', 'female', 'female', 'female', 'female', 'female', 'female', 'female', 'female', 'female', 'female', 'female', 'female', 'female', 'female', 'female', 'female', 'female', 'female', 'female', 'female', 'female', 'female', 'female', 'female', 'female', 'female', 'female', 'female', 'female', 'female', 'female', 'female', 'female', 'female', 'female', 'female', 'female', 'female', 'female', 'female', 'female', 'female', 'female', 'female', 'female', 'female', 'female', 'female', 'female', 'female', 'female', 'female', 'female', 'female', 'female', 'female', 'female', 'female', 'female', 'female', 'female', 'female', 'female', 'female', 'female', 'female', 'female', 'female', 'female', 'female', 'female', 'female', 'female', 'female', 'female', 'female', 'female', 'female', 'female', 'female', 'female', 'female', 'female', 'female', 'female', 'female', 'female', 'female', 'female', 'female', 'female', 'female', 'female', 'female', 'female', 'female', 'female', 'female', 'female', 'female', 'female', 'female', 'female', 'female', 'female', 'female', 'female', 'female', 'female', 'female', 'female', 'female', 'female', 'female', 'female', 'female', 'female', 'female', 'female', 'female', 'female', 'female', 'female', 'female', 'female', 'female', 'female', 'female', 'female', 'female', 'female', 'female', 'female', 'female', 'female', 'female', 'female', 'female', 'female', 'female', 'female', 'female', 'female', 'female', 'female', 'female', 'female', 'female', 'female', 'female', 'female', 'female', 'female', 'female', 'female', 'female', 'female', 'female', 'female', 'female', 'female', 'female', 'female', 'female', 'female', 'female', 'female', 'female', 'female', 'female', 'female', 'female', 'female', 'female', 'female', 'female', 'female', 'female', 'female', 'female', 'female', 'female', 'female', 'female', 'female', 'female', 'female', 'female', 'female', 'female', 'female', 'female', 'female', 'female', 'female', 'female', 'female', 'female', 'female', 'female', 'female', 'female', 'female', 'female', 'female', 'female', 'female', 'female', 'female', 'female', 'female', 'female', 'female', 'female', 'female', 'female', 'female', 'female', 'female', 'female', 'female', 'female', 'female', 'female', 'female', 'female', 'female', 'female', 'female', 'female', 'female', 'female', 'female', 'female', 'female', 'female', 'female', 'female', 'female', 'female', 'female', 'female', 'female', 'female', 'female', 'female', 'female', 'female', 'female', 'female', 'female', 'female', 'female', 'female', 'female', 'female', 'female', 'female', 'female', 'female', 'female', 'female', 'female', 'female', 'female', 'female', 'female', 'female', 'female', 'female', 'female', 'female', 'female', 'female', 'female', 'female', 'female', 'female', 'female', 'female', 'female', 'female', 'female', 'female', 'female', 'female', 'female', 'female', 'female', 'female', 'female', 'female', 'female', 'female', 'female', 'female', 'female', 'female', 'female', 'female', 'female', 'female', 'female', 'female', 'female', 'female', 'female', 'female', 'female', 'female', 'female', 'female', 'female', 'female', 'female', 'female', 'female', 'female', 'female', 'female', 'female', 'female', 'female', 'female', 'female', 'female', 'female', 'female', 'female', 'female', 'female', 'female', 'female', 'female', 'female', 'female', 'female', 'female', 'female', 'female', 'female', 'female', 'female', 'female', 'female', 'female', 'female', 'female', 'female', 'female', 'female', 'female', 'female', 'female', 'female', 'female', 'female', 'female', 'female', 'female', 'female', 'female', 'female', 'female', 'female', 'female', 'female', 'female', 'female', 'female', 'female', 'female', 'female', 'female', 'female', 'female', 'female', 'female', 'female', 'female', 'female', 'female', 'female', 'female', 'female', 'female', 'female', 'female', 'female', 'female', 'female', 'female', 'female', 'female', 'female', 'female', 'female', 'female', 'female', 'female', 'female', 'female', 'female', 'female', 'female', 'female', 'female', 'female', 'female', 'female', 'female', 'female', 'female', 'female', 'female', 'female', 'female', 'female', 'female', 'female', 'female', 'female', 'female', 'female', 'female', 'female', 'female', 'female', 'female', 'female', 'female', 'female', 'female', 'female', 'female', 'female', 'female', 'female', 'female', 'female', 'female', 'female', 'female', 'female', 'female', 'female', 'female', 'female', 'female', 'female', 'female', 'female', 'female', 'female', 'female', 'female', 'female', 'female', 'female', 'female', 'female', 'female', 'female', 'female', 'female', 'female', 'female', 'female', 'female', 'female', 'female', 'female', 'female', 'female', 'female', 'female', 'female', 'female', 'female', 'female', 'female', 'female', 'female', 'female', 'female', 'female', 'female', 'female', 'female', 'female', 'female', 'female', 'female', 'female', 'female', 'female', 'female', 'female', 'female', 'female', 'female', 'female', 'female', 'female', 'female', 'female', 'female', 'female', 'female', 'female', 'female', 'female', 'female', 'female', 'female', 'female', 'female', 'female', 'female', 'female', 'female', 'female', 'female', 'female', 'female', 'female', 'female', 'female', 'female', 'female', 'female', 'female', 'female', 'female', 'female', 'female', 'female', 'female', 'female', 'female', 'female', 'female', 'female', 'female', 'female', 'female', 'female', 'female', 'female', 'female', 'female', 'female', 'female', 'female', 'female', 'female', 'female', 'female', 'female', 'female', 'female', 'female', 'female', 'female', 'female', 'female', 'female', 'female', 'female', 'female', 'female', 'female', 'female', 'female', 'female', 'female', 'female', 'female', 'female', 'female', 'female', 'female', 'female', 'female', 'female', 'female', 'female', 'female', 'female', 'female', 'female', 'female', 'female', 'female', 'female', 'female', 'female', 'female', 'female', 'female', 'female', 'female', 'female', 'female', 'female', 'female', 'female', 'female', 'female', 'female', 'female', 'female', 'female', 'female', 'female', 'female', 'female', 'female', 'female', 'female', 'female', 'female', 'female', 'female', 'female', 'female', 'female', 'female', 'female', 'female', 'female', 'female', 'female', 'female', 'female', 'female', 'female', 'female', 'female', 'female', 'female', 'female', 'female', 'female', 'female', 'female', 'female', 'female', 'female', 'female', 'female', 'female', 'female', 'female', 'female', 'female', 'female', 'female', 'female', 'female', 'female', 'female', 'female', 'female', 'female', 'female', 'female', 'female', 'female', 'female', 'female', 'female', 'female', 'female', 'female', 'female', 'female', 'female', 'female', 'female', 'female', 'female', 'female', 'female', 'female', 'female', 'female', 'female', 'female', 'female', 'female', 'female', 'female', 'female', 'female', 'female', 'female', 'female', 'female', 'female', 'female', 'female', 'female', 'female', 'female', 'female', 'female', 'female', 'female', 'female', 'female', 'female', 'female', 'female', 'female', 'female', 'female', 'female', 'female', 'female', 'female', 'female', 'female', 'female', 'female', 'female', 'female', 'female', 'female', 'female', 'female', 'female', 'female', 'female', 'female', 'female', 'female', 'female', 'female', 'female', 'female', 'female', 'female', 'female', 'female', 'female', 'female', 'female', 'female', 'female', 'female', 'female', 'female', 'female', 'female', 'female', 'female', 'female', 'female', 'female', 'female', 'female', 'female', 'female', 'female', 'female', 'female', 'female', 'female', 'female', 'female', 'female', 'female', 'female', 'female', 'female', 'female', 'female', 'female', 'female', 'female', 'female', 'female', 'female', 'female', 'female', 'female', 'female', 'female', 'female', 'female', 'female', 'female', 'female', 'female', 'female', 'female', 'female', 'female', 'female', 'female', 'female', 'female', 'female', 'female', 'female', 'female', 'female', 'female', 'female', 'female', 'female', 'female', 'female', 'female', 'female', 'female', 'female', 'female', 'female', 'female', 'female', 'female', 'female', 'female', 'female', 'female', 'female', 'female', 'female', 'female', 'female', 'female', 'female', 'female', 'female', 'female', 'female', 'female', 'female', 'female', 'female', 'female', 'female', 'female', 'female', 'female', 'female', 'female', 'female', 'female', 'female', 'female', 'female', 'female', 'female', 'female', 'female', 'female', 'female', 'female', 'female', 'female', 'female', 'female', 'female', 'female', 'female', 'female', 'female', 'female', 'female', 'female', 'female', 'female', 'female', 'female', 'female', 'female', 'female', 'female', 'female', 'female', 'female', 'female', 'female', 'female', 'female', 'female', 'female', 'female', 'female', 'female', 'female', 'female', 'female', 'female', 'female', 'female', 'female', 'female', 'female', 'female', 'female', 'female', 'female', 'female', 'female', 'female', 'female', 'female', 'female', 'female', 'female', 'female', 'female', 'female', 'female', 'female', 'female', 'female', 'female', 'female', 'female', 'female', 'female', 'female', 'female', 'female', 'female', 'female', 'female', 'female', 'female', 'female', 'female', 'female', 'female', 'female', 'female', 'female', 'female', 'female', 'female', 'female', 'female', 'female', 'female', 'female', 'female', 'female', 'female', 'female', 'female', 'female', 'female', 'female', 'female', 'female', 'female', 'female', 'female', 'female', 'female', 'female', 'female', 'female', 'female', 'female', 'female', 'female', 'female', 'female', 'female', 'female', 'female', 'female', 'female', 'female', 'female', 'female', 'female', 'female', 'female', 'female', 'female', 'female', 'female', 'female', 'female', 'female', 'female', 'female', 'female', 'female', 'female', 'female', 'female', 'female', 'female', 'female', 'male', 'male', 'male', 'male', 'male', 'male', 'male', 'male', 'male', 'male', 'male', 'male', 'male', 'male', 'male', 'male', 'male', 'male', 'male', 'male', 'male', 'male', 'male', 'male', 'male', 'male', 'male', 'male', 'male', 'male', 'male', 'male', 'male', 'male', 'male', 'male', 'male', 'male', 'male', 'male', 'male', 'male', 'male', 'male', 'male', 'male', 'male', 'male', 'male', 'male', 'male', 'male', 'male', 'male', 'male', 'male', 'male', 'male', 'male', 'male', 'male', 'male', 'male', 'male', 'male', 'male', 'male', 'male', 'male', 'male', 'male', 'male', 'male', 'male', 'male', 'male', 'male', 'male', 'male', 'male', 'male', 'male', 'male', 'male', 'male', 'male', 'male', 'male', 'male', 'male', 'male', 'male', 'male', 'male', 'male', 'male', 'male', 'male', 'male', 'male', 'male', 'male', 'male', 'male', 'male', 'male', 'male', 'male', 'male', 'male', 'male', 'male', 'male', 'male', 'male', 'male', 'male', 'male', 'male', 'male', 'male', 'male', 'male', 'male', 'male', 'male', 'male', 'male', 'male', 'male', 'male', 'male', 'male', 'male', 'male', 'male', 'male', 'male', 'male', 'male', 'male', 'male', 'male', 'male', 'male', 'male', 'male', 'male', 'male', 'male', 'male', 'male', 'male', 'male', 'male', 'male', 'male', 'male', 'male', 'male', 'male', 'male', 'male', 'male', 'male', 'male', 'male', 'male', 'male', 'male', 'male', 'male', 'male', 'male', 'male', 'male', 'male', 'male', 'male', 'male', 'male', 'male', 'male', 'male', 'male', 'male', 'male', 'male', 'male', 'male', 'male', 'male', 'male', 'male', 'male', 'male', 'male', 'male', 'male', 'male', 'male', 'male', 'male', 'male', 'male', 'male', 'male', 'male', 'male', 'male', 'male', 'male', 'male', 'male', 'male', 'male', 'male', 'male', 'male', 'male', 'male', 'male', 'male', 'male', 'male', 'male', 'male', 'male', 'male', 'male', 'male', 'male', 'male', 'male', 'male', 'male', 'male', 'male', 'male', 'male', 'male', 'male', 'male', 'male', 'male', 'male', 'male', 'male', 'male', 'male', 'male', 'male', 'male', 'male', 'male', 'male', 'male', 'male', 'male', 'male', 'male', 'male', 'male', 'male', 'male', 'male', 'male', 'male', 'male', 'male', 'male', 'male', 'male', 'male', 'male', 'male', 'male', 'male', 'male', 'male', 'male', 'male', 'male', 'male', 'male', 'male', 'male', 'male', 'male', 'male', 'male', 'male', 'male', 'male', 'male', 'male', 'male', 'male', 'male', 'male', 'male', 'male', 'male', 'male', 'male', 'male', 'male', 'male', 'male', 'male', 'male', 'male', 'male', 'male', 'male', 'male', 'male', 'male', 'male', 'male', 'male', 'male', 'male', 'male', 'male', 'male', 'male', 'male', 'male', 'male', 'male', 'male', 'male', 'male', 'male', 'male', 'male', 'male', 'male', 'male', 'male', 'male', 'male', 'male', 'male', 'male', 'male', 'male', 'male', 'male', 'male', 'male', 'male', 'male', 'male', 'male', 'male', 'male', 'male', 'male', 'male', 'male', 'male', 'male', 'male', 'male', 'male', 'male', 'male', 'male', 'male', 'male', 'male', 'male', 'male', 'male', 'male', 'male', 'male', 'male', 'male', 'male', 'male', 'male', 'male', 'male', 'male', 'male', 'male', 'male', 'male', 'male', 'male', 'male', 'male', 'male', 'male', 'male', 'male', 'male', 'male', 'male', 'male', 'male', 'male', 'male', 'male', 'male', 'male', 'male', 'male', 'male', 'male', 'male', 'male', 'male', 'male', 'male', 'male', 'male', 'male', 'male', 'male', 'male', 'male', 'male', 'male', 'male', 'male', 'male', 'male', 'male', 'male', 'male', 'male', 'male', 'male', 'male', 'male', 'male', 'male', 'male', 'male', 'male', 'male', 'male', 'male', 'male', 'male', 'male', 'male', 'male', 'male', 'male', 'male', 'male', 'male', 'male', 'male', 'male', 'male', 'male', 'male', 'male', 'male', 'male', 'male', 'male', 'male', 'male', 'male', 'male', 'male', 'male', 'male', 'male', 'male', 'male', 'male', 'male', 'male', 'male', 'male', 'male', 'male', 'male', 'male', 'male', 'male', 'male', 'male', 'male', 'male', 'male', 'male', 'male', 'male', 'male', 'male', 'male', 'male', 'male', 'male', 'male', 'male', 'male', 'male', 'male', 'male', 'male', 'male', 'male', 'male', 'male', 'male', 'male', 'male', 'male', 'male', 'male', 'male', 'male', 'male', 'male', 'male', 'male', 'male', 'male', 'male', 'male', 'male', 'male', 'male', 'male', 'male', 'male', 'male', 'male', 'male', 'male', 'male', 'male', 'male', 'male', 'male', 'male', 'male', 'male', 'male', 'male', 'male', 'male', 'male', 'male', 'male', 'male', 'male', 'male', 'male', 'male', 'male', 'male', 'male', 'male', 'male', 'male', 'male', 'male', 'male', 'male', 'male', 'male', 'male', 'male', 'male', 'male', 'male', 'male', 'male', 'male', 'male', 'male', 'male', 'male', 'male', 'male', 'male', 'male', 'male', 'male', 'male', 'male', 'male', 'male', 'male', 'male', 'male', 'male', 'male', 'male', 'male', 'male', 'male', 'male', 'male', 'male', 'male', 'male', 'male', 'male', 'male', 'male', 'male', 'male', 'male', 'male', 'male', 'male', 'male', 'male', 'male', 'male', 'male', 'male', 'male', 'male', 'male', 'male', 'male', 'male', 'male', 'male', 'male', 'male', 'male', 'male', 'male', 'male', 'male', 'male', 'male', 'male', 'male', 'male', 'male', 'male', 'male', 'male', 'male', 'male', 'male', 'male', 'male', 'male', 'male', 'male', 'male', 'male', 'male', 'male', 'male', 'male', 'male', 'male', 'male', 'male', 'male', 'male', 'male', 'male', 'male', 'male', 'male', 'male', 'male', 'male', 'male', 'male', 'male', 'male', 'male', 'male', 'male', 'male', 'male', 'male', 'male', 'male', 'male', 'male', 'male', 'male', 'male', 'male', 'male', 'male', 'male', 'male', 'male', 'male', 'male', 'male', 'male', 'male', 'male', 'male', 'male', 'male', 'male', 'male', 'male', 'male', 'male', 'male', 'male', 'male', 'male', 'male', 'male', 'male', 'male', 'male', 'male', 'male', 'male', 'male', 'male', 'male', 'male', 'male', 'male', 'male', 'male', 'male', 'male', 'male', 'male', 'male', 'male', 'male', 'male', 'male', 'male', 'male', 'male', 'male', 'male', 'male', 'male', 'male', 'male', 'male', 'male', 'male', 'male', 'male', 'male', 'male', 'male', 'male', 'male', 'male', 'male', 'male', 'male', 'male', 'male', 'male', 'male', 'male', 'male', 'male', 'male', 'male', 'male', 'male', 'male', 'male', 'male', 'male', 'male', 'male', 'male', 'male', 'male', 'male', 'male', 'male', 'male', 'male', 'male', 'male', 'male', 'male', 'male', 'male', 'male', 'male', 'male', 'male', 'male', 'male', 'male', 'male', 'male', 'male', 'male', 'male', 'male', 'male', 'male', 'male', 'male', 'male', 'male', 'male', 'male', 'male', 'male', 'male', 'male', 'male', 'male', 'male', 'male', 'male', 'male', 'male', 'male', 'male', 'male', 'male', 'male', 'male', 'male', 'male', 'male', 'male', 'male', 'male', 'male', 'male', 'male', 'male', 'male', 'male', 'male', 'male', 'male', 'male', 'male', 'male', 'male', 'male', 'male', 'male', 'male', 'male', 'male', 'male', 'male', 'male', 'male', 'male', 'male', 'male', 'male', 'male', 'male', 'male', 'male', 'male', 'male', 'male', 'male', 'male', 'male', 'male', 'male', 'male', 'male', 'male', 'male', 'male', 'male', 'male', 'male', 'male', 'male', 'male', 'male', 'male', 'male', 'male', 'male', 'male', 'male', 'male', 'male', 'male', 'male', 'male', 'male', 'male', 'male', 'male', 'male', 'male', 'male', 'male', 'male', 'male', 'male', 'male', 'male', 'male', 'male', 'male', 'male', 'male', 'male', 'male', 'male', 'male', 'male', 'male', 'male', 'male', 'male', 'male', 'male', 'male', 'male', 'male', 'male', 'male', 'male', 'male', 'male', 'male', 'male', 'male', 'male', 'male', 'male', 'male', 'male', 'male', 'male', 'male', 'male', 'male', 'male', 'male', 'male', 'male', 'male', 'male', 'male', 'male', 'male', 'male', 'male', 'male', 'male', 'male', 'male', 'male', 'male', 'male', 'male', 'male', 'male', 'male', 'male', 'male', 'male', 'male', 'male', 'male', 'male', 'male', 'male', 'male', 'male', 'male', 'male', 'male', 'male', 'male', 'male', 'male', 'male', 'male', 'male', 'male', 'male', 'male', 'male', 'male', 'male', 'male', 'male', 'male', 'male', 'male', 'male', 'male', 'male', 'male', 'male', 'male', 'male', 'male', 'male', 'male', 'male', 'male', 'male', 'male', 'male', 'male', 'male', 'male', 'male', 'male', 'male', 'male', 'male', 'male', 'male', 'male', 'male', 'male', 'male', 'male', 'male', 'male', 'male', 'male', 'male', 'male', 'male', 'male', 'male', 'male', 'male', 'male', 'male', 'male', 'male', 'male', 'male', 'male', 'male', 'male', 'male', 'male', 'male', 'male', 'male', 'male', 'male', 'male', 'male', 'male', 'male', 'male', 'male', 'male', 'male', 'male', 'male', 'male', 'male', 'male', 'male', 'male', 'male', 'male', 'male', 'male', 'male', 'male', 'male', 'male', 'male', 'male', 'male', 'male', 'male', 'male', 'male', 'male', 'male', 'male', 'male', 'male', 'male', 'male', 'male', 'male', 'male', 'male', 'male', 'male', 'male', 'male', 'male', 'male', 'male', 'male', 'male', 'male', 'male', 'male', 'male', 'male', 'male', 'male', 'male', 'male', 'male', 'male', 'male', 'male', 'male', 'male', 'male', 'male', 'male', 'male', 'male', 'male', 'male', 'male', 'male', 'male', 'male', 'male', 'male', 'male', 'male', 'male', 'male', 'male', 'male', 'male', 'male', 'male', 'male', 'male', 'male', 'male', 'male', 'male', 'male', 'male', 'male', 'male', 'male', 'male', 'male', 'male', 'male', 'male', 'male', 'male', 'male', 'male', 'male', 'male', 'male', 'male', 'male', 'male', 'male', 'male', 'male', 'male', 'male', 'male', 'male', 'male', 'male', 'male', 'male', 'male', 'male', 'male', 'male', 'male', 'male', 'male', 'male', 'male', 'male', 'male', 'male', 'male', 'male', 'male', 'male', 'male', 'male', 'male', 'male', 'male', 'male', 'male', 'male', 'male', 'male', 'male', 'male', 'male', 'male', 'male', 'male', 'male', 'male', 'male', 'male', 'male', 'male', 'male', 'male', 'male', 'male', 'male', 'male', 'male', 'male', 'male', 'male', 'male', 'male', 'male', 'male', 'male', 'male', 'male', 'male', 'male', 'male', 'male', 'male', 'male', 'male', 'male', 'male', 'male', 'male', 'male', 'male', 'male', 'male', 'male', 'male', 'male', 'male', 'male', 'male', 'male', 'male', 'male', 'male', 'male', 'male', 'male', 'male', 'male', 'male', 'male', 'male', 'male', 'male', 'male', 'male', 'male', 'male', 'male', 'male', 'male', 'male', 'male', 'male', 'male', 'male', 'male', 'male', 'male', 'male', 'male', 'male', 'male', 'male', 'male', 'male', 'male', 'male', 'male', 'male', 'male', 'male', 'male', 'male', 'male', 'male', 'male', 'male', 'male', 'male', 'male', 'male', 'male', 'male', 'male', 'male', 'male', 'male', 'male', 'male', 'male', 'male', 'male', 'male', 'male', 'male', 'male', 'male', 'male', 'male', 'male', 'male', 'male', 'male', 'male', 'male', 'male', 'male', 'male', 'male', 'male', 'male', 'male', 'male', 'male', 'male', 'male', 'male', 'male', 'male', 'male', 'male', 'male', 'male', 'male', 'male', 'male', 'male', 'male', 'male', 'male', 'male', 'male', 'male', 'male', 'male', 'male', 'male', 'male', 'male', 'male', 'male', 'male', 'male', 'male', 'male', 'male', 'male', 'male', 'male', 'male', 'male', 'male', 'male', 'male', 'male', 'male', 'male', 'male', 'male', 'male', 'male', 'male', 'male', 'male', 'male', 'male', 'male', 'male', 'male', 'male', 'male', 'male', 'male', 'male', 'male', 'male', 'male', 'male', 'male', 'male', 'male', 'male', 'male', 'male', 'male', 'male', 'male', 'male', 'male', 'male', 'male', 'male', 'male', 'male', 'male', 'male', 'male', 'male', 'male', 'male', 'male', 'male', 'male', 'male', 'male', 'male', 'male', 'male', 'male', 'male', 'male', 'male', 'male', 'male', 'male', 'male', 'male', 'male', 'male', 'male', 'male', 'male', 'male', 'male', 'male', 'male', 'female', 'female', 'female', 'female', 'female', 'female', 'female', 'female', 'female', 'female', 'female', 'female', 'female', 'female', 'female', 'female', 'female', 'female', 'female', 'female', 'female', 'female', 'female', 'female', 'female', 'female', 'female', 'female', 'female', 'female', 'female', 'female', 'female', 'female', 'female', 'female', 'female', 'female', 'female', 'female', 'female', 'female', 'female', 'female', 'female', 'female', 'female', 'female', 'female', 'female', 'female', 'female', 'female', 'female', 'female', 'female', 'female', 'female', 'female', 'female', 'female', 'female', 'female', 'female', 'female', 'female', 'female', 'female', 'female', 'female', 'female', 'female', 'female', 'female', 'female', 'female', 'female', 'female', 'female', 'female', 'female', 'female', 'female', 'female', 'female', 'female', 'female', 'female', 'female', 'female', 'female', 'female', 'female', 'female', 'female', 'female', 'female', 'female', 'female', 'female', 'female', 'female', 'female', 'female', 'female', 'female', 'female', 'female', 'female', 'female', 'female', 'female', 'female', 'female', 'female', 'female', 'female', 'female', 'female', 'female', 'female', 'female', 'female', 'female', 'female', 'female', 'female', 'female', 'female', 'female', 'female', 'female', 'female', 'female', 'female', 'female', 'female', 'female', 'female', 'female', 'female', 'female', 'female', 'female', 'female', 'female', 'female', 'female', 'female', 'female', 'female', 'female', 'female', 'female', 'female', 'female', 'female', 'female', 'female', 'female', 'female', 'female', 'female', 'female', 'female', 'female', 'female', 'female', 'female', 'female', 'female', 'female', 'female', 'female', 'female', 'female', 'female', 'female', 'female', 'female', 'female', 'female', 'female', 'female', 'female', 'female', 'female', 'female', 'female', 'female', 'female', 'female', 'female', 'female', 'female', 'female', 'female', 'female', 'female', 'female', 'female', 'female', 'female', 'female', 'female', 'female', 'female', 'female', 'female', 'female', 'female', 'female', 'female', 'female', 'female', 'female', 'female', 'female', 'female', 'female', 'female', 'female', 'female', 'female', 'female', 'female', 'female', 'female', 'female', 'female', 'female', 'female', 'female', 'male', 'male', 'male', 'male', 'male', 'male', 'male', 'male', 'male', 'male', 'male', 'male', 'male', 'male', 'male', 'male', 'male', 'male', 'male', 'male', 'male', 'male', 'male', 'male', 'male', 'male', 'male', 'male', 'male', 'male', 'male', 'male', 'male', 'male', 'male', 'male', 'male', 'male', 'male', 'male', 'male', 'male', 'male', 'male', 'male', 'male', 'male', 'male', 'male', 'male', 'male', 'male', 'male', 'male', 'male', 'male', 'male', 'male', 'male', 'male', 'male', 'male', 'male', 'male', 'male', 'male', 'male', 'male', 'male', 'male', 'male', 'male', 'male', 'male', 'male', 'male', 'male', 'male', 'male', 'male', 'male', 'male', 'male', 'male', 'male', 'male', 'male', 'male', 'male', 'male', 'male', 'male', 'male', 'male', 'male', 'male', 'male', 'male', 'male', 'male', 'male', 'male', 'male', 'male', 'male', 'male', 'male', 'male', 'male', 'male', 'male', 'male', 'male', 'male', 'male', 'male', 'male', 'male', 'male', 'male', 'male', 'male', 'male', 'male', 'male', 'male', 'male', 'male', 'male', 'male', 'male', 'male', 'male', 'male', 'male', 'male', 'male', 'male', 'male', 'male', 'male', 'male', 'male', 'male', 'male', 'male', 'male', 'male', 'male', 'male', 'male', 'male', 'male', 'male', 'male', 'male', 'male', 'male', 'male', 'male', 'male', 'male', 'male', 'male', 'male', 'male', 'male', 'male', 'male', 'male', 'male', 'male', 'male', 'male', 'male', 'male', 'male', 'male', 'male', 'male', 'male', 'male', 'male', 'male', 'male', 'male', 'male', 'male', 'male', 'male', 'male', 'male', 'male', 'male', 'male', 'male', 'male', 'male', 'male', 'male', 'male', 'male', 'male', 'male', 'male', 'male', 'male', 'male', 'male', 'male', 'male', 'male', 'male', 'male', 'male', 'male', 'male', 'male', 'male', 'male', 'male', 'male', 'male', 'male', 'male', 'male', 'male', 'male', 'male', 'male', 'male', 'male', 'male', 'male', 'male', 'male', 'male', 'male', 'male', 'male', 'male', 'male', 'male', 'male', 'male', 'male', 'male', 'male', 'male', 'male', 'male', 'male', 'male', 'male', 'male', 'male', 'male', 'male', 'male', 'male', 'male', 'male', 'male', 'male', 'male', 'male', 'female', 'female', 'female', 'female', 'female', 'female', 'female', 'female', 'female', 'female', 'female', 'female', 'female', 'female', 'female', 'female', 'female', 'female', 'female', 'female', 'female', 'female', 'female', 'female', 'female', 'female', 'female', 'female', 'female', 'female', 'female', 'female', 'female', 'female', 'female', 'female', 'female', 'female', 'female', 'female', 'female', 'female', 'female', 'female', 'female', 'female', 'female', 'female', 'female', 'female', 'female', 'female', 'female', 'female', 'female', 'female', 'female', 'female', 'female', 'female', 'female', 'female', 'female', 'female', 'female', 'female', 'female', 'female', 'female', 'female', 'female', 'female', 'female', 'female']\n"
     ]
    }
   ],
   "source": [
    "#Converting list of list to a flat list\n",
    "\n",
    "aquarius_gender =  list(chain.from_iterable(aquarius_gender))\n",
    "aries_gender =  list(chain.from_iterable(aries_gender))\n",
    "cancer_gender =  list(chain.from_iterable(cancer_gender))\n",
    "capricorn_gender =  list(chain.from_iterable(capricorn_gender))\n",
    "gemini_gender =  list(chain.from_iterable(gemini_gender))\n",
    "leo_gender =  list(chain.from_iterable(leo_gender))\n",
    "libra_gender =  list(chain.from_iterable(libra_gender))\n",
    "pisces_gender =  list(chain.from_iterable(pisces_gender))\n",
    "sagitarius_gender =  list(chain.from_iterable(sagitarius_gender))\n",
    "taurus_gender =  list(chain.from_iterable(taurus_gender))\n",
    "virgo_gender =  list(chain.from_iterable(virgo_gender))\n",
    "scorpio_gender = list(chain.from_iterable(scorpio_gender))\n",
    "\n",
    "print(aquarius_gender)"
   ]
  },
  {
   "cell_type": "code",
   "execution_count": 107,
   "metadata": {},
   "outputs": [],
   "source": [
    "#joining all lists in one list\n",
    "\n",
    "all_classes = [Aquariuslist,Arieslist,Cancerlist,Capricornlist,Geminilist,Leolist,Libralist,Pisceslist,Sagittariuslist,Scorpiolist,Tauruslist,Virgolist]\n",
    "all_classes_gender = [aquarius_gender,aries_gender,cancer_gender,capricorn_gender,gemini_gender,leo_gender,libra_gender,pisces_gender,sagitarius_gender,scorpio_gender,taurus_gender,virgo_gender]\n",
    "all_classes_names = [\"Aquariuslist\",\"Arieslist\",\"Cancerlist\",\"Capricornlist\",\"Geminilist\",\"Leolist\",\"Libralist\",\"Pisceslist\",\"Sagittarius\",\"Scorpiolist\",\"Tauruslist\",\"Virgolist\"]\n"
   ]
  },
  {
   "cell_type": "code",
   "execution_count": 108,
   "metadata": {},
   "outputs": [
    {
     "name": "stdout",
     "output_type": "stream",
     "text": [
      "9671\n",
      "22216\n",
      "17022\n",
      "11349\n",
      "10823\n",
      "14490\n",
      "15892\n",
      "11482\n",
      "11447\n",
      "14530\n",
      "15872\n",
      "14994\n"
     ]
    }
   ],
   "source": [
    "#size of all lists\n",
    "\n",
    "for i in all_classes:\n",
    "    print (len(i))"
   ]
  },
  {
   "cell_type": "code",
   "execution_count": 109,
   "metadata": {},
   "outputs": [],
   "source": [
    "all_posts = pd.DataFrame()"
   ]
  },
  {
   "cell_type": "code",
   "execution_count": 110,
   "metadata": {},
   "outputs": [],
   "source": [
    "import numpy as np"
   ]
  },
  {
   "cell_type": "code",
   "execution_count": 111,
   "metadata": {},
   "outputs": [
    {
     "name": "stdout",
     "output_type": "stream",
     "text": [
      "0\n",
      "Aquariuslist\n",
      "(9671, 2)\n",
      "9671\n",
      "male      5241\n",
      "female    4430\n",
      "Name: gender, dtype: int64\n",
      "(9671, 3)\n",
      "1\n",
      "Arieslist\n",
      "(22216, 2)\n",
      "22216\n",
      "male      16213\n",
      "female     6003\n",
      "Name: gender, dtype: int64\n",
      "(22216, 3)\n",
      "2\n",
      "Cancerlist\n",
      "(17022, 2)\n",
      "17022\n",
      "female    10406\n",
      "male       6616\n",
      "Name: gender, dtype: int64\n",
      "(17022, 3)\n",
      "3\n",
      "Capricornlist\n",
      "(11349, 2)\n",
      "11349\n",
      "female    6426\n",
      "male      4923\n",
      "Name: gender, dtype: int64\n",
      "(11349, 3)\n",
      "4\n",
      "Geminilist\n",
      "(10823, 2)\n",
      "10823\n",
      "male      6395\n",
      "female    4428\n",
      "Name: gender, dtype: int64\n",
      "(10823, 3)\n",
      "5\n",
      "Leolist\n",
      "(14490, 2)\n",
      "14490\n",
      "male      8977\n",
      "female    5513\n",
      "Name: gender, dtype: int64\n",
      "(14490, 3)\n",
      "6\n",
      "Libralist\n",
      "(15892, 2)\n",
      "15892\n",
      "female    8360\n",
      "male      7532\n",
      "Name: gender, dtype: int64\n",
      "(15892, 3)\n",
      "7\n",
      "Pisceslist\n",
      "(11482, 2)\n",
      "11482\n",
      "male      6229\n",
      "female    5253\n",
      "Name: gender, dtype: int64\n",
      "(11482, 3)\n",
      "8\n",
      "Sagittarius\n",
      "(11447, 2)\n",
      "11447\n",
      "male      6449\n",
      "female    4998\n",
      "Name: gender, dtype: int64\n",
      "(11447, 3)\n",
      "9\n",
      "Scorpiolist\n",
      "(14530, 2)\n",
      "14530\n",
      "male      7285\n",
      "female    7245\n",
      "Name: gender, dtype: int64\n",
      "(14530, 3)\n",
      "10\n",
      "Tauruslist\n",
      "(15872, 2)\n",
      "15872\n",
      "male      11106\n",
      "female     4766\n",
      "Name: gender, dtype: int64\n",
      "(15872, 3)\n",
      "11\n",
      "Virgolist\n",
      "(14994, 2)\n",
      "14994\n",
      "female    8557\n",
      "male      6437\n",
      "Name: gender, dtype: int64\n",
      "(14994, 3)\n"
     ]
    }
   ],
   "source": [
    "#creating data frames to store gender and star with a blog\n",
    "\n",
    "for index,stars_ in enumerate(all_classes):\n",
    "    print (index)\n",
    "    name_ = all_classes_names[index]\n",
    "    temp_f = pd.DataFrame(stars_)\n",
    "    temp_f['star'] = name_\n",
    "    genders_ = all_classes_gender[index]\n",
    "    print (name_)\n",
    "    print (temp_f.shape)\n",
    "    print (len(genders_))\n",
    "    temp_f['gender'] = genders_\n",
    "    print (temp_f['gender'].value_counts())\n",
    "    print (temp_f.shape)\n",
    "    all_posts = all_posts.append(temp_f)"
   ]
  },
  {
   "cell_type": "code",
   "execution_count": 112,
   "metadata": {},
   "outputs": [
    {
     "data": {
      "text/html": [
       "<div>\n",
       "<style scoped>\n",
       "    .dataframe tbody tr th:only-of-type {\n",
       "        vertical-align: middle;\n",
       "    }\n",
       "\n",
       "    .dataframe tbody tr th {\n",
       "        vertical-align: top;\n",
       "    }\n",
       "\n",
       "    .dataframe thead th {\n",
       "        text-align: right;\n",
       "    }\n",
       "</style>\n",
       "<table border=\"1\" class=\"dataframe\">\n",
       "  <thead>\n",
       "    <tr style=\"text-align: right;\">\n",
       "      <th></th>\n",
       "      <th>0</th>\n",
       "      <th>star</th>\n",
       "      <th>gender</th>\n",
       "    </tr>\n",
       "  </thead>\n",
       "  <tbody>\n",
       "    <tr>\n",
       "      <th>14989</th>\n",
       "      <td>Ganked from Eric's blog:    You are a WRDF--Wa...</td>\n",
       "      <td>Virgolist</td>\n",
       "      <td>male</td>\n",
       "    </tr>\n",
       "    <tr>\n",
       "      <th>14990</th>\n",
       "      <td>So I'm pondering about converting from Blogger...</td>\n",
       "      <td>Virgolist</td>\n",
       "      <td>male</td>\n",
       "    </tr>\n",
       "    <tr>\n",
       "      <th>14991</th>\n",
       "      <td>Said this:  Naturally the common people don't ...</td>\n",
       "      <td>Virgolist</td>\n",
       "      <td>male</td>\n",
       "    </tr>\n",
       "    <tr>\n",
       "      <th>14992</th>\n",
       "      <td>Nipped from  urlLink Eric .          urlLink  ...</td>\n",
       "      <td>Virgolist</td>\n",
       "      <td>male</td>\n",
       "    </tr>\n",
       "    <tr>\n",
       "      <th>14993</th>\n",
       "      <td>Category III - The Regular Jo(e)    You are th...</td>\n",
       "      <td>Virgolist</td>\n",
       "      <td>male</td>\n",
       "    </tr>\n",
       "  </tbody>\n",
       "</table>\n",
       "</div>"
      ],
      "text/plain": [
       "                                                       0       star gender\n",
       "14989  Ganked from Eric's blog:    You are a WRDF--Wa...  Virgolist   male\n",
       "14990  So I'm pondering about converting from Blogger...  Virgolist   male\n",
       "14991  Said this:  Naturally the common people don't ...  Virgolist   male\n",
       "14992  Nipped from  urlLink Eric .          urlLink  ...  Virgolist   male\n",
       "14993  Category III - The Regular Jo(e)    You are th...  Virgolist   male"
      ]
     },
     "execution_count": 112,
     "metadata": {},
     "output_type": "execute_result"
    }
   ],
   "source": [
    "all_posts.tail()"
   ]
  },
  {
   "cell_type": "code",
   "execution_count": 113,
   "metadata": {},
   "outputs": [
    {
     "data": {
      "text/html": [
       "<div>\n",
       "<style scoped>\n",
       "    .dataframe tbody tr th:only-of-type {\n",
       "        vertical-align: middle;\n",
       "    }\n",
       "\n",
       "    .dataframe tbody tr th {\n",
       "        vertical-align: top;\n",
       "    }\n",
       "\n",
       "    .dataframe thead th {\n",
       "        text-align: right;\n",
       "    }\n",
       "</style>\n",
       "<table border=\"1\" class=\"dataframe\">\n",
       "  <thead>\n",
       "    <tr style=\"text-align: right;\">\n",
       "      <th></th>\n",
       "      <th>0</th>\n",
       "      <th>star</th>\n",
       "      <th>gender</th>\n",
       "    </tr>\n",
       "  </thead>\n",
       "  <tbody>\n",
       "    <tr>\n",
       "      <th>0</th>\n",
       "      <td>SARAH'S TECH TOY OF THE WEEK  Your officemates...</td>\n",
       "      <td>Aquariuslist</td>\n",
       "      <td>male</td>\n",
       "    </tr>\n",
       "    <tr>\n",
       "      <th>1</th>\n",
       "      <td>i can't really say i knew any of that dan. but...</td>\n",
       "      <td>Aquariuslist</td>\n",
       "      <td>male</td>\n",
       "    </tr>\n",
       "    <tr>\n",
       "      <th>2</th>\n",
       "      <td>SW33T THANGS: Did You Know?  #1 - Listening to...</td>\n",
       "      <td>Aquariuslist</td>\n",
       "      <td>male</td>\n",
       "    </tr>\n",
       "    <tr>\n",
       "      <th>3</th>\n",
       "      <td>I will not buy an iPod until it does voice rec...</td>\n",
       "      <td>Aquariuslist</td>\n",
       "      <td>male</td>\n",
       "    </tr>\n",
       "    <tr>\n",
       "      <th>4</th>\n",
       "      <td>What about ipod's anyone got one?</td>\n",
       "      <td>Aquariuslist</td>\n",
       "      <td>male</td>\n",
       "    </tr>\n",
       "  </tbody>\n",
       "</table>\n",
       "</div>"
      ],
      "text/plain": [
       "                                                   0          star gender\n",
       "0  SARAH'S TECH TOY OF THE WEEK  Your officemates...  Aquariuslist   male\n",
       "1  i can't really say i knew any of that dan. but...  Aquariuslist   male\n",
       "2  SW33T THANGS: Did You Know?  #1 - Listening to...  Aquariuslist   male\n",
       "3  I will not buy an iPod until it does voice rec...  Aquariuslist   male\n",
       "4                  What about ipod's anyone got one?  Aquariuslist   male"
      ]
     },
     "execution_count": 113,
     "metadata": {},
     "output_type": "execute_result"
    }
   ],
   "source": [
    "all_posts.head()"
   ]
  },
  {
   "cell_type": "code",
   "execution_count": 114,
   "metadata": {},
   "outputs": [
    {
     "data": {
      "text/plain": [
       "male      93403\n",
       "female    76385\n",
       "Name: gender, dtype: int64"
      ]
     },
     "execution_count": 114,
     "metadata": {},
     "output_type": "execute_result"
    }
   ],
   "source": [
    "all_posts.gender.value_counts()"
   ]
  },
  {
   "cell_type": "code",
   "execution_count": 115,
   "metadata": {},
   "outputs": [
    {
     "data": {
      "text/plain": [
       "Arieslist        22216\n",
       "Cancerlist       17022\n",
       "Libralist        15892\n",
       "Tauruslist       15872\n",
       "Virgolist        14994\n",
       "Scorpiolist      14530\n",
       "Leolist          14490\n",
       "Pisceslist       11482\n",
       "Sagittarius      11447\n",
       "Capricornlist    11349\n",
       "Geminilist       10823\n",
       "Aquariuslist      9671\n",
       "Name: star, dtype: int64"
      ]
     },
     "execution_count": 115,
     "metadata": {},
     "output_type": "execute_result"
    }
   ],
   "source": [
    "all_posts.star.value_counts()"
   ]
  },
  {
   "cell_type": "code",
   "execution_count": 116,
   "metadata": {},
   "outputs": [],
   "source": [
    "all_posts = all_posts.rename(columns={0:\"post\"})"
   ]
  },
  {
   "cell_type": "code",
   "execution_count": 117,
   "metadata": {},
   "outputs": [
    {
     "data": {
      "text/html": [
       "<div>\n",
       "<style scoped>\n",
       "    .dataframe tbody tr th:only-of-type {\n",
       "        vertical-align: middle;\n",
       "    }\n",
       "\n",
       "    .dataframe tbody tr th {\n",
       "        vertical-align: top;\n",
       "    }\n",
       "\n",
       "    .dataframe thead th {\n",
       "        text-align: right;\n",
       "    }\n",
       "</style>\n",
       "<table border=\"1\" class=\"dataframe\">\n",
       "  <thead>\n",
       "    <tr style=\"text-align: right;\">\n",
       "      <th></th>\n",
       "      <th>post</th>\n",
       "      <th>star</th>\n",
       "      <th>gender</th>\n",
       "    </tr>\n",
       "  </thead>\n",
       "  <tbody>\n",
       "    <tr>\n",
       "      <th>0</th>\n",
       "      <td>SARAH'S TECH TOY OF THE WEEK  Your officemates...</td>\n",
       "      <td>Aquariuslist</td>\n",
       "      <td>male</td>\n",
       "    </tr>\n",
       "    <tr>\n",
       "      <th>1</th>\n",
       "      <td>i can't really say i knew any of that dan. but...</td>\n",
       "      <td>Aquariuslist</td>\n",
       "      <td>male</td>\n",
       "    </tr>\n",
       "    <tr>\n",
       "      <th>2</th>\n",
       "      <td>SW33T THANGS: Did You Know?  #1 - Listening to...</td>\n",
       "      <td>Aquariuslist</td>\n",
       "      <td>male</td>\n",
       "    </tr>\n",
       "    <tr>\n",
       "      <th>3</th>\n",
       "      <td>I will not buy an iPod until it does voice rec...</td>\n",
       "      <td>Aquariuslist</td>\n",
       "      <td>male</td>\n",
       "    </tr>\n",
       "    <tr>\n",
       "      <th>4</th>\n",
       "      <td>What about ipod's anyone got one?</td>\n",
       "      <td>Aquariuslist</td>\n",
       "      <td>male</td>\n",
       "    </tr>\n",
       "  </tbody>\n",
       "</table>\n",
       "</div>"
      ],
      "text/plain": [
       "                                                post          star gender\n",
       "0  SARAH'S TECH TOY OF THE WEEK  Your officemates...  Aquariuslist   male\n",
       "1  i can't really say i knew any of that dan. but...  Aquariuslist   male\n",
       "2  SW33T THANGS: Did You Know?  #1 - Listening to...  Aquariuslist   male\n",
       "3  I will not buy an iPod until it does voice rec...  Aquariuslist   male\n",
       "4                  What about ipod's anyone got one?  Aquariuslist   male"
      ]
     },
     "execution_count": 117,
     "metadata": {},
     "output_type": "execute_result"
    }
   ],
   "source": [
    "all_posts.head()"
   ]
  },
  {
   "cell_type": "code",
   "execution_count": 118,
   "metadata": {},
   "outputs": [],
   "source": [
    "# pip install --user -U nltk"
   ]
  },
  {
   "cell_type": "code",
   "execution_count": 119,
   "metadata": {},
   "outputs": [],
   "source": [
    "from nltk.corpus import stopwords"
   ]
  },
  {
   "cell_type": "code",
   "execution_count": 120,
   "metadata": {},
   "outputs": [],
   "source": [
    "# cleaning blog data\n",
    "\n",
    "\n",
    "all_posts = all_posts.reset_index(drop=True)\n",
    "REPLACE_BY_SPACE_RE = re.compile('[/(){}\\[\\]\\|@,;]')\n",
    "BAD_SYMBOLS_RE = re.compile('[^0-9a-z #+_]')\n",
    "STOPWORDS = set(stopwords.words('english'))\n",
    "\n",
    "def clean_text(text):\n",
    "    \"\"\"\n",
    "        text: a string\n",
    "        \n",
    "        return: modified initial string\n",
    "    \"\"\"\n",
    "    text = text.lower() # lowercase text\n",
    "    text = REPLACE_BY_SPACE_RE.sub(' ', text) # replace REPLACE_BY_SPACE_RE symbols by space in text. substitute the matched string in REPLACE_BY_SPACE_RE with space.\n",
    "    text = BAD_SYMBOLS_RE.sub('', text) # remove symbols which are in BAD_SYMBOLS_RE from text. substitute the matched string in BAD_SYMBOLS_RE with nothing. \n",
    "    text = ' '.join(word for word in text.split() if word not in STOPWORDS) # remove stopwors from text\n",
    "    return text\n",
    "all_posts['post'] = all_posts['post'].apply(clean_text)\n",
    "all_posts['post'] = all_posts['post'].str.replace('\\d+', '')"
   ]
  },
  {
   "cell_type": "code",
   "execution_count": 121,
   "metadata": {},
   "outputs": [
    {
     "data": {
      "text/html": [
       "<div>\n",
       "<style scoped>\n",
       "    .dataframe tbody tr th:only-of-type {\n",
       "        vertical-align: middle;\n",
       "    }\n",
       "\n",
       "    .dataframe tbody tr th {\n",
       "        vertical-align: top;\n",
       "    }\n",
       "\n",
       "    .dataframe thead th {\n",
       "        text-align: right;\n",
       "    }\n",
       "</style>\n",
       "<table border=\"1\" class=\"dataframe\">\n",
       "  <thead>\n",
       "    <tr style=\"text-align: right;\">\n",
       "      <th></th>\n",
       "      <th>post</th>\n",
       "      <th>star</th>\n",
       "      <th>gender</th>\n",
       "    </tr>\n",
       "  </thead>\n",
       "  <tbody>\n",
       "    <tr>\n",
       "      <th>0</th>\n",
       "      <td>sarahs tech toy week officemates going think l...</td>\n",
       "      <td>Aquariuslist</td>\n",
       "      <td>male</td>\n",
       "    </tr>\n",
       "    <tr>\n",
       "      <th>1</th>\n",
       "      <td>cant really say knew dan thing pc design mac b...</td>\n",
       "      <td>Aquariuslist</td>\n",
       "      <td>male</td>\n",
       "    </tr>\n",
       "    <tr>\n",
       "      <th>2</th>\n",
       "      <td>swt thangs know # listening headphones moving ...</td>\n",
       "      <td>Aquariuslist</td>\n",
       "      <td>male</td>\n",
       "    </tr>\n",
       "    <tr>\n",
       "      <th>3</th>\n",
       "      <td>buy ipod voice recording becomes pda</td>\n",
       "      <td>Aquariuslist</td>\n",
       "      <td>male</td>\n",
       "    </tr>\n",
       "    <tr>\n",
       "      <th>4</th>\n",
       "      <td>ipods anyone got one</td>\n",
       "      <td>Aquariuslist</td>\n",
       "      <td>male</td>\n",
       "    </tr>\n",
       "  </tbody>\n",
       "</table>\n",
       "</div>"
      ],
      "text/plain": [
       "                                                post          star gender\n",
       "0  sarahs tech toy week officemates going think l...  Aquariuslist   male\n",
       "1  cant really say knew dan thing pc design mac b...  Aquariuslist   male\n",
       "2  swt thangs know # listening headphones moving ...  Aquariuslist   male\n",
       "3               buy ipod voice recording becomes pda  Aquariuslist   male\n",
       "4                               ipods anyone got one  Aquariuslist   male"
      ]
     },
     "execution_count": 121,
     "metadata": {},
     "output_type": "execute_result"
    }
   ],
   "source": [
    "all_posts.head()"
   ]
  },
  {
   "cell_type": "code",
   "execution_count": 122,
   "metadata": {},
   "outputs": [],
   "source": [
    "from keras.preprocessing import text, sequence\n",
    "from sklearn.model_selection import train_test_split\n",
    "from keras.models import Sequential\n",
    "from keras.layers import Dense, Activation, Dropout,Embedding,SpatialDropout1D,LSTM\n",
    "from keras.callbacks import EarlyStopping\n",
    "from keras.models import Model\n",
    "from keras.layers import Input\n"
   ]
  },
  {
   "cell_type": "code",
   "execution_count": 123,
   "metadata": {},
   "outputs": [
    {
     "name": "stdout",
     "output_type": "stream",
     "text": [
      "Found 363879 unique tokens.\n"
     ]
    }
   ],
   "source": [
    "\n",
    "# The maximum number of words to be used. (most frequent)\n",
    "MAX_NB_WORDS = 50000\n",
    "# Max number of words in each bolg.\n",
    "MAX_SEQUENCE_LENGTH = 400\n",
    "# This is fixed.\n",
    "EMBEDDING_DIM = 100\n",
    "tokenizer = text.Tokenizer(num_words=MAX_NB_WORDS, filters='!\"#$%&()*+,-./:;<=>?@[\\]^_`{|}~', lower=True)\n",
    "tokenizer.fit_on_texts(all_posts['post'].values)\n",
    "word_index = tokenizer.word_index\n",
    "print('Found %s unique tokens.' % len(word_index))"
   ]
  },
  {
   "cell_type": "code",
   "execution_count": 124,
   "metadata": {},
   "outputs": [
    {
     "name": "stdout",
     "output_type": "stream",
     "text": [
      "Shape of data tensor: (169788, 400)\n"
     ]
    }
   ],
   "source": [
    "X = tokenizer.texts_to_sequences(all_posts['post'].values)\n",
    "X = sequence.pad_sequences(X, maxlen=MAX_SEQUENCE_LENGTH)\n",
    "print('Shape of data tensor:', X.shape)"
   ]
  },
  {
   "cell_type": "code",
   "execution_count": 125,
   "metadata": {},
   "outputs": [
    {
     "name": "stdout",
     "output_type": "stream",
     "text": [
      "Shape of label tensor: (169788, 12)\n"
     ]
    }
   ],
   "source": [
    "#one out encoding star labels\n",
    "\n",
    "Y_star = pd.get_dummies(all_posts['star']).values\n",
    "print('Shape of label tensor:', Y_star.shape)"
   ]
  },
  {
   "cell_type": "code",
   "execution_count": 126,
   "metadata": {},
   "outputs": [
    {
     "name": "stdout",
     "output_type": "stream",
     "text": [
      "Shape of label tensor: (169788, 2)\n"
     ]
    }
   ],
   "source": [
    "Y_gender = pd.get_dummies(all_posts['gender']).values\n",
    "print('Shape of label tensor:', Y_gender.shape)"
   ]
  },
  {
   "cell_type": "code",
   "execution_count": 127,
   "metadata": {},
   "outputs": [],
   "source": [
    "X_2 = np.append(X,all_posts['gender'].values.reshape(-1,1),axis=1)"
   ]
  },
  {
   "cell_type": "code",
   "execution_count": 128,
   "metadata": {},
   "outputs": [
    {
     "data": {
      "text/plain": [
       "(169788, 401)"
      ]
     },
     "execution_count": 128,
     "metadata": {},
     "output_type": "execute_result"
    }
   ],
   "source": [
    "X_2.shape"
   ]
  },
  {
   "cell_type": "code",
   "execution_count": 129,
   "metadata": {},
   "outputs": [
    {
     "name": "stdout",
     "output_type": "stream",
     "text": [
      "(152809, 401) (152809, 12)\n",
      "(16979, 401) (16979, 12)\n"
     ]
    }
   ],
   "source": [
    "#data Spliting in training and testing data\n",
    "\n",
    "X_train, X_test, Y_train, Y_test = train_test_split(X_2,Y_star, test_size = 0.10, random_state = 42)\n",
    "print(X_train.shape,Y_train.shape)\n",
    "print(X_test.shape,Y_test.shape)"
   ]
  },
  {
   "cell_type": "code",
   "execution_count": 130,
   "metadata": {},
   "outputs": [],
   "source": [
    "Y_train_gender = X_train[:,-1]\n",
    "Y_test_gender = X_test[:,-1]"
   ]
  },
  {
   "cell_type": "code",
   "execution_count": 131,
   "metadata": {},
   "outputs": [
    {
     "data": {
      "text/plain": [
       "array(['female', 'female', 'male', ..., 'male', 'female', 'female'],\n",
       "      dtype=object)"
      ]
     },
     "execution_count": 131,
     "metadata": {},
     "output_type": "execute_result"
    }
   ],
   "source": [
    "Y_train_gender"
   ]
  },
  {
   "cell_type": "code",
   "execution_count": 132,
   "metadata": {},
   "outputs": [
    {
     "data": {
      "text/plain": [
       "array(['female', 'female', 'male', ..., 'male', 'female', 'male'],\n",
       "      dtype=object)"
      ]
     },
     "execution_count": 132,
     "metadata": {},
     "output_type": "execute_result"
    }
   ],
   "source": [
    "Y_test_gender"
   ]
  },
  {
   "cell_type": "code",
   "execution_count": 133,
   "metadata": {},
   "outputs": [
    {
     "name": "stdout",
     "output_type": "stream",
     "text": [
      "Shape of label tensor: (152809, 2)\n"
     ]
    }
   ],
   "source": [
    "#one out encoding gender labels\n",
    "\n",
    "Y_train_gender = pd.get_dummies(Y_train_gender).values\n",
    "print('Shape of label tensor:', Y_train_gender.shape)"
   ]
  },
  {
   "cell_type": "code",
   "execution_count": 134,
   "metadata": {},
   "outputs": [
    {
     "name": "stdout",
     "output_type": "stream",
     "text": [
      "Shape of label tensor: (16979, 2)\n"
     ]
    }
   ],
   "source": [
    "#one out encoding gender labels\n",
    "\n",
    "Y_test_gender = pd.get_dummies(Y_test_gender).values\n",
    "print('Shape of label tensor:', Y_test_gender.shape)"
   ]
  },
  {
   "cell_type": "code",
   "execution_count": 135,
   "metadata": {},
   "outputs": [],
   "source": [
    "X_train = np.delete(X_train,-1,axis=1)"
   ]
  },
  {
   "cell_type": "code",
   "execution_count": 136,
   "metadata": {},
   "outputs": [],
   "source": [
    "X_test = np.delete(X_test,-1,axis=1)"
   ]
  },
  {
   "cell_type": "code",
   "execution_count": 137,
   "metadata": {},
   "outputs": [
    {
     "data": {
      "text/plain": [
       "(16979, 400)"
      ]
     },
     "execution_count": 137,
     "metadata": {},
     "output_type": "execute_result"
    }
   ],
   "source": [
    "X_test.shape"
   ]
  },
  {
   "cell_type": "code",
   "execution_count": 143,
   "metadata": {},
   "outputs": [],
   "source": [
    "#Creating Model\n",
    "\n",
    "\n",
    "input_1 = Input(shape=(X.shape[1],))\n",
    "emb = Embedding(MAX_NB_WORDS, EMBEDDING_DIM)(input_1)\n",
    "drop_ = SpatialDropout1D(0.2)(emb)\n",
    "p = LSTM(100, dropout=0.2, recurrent_dropout=0.2)(drop_)\n",
    "p_2 = LSTM(100, dropout=0.2, recurrent_dropout=0.2)(drop_)\n",
    "\n",
    "output_1 = Dense(12, activation='softmax')(p_2)\n",
    "output_2 = Dense(2,activation = 'softmax')(p_2)\n",
    "\n",
    "model = Model(inputs = input_1,outputs = [output_1,output_2])\n",
    "\n",
    "model.compile(loss='categorical_crossentropy', optimizer='adam', metrics=['accuracy'])\n",
    "\n",
    "epochs = 20\n",
    "batch_size = 128"
   ]
  },
  {
   "cell_type": "code",
   "execution_count": 89,
   "metadata": {},
   "outputs": [
    {
     "name": "stdout",
     "output_type": "stream",
     "text": [
      "Model: \"model_3\"\n",
      "__________________________________________________________________________________________________\n",
      "Layer (type)                    Output Shape         Param #     Connected to                     \n",
      "==================================================================================================\n",
      "input_3 (InputLayer)            (None, 400)          0                                            \n",
      "__________________________________________________________________________________________________\n",
      "embedding_3 (Embedding)         (None, 400, 100)     5000000     input_3[0][0]                    \n",
      "__________________________________________________________________________________________________\n",
      "spatial_dropout1d_3 (SpatialDro (None, 400, 100)     0           embedding_3[0][0]                \n",
      "__________________________________________________________________________________________________\n",
      "lstm_3 (LSTM)                   (None, 100)          80400       spatial_dropout1d_3[0][0]        \n",
      "__________________________________________________________________________________________________\n",
      "dense_5 (Dense)                 (None, 12)           1212        lstm_3[0][0]                     \n",
      "__________________________________________________________________________________________________\n",
      "dense_6 (Dense)                 (None, 2)            202         lstm_3[0][0]                     \n",
      "==================================================================================================\n",
      "Total params: 5,081,814\n",
      "Trainable params: 5,081,814\n",
      "Non-trainable params: 0\n",
      "__________________________________________________________________________________________________\n"
     ]
    }
   ],
   "source": [
    "model.summary()"
   ]
  },
  {
   "cell_type": "code",
   "execution_count": 90,
   "metadata": {},
   "outputs": [],
   "source": [
    "#Creating Checkpoint\n",
    "\n",
    "from keras.callbacks import ModelCheckpoint\n",
    "import os\n",
    "\n",
    "model_filename = \"test-Epoch-{epoch:02d}.h5\"\n",
    "checkpoint_path = os.path.join('models/', model_filename)\n",
    "\n",
    "model_checkpoint = ModelCheckpoint(\n",
    "    filepath=checkpoint_path,\n",
    "    monitor='val_loss',\n",
    "    save_best_only=False,\n",
    "    save_weights_only=False,\n",
    "    mode='auto')\n",
    "\n"
   ]
  },
  {
   "cell_type": "code",
   "execution_count": 91,
   "metadata": {},
   "outputs": [
    {
     "name": "stdout",
     "output_type": "stream",
     "text": [
      "Train on 137528 samples, validate on 15281 samples\n",
      "Epoch 1/20\n",
      "137528/137528 [==============================] - 380s 3ms/step - loss: 2.9667 - dense_5_loss: 2.3597 - dense_6_loss: 0.6069 - dense_5_accuracy: 0.1818 - dense_6_accuracy: 0.6576 - val_loss: 2.7912 - val_dense_5_loss: 2.2435 - val_dense_6_loss: 0.5491 - val_dense_5_accuracy: 0.2389 - val_dense_6_accuracy: 0.7140\n",
      "Epoch 2/20\n",
      "137528/137528 [==============================] - 384s 3ms/step - loss: 2.5816 - dense_5_loss: 2.0749 - dense_6_loss: 0.5066 - dense_5_accuracy: 0.3055 - dense_6_accuracy: 0.7440 - val_loss: 2.5990 - val_dense_5_loss: 2.0650 - val_dense_6_loss: 0.5353 - val_dense_5_accuracy: 0.3072 - val_dense_6_accuracy: 0.7204\n",
      "Epoch 3/20\n",
      "137528/137528 [==============================] - 384s 3ms/step - loss: 2.2339 - dense_5_loss: 1.7834 - dense_6_loss: 0.4505 - dense_5_accuracy: 0.4111 - dense_6_accuracy: 0.7784 - val_loss: 2.5274 - val_dense_5_loss: 1.9993 - val_dense_6_loss: 0.5299 - val_dense_5_accuracy: 0.3440 - val_dense_6_accuracy: 0.7259\n",
      "Epoch 4/20\n",
      "137528/137528 [==============================] - 379s 3ms/step - loss: 1.9594 - dense_5_loss: 1.5503 - dense_6_loss: 0.4091 - dense_5_accuracy: 0.4916 - dense_6_accuracy: 0.8019 - val_loss: 2.5190 - val_dense_5_loss: 1.9821 - val_dense_6_loss: 0.5394 - val_dense_5_accuracy: 0.3667 - val_dense_6_accuracy: 0.7332\n",
      "Epoch 5/20\n",
      "137528/137528 [==============================] - 377s 3ms/step - loss: 1.7374 - dense_5_loss: 1.3603 - dense_6_loss: 0.3771 - dense_5_accuracy: 0.5537 - dense_6_accuracy: 0.8189 - val_loss: 2.5659 - val_dense_5_loss: 2.0281 - val_dense_6_loss: 0.5407 - val_dense_5_accuracy: 0.3767 - val_dense_6_accuracy: 0.7319\n",
      "Epoch 6/20\n",
      "137528/137528 [==============================] - 387s 3ms/step - loss: 1.5520 - dense_5_loss: 1.2052 - dense_6_loss: 0.3467 - dense_5_accuracy: 0.6030 - dense_6_accuracy: 0.8352 - val_loss: 2.6564 - val_dense_5_loss: 2.0988 - val_dense_6_loss: 0.5609 - val_dense_5_accuracy: 0.3817 - val_dense_6_accuracy: 0.7375\n",
      "Epoch 7/20\n",
      "137528/137528 [==============================] - 403s 3ms/step - loss: 1.4037 - dense_5_loss: 1.0807 - dense_6_loss: 0.3230 - dense_5_accuracy: 0.6390 - dense_6_accuracy: 0.8471 - val_loss: 2.7937 - val_dense_5_loss: 2.2006 - val_dense_6_loss: 0.5962 - val_dense_5_accuracy: 0.3882 - val_dense_6_accuracy: 0.7379\n"
     ]
    },
    {
     "data": {
      "text/plain": [
       "<keras.callbacks.callbacks.History at 0x7f7f71f9a048>"
      ]
     },
     "execution_count": 91,
     "metadata": {},
     "output_type": "execute_result"
    }
   ],
   "source": [
    "model.fit(x = X_train, y = [Y_train,Y_train_gender], epochs=epochs, batch_size=batch_size,validation_split=0.1,callbacks=[model_checkpoint ,EarlyStopping(monitor='val_loss', patience=3, min_delta=0.0001)])"
   ]
  },
  {
   "cell_type": "code",
   "execution_count": 92,
   "metadata": {},
   "outputs": [
    {
     "name": "stdout",
     "output_type": "stream",
     "text": [
      "Saved model to disk\n"
     ]
    }
   ],
   "source": [
    "#Save the model\n",
    "# serialize model to JSON\n",
    "model_json = model.to_json()\n",
    "with open(\"model.json\", \"w\") as json_file:\n",
    "    json_file.write(model_json)\n",
    "# serialize weights to h5\n",
    "model.save_weights(\"model.h5\")\n",
    "print(\"Saved model to disk\")"
   ]
  },
  {
   "cell_type": "code",
   "execution_count": 93,
   "metadata": {
    "pycharm": {
     "name": "#%%\n"
    }
   },
   "outputs": [
    {
     "name": "stdout",
     "output_type": "stream",
     "text": [
      "Loaded Model from disk\n",
      "[array([[0.06308147, 0.08652454, 0.05412266, 0.08469026, 0.12573579,\n",
      "        0.10549625, 0.08516134, 0.05748202, 0.07732133, 0.08590212,\n",
      "        0.09069312, 0.0837891 ]], dtype=float32), array([[0.4543634, 0.5456366]], dtype=float32)]\n",
      "Predict Star --->  Gemini\n",
      "Predict Gender  ---> male\n"
     ]
    }
   ],
   "source": [
    "#Prediction\n",
    "\n",
    "import numpy as np\n",
    "import keras.models\n",
    "from keras.models import model_from_json\n",
    "# from scipy.misc import imread, imresize,imshow\n",
    "import matplotlib.pyplot as plt\n",
    "import cv2\n",
    "from keras.preprocessing import text, sequence\n",
    "\n",
    "\n",
    "json_file = open('model.json','r')\n",
    "loaded_model_json = json_file.read()\n",
    "json_file.close()\n",
    "loaded_model = model_from_json(loaded_model_json)\n",
    "#load woeights into new model\n",
    "loaded_model.load_weights(\"model.h5\")\n",
    "print(\"Loaded Model from disk\")\n",
    "\n",
    "\n",
    "Test_blog_post = ['urlLink ATMs dispensing music?   I dont quite see the logic in that.  Im not entirely against paying a nominal fee for music, or any other media, but if I do have to pay for it I donot be much more likely to buy stuff from my own PC.']\n",
    "\n",
    "MAX_NB_WORDS = 50000\n",
    "MAX_SEQUENCE_LENGTH = 400\n",
    "tokenizer = text.Tokenizer(num_words=MAX_NB_WORDS, filters='!\"#$%&()*+,-./:;<=>?@[\\]^_`{|}~', lower=True)\n",
    "seq = tokenizer.texts_to_sequences(Test_blog_post)\n",
    "padded = sequence.pad_sequences(seq, maxlen=MAX_SEQUENCE_LENGTH)\n",
    "pred = loaded_model.predict(padded)\n",
    "\n",
    "star_labels = [\"Aquarius\",\"Aries\",\"Cancer\",\"Capricorn\",\"Gemini\",\"Leo\",\"Libra\",\"Pisces\",\"Sagittaris\",\"Scorpio\",\"Taurusl\",\"Virgo\"]\n",
    "gender_labels = [\"female\", \"male\"]\n",
    "print(pred)\n",
    "print(\"Predict Star ---> \" , star_labels[np.argmax(pred[0])])\n",
    "print('Predict Gender  --->' , gender_labels[np.argmax(pred[1])])"
   ]
  }
 ],
 "metadata": {
  "kernelspec": {
   "display_name": "Python 3",
   "language": "python",
   "name": "python3"
  },
  "language_info": {
   "codemirror_mode": {
    "name": "ipython",
    "version": 3
   },
   "file_extension": ".py",
   "mimetype": "text/x-python",
   "name": "python",
   "nbconvert_exporter": "python",
   "pygments_lexer": "ipython3",
   "version": "3.6.9"
  }
 },
 "nbformat": 4,
 "nbformat_minor": 2
}